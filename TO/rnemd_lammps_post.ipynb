{
 "cells": [
  {
   "cell_type": "markdown",
   "metadata": {},
   "source": [
    "# LAMMPS-RNEMD計算結果から粘度・熱伝導率を解析するスクリプト"
   ]
  },
  {
   "cell_type": "code",
   "execution_count": 1,
   "metadata": {},
   "outputs": [],
   "source": [
    "import matplotlib.pyplot as plt\n",
    "import numpy as np\n",
    "import pandas as pd\n",
    "import csv\n",
    "from scipy import stats"
   ]
  },
  {
   "cell_type": "markdown",
   "metadata": {},
   "source": [
    "### モーメント交換量を解析する関数"
   ]
  },
  {
   "cell_type": "code",
   "execution_count": 2,
   "metadata": {},
   "outputs": [],
   "source": [
    "def AnalyzeExchangedMomenta (prefix, name):\n",
    "    # データ読込みと平均化\n",
    "    time = []\n",
    "    mom  = []\n",
    "    area = []\n",
    "    lz   = []\n",
    "    dens = []\n",
    "    with open (prefix + name, \"r\") as fp:    \n",
    "        for i in range (2): next (fp)\n",
    "        list = fp.readlines ()\n",
    "        p = 0\n",
    "        for line in list:\n",
    "            line = line.rstrip ().split (\" \")\n",
    "            time.append (float (line[1]))\n",
    "            mom.append (float (line[2]))\n",
    "            area.append (float (line[3]))\n",
    "            lz.append (float (line[4]))\n",
    "            dens.append (float (line[5]))\n",
    "            p += 1\n",
    "    ave_lz = np.sum (lz) / float (p)\n",
    "    ave_dens = np.sum (dens) / float (p)\n",
    "    x = np.zeros (p)\n",
    "    for i in range (p): x[i] = 2.0 * time[i] * area[i]\n",
    "    \n",
    "    # 線形近似\n",
    "    slope, intercept, r_value, p_value, std_err = stats.linregress (x, mom) \n",
    "    r = r_value * r_value\n",
    "    flux = (slope / 6.0221367e23 * 1.0e15 * 1.0e-10 * 1.0e-3) * (1.0e15 * 1.0e10 * 1.0e10)  \n",
    "    \n",
    "    # グラフ化\n",
    "    fig = plt.figure (figsize = (8, 8)) \n",
    "    plt.plot (x, mom, label = \"Row data\", marker = \".\", markersize = 5, linestyle = \"none\", color = \"gray\")\n",
    "    plt.plot (x, x * slope + intercept, label = \"Fitted (R^2 = {:.3f})\".format (r), linestyle = \"solid\", color = \"blue\")\n",
    "    plt.xlabel (\"2tXY (fs.A^2)\")\n",
    "    plt.ylabel (\"Exchanged momenta (amu.A/fs)\")\n",
    "    plt.legend ()\n",
    "    fig.savefig (prefix + \"momenta.png\") \n",
    "    \n",
    "    return ave_lz, ave_dens, flux"
   ]
  },
  {
   "cell_type": "markdown",
   "metadata": {},
   "source": [
    "### 速度プロファイルを解析する関数"
   ]
  },
  {
   "cell_type": "code",
   "execution_count": 6,
   "metadata": {},
   "outputs": [],
   "source": [
    "def AnalyzeVelocityDistribution (mesh, lz, lin, prefix, name):\n",
    "    # データ読込みと平均化\n",
    "    pos = np.zeros (mesh)\n",
    "    vel = np.zeros (mesh)\n",
    "    with open (prefix + name, \"r\") as fp:\n",
    "        for i in range (3): next (fp)\n",
    "        list = fp.readlines ()\n",
    "        p = 0\n",
    "        n = 0\n",
    "        for line in list:\n",
    "            if n > mesh:\n",
    "                n = 0\n",
    "                p += 1\n",
    "            if n == 0:\n",
    "                n += 1\n",
    "                continue\n",
    "            line = line.rstrip ().split (\" \")\n",
    "            if p == 0: pos[n - 1] = float (line[3])\n",
    "            vel[n - 1] += float (line[5])\n",
    "            n += 1\n",
    "    pos *= lz\n",
    "    vel /= float (p)\n",
    "    \n",
    "    # 線形近似（下側）\n",
    "    x1 = pos[1:int (mesh / 2)]\n",
    "    v1 = vel[1:int (mesh / 2)]\n",
    "    slope1, intercept1, r_value1, p_value1, std_err1 = stats.linregress (x1, v1)    \n",
    "    r1 = r_value1 * r_value1\n",
    "    \n",
    "    # 線形近似（上側）\n",
    "    x2 = pos[int (mesh / 2) + 1:mesh]\n",
    "    v2 = vel[int (mesh / 2) + 1:mesh]    \n",
    "    slope2, intercept2, r_value2, p_value2, std_err2 = stats.linregress (x2, v2)    \n",
    "    r2 = r_value2 * r_value2    \n",
    "    \n",
    "    # 速度勾配の平均値 [1/s]\n",
    "    if lin == True:\n",
    "        dvdz = 0.5 * (np.abs (slope1) + np.abs (slope2)) * 1.0e15\n",
    "    else:\n",
    "        dvdz = (vel[int (mesh / 2)] - vel[0]) / (pos[int (mesh / 2)] - pos[0]) * 1.0e15\n",
    "        x3 = [pos[0], pos[int (mesh / 2)]]\n",
    "        v3 = [vel[0], vel[int (mesh / 2)]]\n",
    "\n",
    "    # グラフ化\n",
    "    fig = plt.figure (figsize = (8, 8)) \n",
    "    plt.plot (vel, pos, label = \"Row data\", marker = \".\", markersize = 9, linestyle = \"solid\", color = \"gray\")\n",
    "    if lin == True:\n",
    "        plt.plot (v1, x1, marker = \".\", markersize = 10, linestyle = \"none\", color = \"blue\")\n",
    "        plt.plot (x1 * slope1 + intercept1, x1, label = \"Fitted (R^2 = {:.3f})\".format (r1), linestyle = \"solid\", color = \"blue\")\n",
    "        plt.plot (v2, x2, marker = \".\", markersize = 10, linestyle = \"none\", color = \"coral\")\n",
    "        plt.plot (x2 * slope2 + intercept2, x2, label = \"Fitted (R^2 = {:.3f})\".format (r2), linestyle = \"solid\", color = \"coral\")\n",
    "    else:\n",
    "        plt.plot (v3, x3, marker = \".\", markersize = 10, linestyle = \"none\", color = \"blue\")\n",
    "        plt.plot (v3, x3, label = \"dVx/dZ\", linestyle = \"solid\", color = \"blue\")\n",
    "    plt.xlabel (\"X-velocity (A/fs)\")\n",
    "    plt.ylabel (\"Z-position (A)\")\n",
    "    plt.legend ()\n",
    "    fig.savefig (prefix + \"profile.png\")\n",
    "    \n",
    "    return dvdz"
   ]
  },
  {
   "cell_type": "markdown",
   "metadata": {},
   "source": [
    "### 運動エネルギー交換量を解析する関数"
   ]
  },
  {
   "cell_type": "code",
   "execution_count": 7,
   "metadata": {},
   "outputs": [],
   "source": [
    "def AnalyzeExchangedEnergy (prefix, name):\n",
    "    # データ読込みと平均化\n",
    "    time = []\n",
    "    ene  = []\n",
    "    area = []\n",
    "    lz   = []\n",
    "    dens = []\n",
    "    with open (prefix + name, \"r\") as fp:    \n",
    "        for i in range (2): next (fp)\n",
    "        list = fp.readlines ()\n",
    "        p = 0\n",
    "        for line in list:\n",
    "            line = line.rstrip ().split (\" \")\n",
    "            time.append (float (line[1]))\n",
    "            ene.append (float (line[2]))\n",
    "            area.append (float (line[3]))\n",
    "            lz.append (float (line[4]))\n",
    "            dens.append (float (line[5]))\n",
    "            p += 1\n",
    "    ave_lz = np.sum (lz) / float (p)\n",
    "    ave_dens = np.sum (dens) / float (p)\n",
    "    x = np.zeros (p)\n",
    "    for i in range (p): x[i] = 2.0 * time[i] * area[i]\n",
    "    \n",
    "    # 線形近似\n",
    "    slope, intercept, r_value, p_value, std_err = stats.linregress (x, ene) \n",
    "    r = r_value * r_value\n",
    "    flux = (slope / 6.0221367e23 * 4.184 * 1.0e3) * (1.0e15 * 1.0e10 * 1.0e10)  \n",
    "  \n",
    "    # グラフ化\n",
    "    fig = plt.figure (figsize = (8, 8)) \n",
    "    plt.plot (x, ene, label = \"Row data\", marker = \".\", markersize = 5, linestyle = \"none\", color = \"gray\")\n",
    "    plt.plot (x, x * slope + intercept, label = \"Fitted (R^2 = {:.3f})\".format (r), linestyle = \"solid\", color = \"blue\")\n",
    "    plt.xlabel (\"2tXY (fs.A^2)\")\n",
    "    plt.ylabel (\"Exchanged kinetic energy (kcal/mol)\")\n",
    "    plt.legend ()\n",
    "    fig.savefig (prefix + \"energy.png\") \n",
    "    \n",
    "    return ave_lz, ave_dens, flux"
   ]
  },
  {
   "cell_type": "markdown",
   "metadata": {},
   "source": [
    "### 温度プロファイルを解析する関数"
   ]
  },
  {
   "cell_type": "code",
   "execution_count": 8,
   "metadata": {},
   "outputs": [],
   "source": [
    "def AnalyzeTemperatureDistribution (mesh, lz, lin, prefix, name):\n",
    "    # データ読込みと平均化\n",
    "    pos = np.zeros (mesh)\n",
    "    tmp = np.zeros (mesh)\n",
    "    gas = 8.314 / 4.184 * 1.0e-3 # gas constant in [kcal/(mol.K)]\n",
    "    with open (prefix + name, \"r\") as fp:\n",
    "        for i in range (3): next (fp)\n",
    "        list = fp.readlines ()\n",
    "        p = 0\n",
    "        n = 0\n",
    "        for line in list:\n",
    "            if n > mesh:\n",
    "                n = 0\n",
    "                p += 1\n",
    "            if n == 0:\n",
    "                n += 1\n",
    "                continue\n",
    "            line = line.rstrip ().split (\" \")\n",
    "            if p == 0: pos[n - 1] = float (line[3])\n",
    "            tmp[n - 1] += float (line[5]) / gas\n",
    "            n += 1\n",
    "    pos *= lz\n",
    "    tmp /= float (p)\n",
    "    \n",
    "    # 線形近似（下側）\n",
    "    x1 = pos[1:int (mesh / 2)]\n",
    "    t1 = tmp[1:int (mesh / 2)]\n",
    "    slope1, intercept1, r_value1, p_value1, std_err1 = stats.linregress (x1, t1)    \n",
    "    r1 = r_value1 * r_value1\n",
    "    \n",
    "    # 線形近似（上側）\n",
    "    x2 = pos[int (mesh / 2) + 1:mesh]\n",
    "    t2 = tmp[int (mesh / 2) + 1:mesh]    \n",
    "    slope2, intercept2, r_value2, p_value2, std_err2 = stats.linregress (x2, t2)    \n",
    "    r2 = r_value2 * r_value2    \n",
    "    \n",
    "    # 温度勾配の平均値 [K/m]\n",
    "    if lin == True:\n",
    "        dtdz = 0.5 * (np.abs (slope1) + np.abs (slope2)) * 1.0e10\n",
    "    else:\n",
    "        dtdz = (tmp[int (mesh / 2)] - tmp[0]) / (pos[int (mesh / 2)] - pos[0]) * 1.0e10\n",
    "        x3 = [pos[0], pos[int (mesh / 2)]]\n",
    "        t3 = [tmp[0], tmp[int (mesh / 2)]]\n",
    "    \n",
    "    # グラフ化\n",
    "    fig = plt.figure (figsize = (8, 8)) \n",
    "    plt.plot (tmp, pos, label = \"Row data\", marker = \".\", markersize = 9, linestyle = \"solid\", color = \"gray\")\n",
    "    if lin == True:\n",
    "        plt.plot (t1, x1, marker = \".\", markersize = 10, linestyle = \"none\", color = \"blue\")\n",
    "        plt.plot (x1 * slope1 + intercept1, x1, label = \"Fitted (R^2 = {:.3f})\".format (r1), linestyle = \"solid\", color = \"blue\")\n",
    "        plt.plot (t2, x2, marker = \".\", markersize = 10, linestyle = \"none\", color = \"coral\")\n",
    "        plt.plot (x2 * slope2 + intercept2, x2, label = \"Fitted (R^2 = {:.3f})\".format (r2), linestyle = \"solid\", color = \"coral\")\n",
    "    else:\n",
    "        plt.plot (t3, x3, marker = \".\", markersize = 10, linestyle = \"none\", color = \"blue\")\n",
    "        plt.plot (t3, x3, label = \"dT/dZ\", linestyle = \"solid\", color = \"blue\")\n",
    "    plt.xlabel (\"Temperature (K)\")\n",
    "    plt.ylabel (\"Z-position (A)\")\n",
    "    plt.legend ()\n",
    "    fig.savefig (prefix + \"profile.png\")\n",
    "    \n",
    "    return dtdz"
   ]
  },
  {
   "cell_type": "markdown",
   "metadata": {},
   "source": [
    "### RNEMD結果のパス指定"
   ]
  },
  {
   "cell_type": "code",
   "execution_count": 9,
   "metadata": {},
   "outputs": [],
   "source": [
    "def main():\n",
    "    mesh          = 20\n",
    "    lin_approx    = False\n",
    "    comp          = \"propyl_pinene\"\n",
    "    prefix        = \"/work02/onodera/03_EVcoolant/\" + comp + \"/\"\n",
    "    prefix_visc   = prefix + \"visc/\"\n",
    "    prefix_thermo = prefix + \"thermo/\"\n",
    "    profile       = \"rnemd_profile.dat\"\n",
    "    momenta       = \"rnemd_momenta.dat\"\n",
    "    energy        = \"rnemd_energy.dat\""
   ]
  },
  {
   "cell_type": "markdown",
   "metadata": {},
   "source": [
    "### 粘度"
   ]
  },
  {
   "cell_type": "code",
   "execution_count": 10,
   "metadata": {},
   "outputs": [
    {
     "ename": "PermissionError",
     "evalue": "[Errno 13] Permission denied: '/work02/onodera/03_EVcoolant/propyl_pinene/visc/rnemd_momenta.dat'",
     "output_type": "error",
     "traceback": [
      "\u001b[0;31m---------------------------------------------------------------------------\u001b[0m",
      "\u001b[0;31mPermissionError\u001b[0m                           Traceback (most recent call last)",
      "\u001b[0;32m/tmp/ipykernel_564/3957318111.py\u001b[0m in \u001b[0;36m<module>\u001b[0;34m\u001b[0m\n\u001b[0;32m----> 1\u001b[0;31m \u001b[0mlz\u001b[0m\u001b[0;34m,\u001b[0m \u001b[0mdens\u001b[0m\u001b[0;34m,\u001b[0m \u001b[0mflux\u001b[0m \u001b[0;34m=\u001b[0m \u001b[0mAnalyzeExchangedMomenta\u001b[0m \u001b[0;34m(\u001b[0m\u001b[0mprefix_visc\u001b[0m\u001b[0;34m,\u001b[0m \u001b[0mmomenta\u001b[0m\u001b[0;34m)\u001b[0m\u001b[0;34m\u001b[0m\u001b[0;34m\u001b[0m\u001b[0m\n\u001b[0m\u001b[1;32m      2\u001b[0m \u001b[0mdvdz\u001b[0m \u001b[0;34m=\u001b[0m \u001b[0mAnalyzeVelocityDistribution\u001b[0m \u001b[0;34m(\u001b[0m\u001b[0mmesh\u001b[0m\u001b[0;34m,\u001b[0m \u001b[0mlz\u001b[0m\u001b[0;34m,\u001b[0m \u001b[0mlin_approx\u001b[0m\u001b[0;34m,\u001b[0m \u001b[0mprefix_visc\u001b[0m\u001b[0;34m,\u001b[0m \u001b[0mprofile\u001b[0m\u001b[0;34m)\u001b[0m\u001b[0;34m\u001b[0m\u001b[0;34m\u001b[0m\u001b[0m\n\u001b[1;32m      3\u001b[0m \u001b[0meta\u001b[0m \u001b[0;34m=\u001b[0m \u001b[0;34m-\u001b[0m\u001b[0;36m1.0e3\u001b[0m \u001b[0;34m*\u001b[0m \u001b[0mflux\u001b[0m \u001b[0;34m/\u001b[0m \u001b[0mdvdz\u001b[0m\u001b[0;34m\u001b[0m\u001b[0;34m\u001b[0m\u001b[0m\n\u001b[1;32m      4\u001b[0m \u001b[0mprint\u001b[0m \u001b[0;34m(\u001b[0m\u001b[0;34m\"Length of z-axis: {:.5f} A\"\u001b[0m\u001b[0;34m.\u001b[0m\u001b[0mformat\u001b[0m \u001b[0;34m(\u001b[0m\u001b[0mlz\u001b[0m\u001b[0;34m)\u001b[0m\u001b[0;34m)\u001b[0m\u001b[0;34m\u001b[0m\u001b[0;34m\u001b[0m\u001b[0m\n\u001b[1;32m      5\u001b[0m \u001b[0mprint\u001b[0m \u001b[0;34m(\u001b[0m\u001b[0;34m\"Viscosity:        {:.5f} mPa.s\"\u001b[0m\u001b[0;34m.\u001b[0m\u001b[0mformat\u001b[0m \u001b[0;34m(\u001b[0m\u001b[0meta\u001b[0m\u001b[0;34m)\u001b[0m\u001b[0;34m)\u001b[0m\u001b[0;34m\u001b[0m\u001b[0;34m\u001b[0m\u001b[0m\n",
      "\u001b[0;32m/tmp/ipykernel_564/4084202411.py\u001b[0m in \u001b[0;36mAnalyzeExchangedMomenta\u001b[0;34m(prefix, name)\u001b[0m\n\u001b[1;32m      6\u001b[0m     \u001b[0mlz\u001b[0m   \u001b[0;34m=\u001b[0m \u001b[0;34m[\u001b[0m\u001b[0;34m]\u001b[0m\u001b[0;34m\u001b[0m\u001b[0;34m\u001b[0m\u001b[0m\n\u001b[1;32m      7\u001b[0m     \u001b[0mdens\u001b[0m \u001b[0;34m=\u001b[0m \u001b[0;34m[\u001b[0m\u001b[0;34m]\u001b[0m\u001b[0;34m\u001b[0m\u001b[0;34m\u001b[0m\u001b[0m\n\u001b[0;32m----> 8\u001b[0;31m     \u001b[0;32mwith\u001b[0m \u001b[0mopen\u001b[0m \u001b[0;34m(\u001b[0m\u001b[0mprefix\u001b[0m \u001b[0;34m+\u001b[0m \u001b[0mname\u001b[0m\u001b[0;34m,\u001b[0m \u001b[0;34m\"r\"\u001b[0m\u001b[0;34m)\u001b[0m \u001b[0;32mas\u001b[0m \u001b[0mfp\u001b[0m\u001b[0;34m:\u001b[0m\u001b[0;34m\u001b[0m\u001b[0;34m\u001b[0m\u001b[0m\n\u001b[0m\u001b[1;32m      9\u001b[0m         \u001b[0;32mfor\u001b[0m \u001b[0mi\u001b[0m \u001b[0;32min\u001b[0m \u001b[0mrange\u001b[0m \u001b[0;34m(\u001b[0m\u001b[0;36m2\u001b[0m\u001b[0;34m)\u001b[0m\u001b[0;34m:\u001b[0m \u001b[0mnext\u001b[0m \u001b[0;34m(\u001b[0m\u001b[0mfp\u001b[0m\u001b[0;34m)\u001b[0m\u001b[0;34m\u001b[0m\u001b[0;34m\u001b[0m\u001b[0m\n\u001b[1;32m     10\u001b[0m         \u001b[0mlist\u001b[0m \u001b[0;34m=\u001b[0m \u001b[0mfp\u001b[0m\u001b[0;34m.\u001b[0m\u001b[0mreadlines\u001b[0m \u001b[0;34m(\u001b[0m\u001b[0;34m)\u001b[0m\u001b[0;34m\u001b[0m\u001b[0;34m\u001b[0m\u001b[0m\n",
      "\u001b[0;31mPermissionError\u001b[0m: [Errno 13] Permission denied: '/work02/onodera/03_EVcoolant/propyl_pinene/visc/rnemd_momenta.dat'"
     ]
    }
   ],
   "source": [
    "def analyzeViscosity(prefix_visc, \n",
    "                     momenta,\n",
    "                     mesh,\n",
    "                     lin_approx,\n",
    "                     profile\n",
    "                     ):\n",
    "    lz, dens, flux = AnalyzeExchangedMomenta (prefix_visc, momenta)\n",
    "    dvdz = AnalyzeVelocityDistribution (mesh, lz, lin_approx, prefix_visc, profile)\n",
    "    eta = -1.0e3 * flux / dvdz\n",
    "    print (\"Length of z-axis: {:.5f} A\".format (lz))\n",
    "    print (\"Viscosity:        {:.5f} mPa.s\".format (eta))\n",
    "    print (\"Density:          {:.5f} g/cm^3\".format (dens))\n",
    "    with open (prefix_visc + \"visc.dat\", \"w\") as fp:\n",
    "        fp.write (\"Length of z-axis: {:.5f} A\\n\".format (lz))\n",
    "        fp.write (\"Viscosity:        {:.5f} mPa.s\\n\".format (eta))\n",
    "        fp.write (\"Density:          {:.5f} g/cm^3\\n\".format (dens))"
   ]
  },
  {
   "cell_type": "markdown",
   "metadata": {},
   "source": [
    "### 熱伝導率"
   ]
  },
  {
   "cell_type": "code",
   "execution_count": 8,
   "metadata": {
    "scrolled": true,
    "tags": []
   },
   "outputs": [
    {
     "name": "stdout",
     "output_type": "stream",
     "text": [
      "Length of z-axis:     45.96851 A\n",
      "Thermal_conductivity: 0.10727 W/(m.K)\n",
      "Density:              0.84259 g/cm^3\n"
     ]
    },
    {
     "data": {
      "image/png": "[encoded data removed]",
      "text/plain": [
       "<Figure size 576x576 with 1 Axes>"
      ]
     },
     "metadata": {
      "needs_background": "light"
     },
     "output_type": "display_data"
    },
    {
     "data": {
      "image/png": "[encoded data removed]",
      "text/plain": [
       "<Figure size 576x576 with 1 Axes>"
      ]
     },
     "metadata": {
      "needs_background": "light"
     },
     "output_type": "display_data"
    }
   ],
   "source": [
    "def analyzeThermalConductivity(prefix_thermo,\n",
    "                               energy,\n",
    "                               mesh,\n",
    "                               lin_approx,\n",
    "                               profile\n",
    "                               ):\n",
    "    lz, dens, flux = AnalyzeExchangedEnergy (prefix_thermo, energy)\n",
    "    dtdz = AnalyzeTemperatureDistribution (mesh, lz, lin_approx, prefix_thermo, profile)\n",
    "    kappa = -1.0 * (-1.0 * flux) / dtdz\n",
    "    print (\"Length of z-axis:     {:.5f} A\".format (lz))\n",
    "    print (\"Thermal_conductivity: {:.5f} W/(m.K)\".format (kappa))\n",
    "    print (\"Density:              {:.5f} g/cm^3\".format (dens))\n",
    "    with open (prefix_thermo + \"thermo.dat\", \"w\") as fp:\n",
    "        fp.write (\"Length of z-axis:     {:.5f} A\\n\".format (lz))\n",
    "        fp.write (\"Thermal_conductivity: {:.5f} W/(m.K)\\n\".format (kappa))\n",
    "        fp.write (\"Density:              {:.5f} g/cm^3\\n\".format (dens))"
   ]
  }
 ],
 "metadata": {
  "kernelspec": {
   "display_name": "Python 3 (ipykernel)",
   "language": "python",
   "name": "python3"
  },
  "language_info": {
   "codemirror_mode": {
    "name": "ipython",
    "version": 3
   },
   "file_extension": ".py",
   "mimetype": "text/x-python",
   "name": "python",
   "nbconvert_exporter": "python",
   "pygments_lexer": "ipython3",
   "version": "3.7.8"
  }
 },
 "nbformat": 4,
 "nbformat_minor": 4
}
