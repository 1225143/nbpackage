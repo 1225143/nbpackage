{
 "cells": [
  {
   "cell_type": "code",
   "execution_count": 2,
   "metadata": {},
   "outputs": [],
   "source": [
    "import os\n",
    "import sys"
   ]
  },
  {
   "cell_type": "code",
   "execution_count": 3,
   "metadata": {},
   "outputs": [],
   "source": [
    "def get_calculator(**kwargs):\n",
    "    on_premises = False\n",
    "    if any(['pfp' in _ for _ in sys.path]):\n",
    "        on_premises = True\n",
    "    on_matlantis = False\n",
    "    if os.getenv('matlantis'):\n",
    "        matlantis = True\n",
    "    if on_premises:\n",
    "        return _setup_pfp_calculator(**kwargs)\n",
    "    elif on_matlantis:\n",
    "        return _setup_pfp_api_client(**kwargs)\n",
    "    else:\n",
    "        return _setup_test_calculator(**kwargs)"
   ]
  },
  {
   "cell_type": "code",
   "execution_count": 4,
   "metadata": {},
   "outputs": [],
   "source": [
    "\n",
    "\n",
    "def _setup_pfp_calculator(\n",
    "    ver=\"0102\",\n",
    "    # ver = \"0012\"\n",
    "    D_flag=True,\n",
    "    U_flag=True,\n",
    "    gpu=0,\n",
    "):\n",
    "    # --> PFP settings.\n",
    "    #    print(\"<VER: {}>   <DFT-U: {}>   <D3: {}>\".format(ver, U_flag, D_flag))\n",
    "    if ver == \"0102\":\n",
    "        U_flag = True\n",
    "        sys.path.insert(0, \"/cafe05/share/MI/PFN/pfp010202/deepmi1604crystal/\")  #\n",
    "    elif ver == \"0012\":\n",
    "        U_flag = True\n",
    "        sys.path.insert(\n",
    "            0, \"/cafe05/share/MI/PFN/pfp001201/deepmi1604/\"\n",
    "        )  # 従来計算ではver11を使用、energy-shiftなし\n",
    "    else:\n",
    "        ver = \"0101\"\n",
    "        if U_flag:\n",
    "            # sys.path.insert (0, \"/cafe05/share/MI/PFN/pfp010100/deepmi1604crystal/\") # Uパラメータ有、energy-shiftあり\n",
    "            sys.path.insert(\n",
    "                0, \"/cafe05/share/MI/PFN/pfp010100/deepmi1604/\"\n",
    "            )  # Uパラメータ有、energy-shiftなし\n",
    "        else:\n",
    "            U_flag = False\n",
    "            sys.path.insert(\n",
    "                0, \"/cafe05/share/MI/PFN/pfp010100/deepmi1604wou/\"\n",
    "            )  # Uパラメータ無\n",
    "    print(f\"<VER: {ver}>   <DFT-U: {U_flag}>   <D3: {D_flag}>\")\n",
    "    sys.stdout.flush()\n",
    "\n",
    "    from pfp.calculators.ase_calculator import ASECalculator\n",
    "    from pfp.nn.models.crystal import model_builder\n",
    "    from pfp.nn.estimator_base import EstimatorCalcMode\n",
    "\n",
    "    estimator = model_builder.build_estimator(gpu)\n",
    "\n",
    "    if ver == \"0101\":\n",
    "        if U_flag is True:\n",
    "            estimator.set_calc_mode(EstimatorCalcMode.CRYSTAL)\n",
    "        else:\n",
    "            estimator.set_calc_mode(EstimatorCalcMode.CRYSTAL_U0)\n",
    "    calculator = ASECalculator(estimator)\n",
    "    print(f\"{estimator.calc_mode}\")\n",
    "\n",
    "    if D_flag is True:\n",
    "        # from ase.calculators.dftd3 import DFTD3\n",
    "        # d3 = DFTD3 (dft = calculator, xc = \"pbe\")\n",
    "        from torch_dftd.torch_dftd3_calculator import TorchDFTD3Calculator\n",
    "\n",
    "        calculator = TorchDFTD3Calculator(dft=calculator, device=\"cuda:0\", damping=\"bj\")\n",
    "        # d3 = TorchDFTD3Calculator (dft = calculator, device = \"cuda:0\", damping = \"bj\")\n",
    "        print(\"D3 correction: {}\".format(calculator))\n",
    "\n",
    "    return calculator, estimator, model_builder\n",
    "\n",
    "\n",
    "# 関数群\n"
   ]
  },
  {
   "cell_type": "code",
   "execution_count": 6,
   "metadata": {},
   "outputs": [],
   "source": [
    "def _setup_pfp_api_client():\n",
    "    \n",
    "    from pfp_api_client.pfp.calculators.ase_calculator import ASECalculator\n",
    "    from pfp_api_client.pfp.estimator import Estimator\n",
    "    from pfp_api_client.pfp.builder import model_builder\n",
    "    estimator = Estimator()\n",
    "    calculator = ASECalculator(estimator)\n",
    "\n",
    "    return calculator, estimator, model_builder"
   ]
  },
  {
   "cell_type": "code",
   "execution_count": 7,
   "metadata": {},
   "outputs": [],
   "source": [
    "def _setup_test_calculator():\n",
    "    return calculator, estimator, model_builder"
   ]
  },
  {
   "cell_type": "code",
   "execution_count": null,
   "metadata": {},
   "outputs": [],
   "source": []
  }
 ],
 "metadata": {
  "interpreter": {
   "hash": "c234fce11f2837fac9d5905a5a3f629cc63d237c9357fcd422f1c8717e73452c"
  },
  "kernelspec": {
   "display_name": "Python 3.9.5 ('mi')",
   "language": "python",
   "name": "python3"
  },
  "language_info": {
   "codemirror_mode": {
    "name": "ipython",
    "version": 3
   },
   "file_extension": ".py",
   "mimetype": "text/x-python",
   "name": "python",
   "nbconvert_exporter": "python",
   "pygments_lexer": "ipython3",
   "version": "3.9.5"
  },
  "orig_nbformat": 4
 },
 "nbformat": 4,
 "nbformat_minor": 2
}
