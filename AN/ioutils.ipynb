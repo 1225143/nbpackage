{
 "cells": [
  {
   "cell_type": "code",
   "execution_count": 1,
   "metadata": {},
   "outputs": [],
   "source": [
    "def read_structures(ads_structure_file, slab_structure_file, sort_atoms=True):\n",
    "\n",
    "    if not os.path.exists(ads_structure_file):\n",
    "        print(f\"adsorbate structure {ads_structure_file} not found\")\n",
    "        print(f\"in the current directory {os.getcwd()}\")\n",
    "        sys.exit()\n",
    "    elif not os.path.exists(slab_structure_file):\n",
    "        print(f\"slab structure {slab_structure_file} not found\")\n",
    "        print(f\"in the current directory {os.getcwd()}\")\n",
    "        sys.exit()\n",
    "    mol = read(ads_structure_file)\n",
    "    slab = read(slab_structure_file)\n",
    "    if sort_atoms:\n",
    "        mol = mol[np.argsort(mol.get_chemical_symbols())]\n",
    "        slab = slab[np.argsort(slab.get_chemical_symbols())]\n",
    "    return mol, slab"
   ]
  },
  {
   "cell_type": "code",
   "execution_count": null,
   "metadata": {},
   "outputs": [],
   "source": []
  }
 ],
 "metadata": {
  "interpreter": {
   "hash": "31510d113d6e0ec2b588ec0dbe6e8fe75e438ce65477707cb88d07f5f842cd52"
  },
  "kernelspec": {
   "display_name": "Python 3.9.12 ('nagoya_env')",
   "language": "python",
   "name": "python3"
  },
  "language_info": {
   "codemirror_mode": {
    "name": "ipython",
    "version": 3
   },
   "file_extension": ".py",
   "mimetype": "text/x-python",
   "name": "python",
   "nbconvert_exporter": "python",
   "pygments_lexer": "ipython3",
   "version": "3.9.12"
  },
  "orig_nbformat": 4
 },
 "nbformat": 4,
 "nbformat_minor": 2
}
