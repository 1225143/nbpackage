{
 "cells": [
  {
   "cell_type": "markdown",
   "metadata": {},
   "source": [
    "# Mocule for Molecular Dynamics."
   ]
  },
  {
   "cell_type": "code",
   "execution_count": null,
   "metadata": {},
   "outputs": [],
   "source": [
    "#!/bin/env python\n",
    "import os\n",
    "import sys\n",
    "import time\n",
    "import selenium\n",
    "from selenium import webdriver\n",
    "from selenium.webdriver.common.keys import Keys\n"
   ]
  },
  {
   "cell_type": "code",
   "execution_count": null,
   "metadata": {},
   "outputs": [],
   "source": []
  },
  {
   "cell_type": "code",
   "execution_count": null,
   "metadata": {},
   "outputs": [],
   "source": [
    "\n",
    "def send_smiles_ligpargen(\n",
    "         smiles='CCC',\n",
    "         url = 'http://zarbi.chem.yale.edu/ligpargen/'\n",
    "):\n",
    "\n",
    "    prefs = {\"download.default_directory\" : os.getcwd()}\n",
    "    options = webdriver.ChromeOptions()\n",
    "#    options.add_argument('--headless')\n",
    "    options.add_experimental_option('prefs', prefs)\n",
    "    print(options)\n",
    "\n",
    "    driver = webdriver.Chrome(options=options)\n",
    "    driver.get(url)\n",
    "\n",
    "    time.sleep(10)\n",
    "\n",
    "    print(driver.title)\n",
    "    box = driver.find_element_by_id('smiles')\n",
    "    print(box)\n",
    "    box.send_keys(smiles)\n",
    "\n",
    "    time.sleep(10)\n",
    "\n",
    "    b = driver.find_element_by_class_name(\"btn\")\n",
    "    print(b)\n",
    "    b.submit()\n",
    "\n",
    "    time.sleep(10)\n",
    "\n",
    "    p = driver.find_elements_by_css_selector('p')\n",
    "    print(p)\n",
    "    f = driver.find_element_by_class_name('form-group')\n",
    "    keys = [_.get_property('value') for _ in  f.find_elements_by_name('go')]\n",
    "    d = dict(list(zip(keys, f.find_elements_by_name('go'))))\n",
    "    d['LAMMPS'].submit()\n",
    "\n",
    "    time.sleep(10)\n"
   ]
  },
  {
   "cell_type": "code",
   "execution_count": null,
   "metadata": {},
   "outputs": [],
   "source": [
    "#main()"
   ]
  }
 ],
 "metadata": {
  "language_info": {
   "name": "python"
  },
  "orig_nbformat": 4
 },
 "nbformat": 4,
 "nbformat_minor": 2
}
