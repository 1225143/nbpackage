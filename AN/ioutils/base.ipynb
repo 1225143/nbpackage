{
 "cells": [
  {
   "cell_type": "code",
   "execution_count": null,
   "metadata": {},
   "outputs": [],
   "source": [
    "import os\n",
    "import sys\n",
    "import numpy as np\n",
    "from ase.io import read\n"
   ]
  },
  {
   "cell_type": "code",
   "execution_count": 1,
   "metadata": {},
   "outputs": [],
   "source": [
    "def read_structures(ads_structure_file, slab_structure_file, sort_atoms=True):\n",
    "\n",
    "    if not os.path.exists(ads_structure_file):\n",
    "        print(f\"adsorbate structure {ads_structure_file} not found\")\n",
    "        print(f\"in the current directory {os.getcwd()}\")\n",
    "        sys.exit()\n",
    "    elif not os.path.exists(slab_structure_file):\n",
    "        print(f\"slab structure {slab_structure_file} not found\")\n",
    "        print(f\"in the current directory {os.getcwd()}\")\n",
    "        sys.exit()\n",
    "    mol = read(ads_structure_file)\n",
    "    slab = read(slab_structure_file)\n",
    "    if sort_atoms:\n",
    "        mol = mol[np.argsort(mol.get_chemical_symbols())]\n",
    "        slab = slab[np.argsort(slab.get_chemical_symbols())]\n",
    "    return mol, slab"
   ]
  },
  {
   "cell_type": "code",
   "execution_count": null,
   "metadata": {},
   "outputs": [],
   "source": []
  }
 ],
 "metadata": {
  "interpreter": {
   "hash": "c234fce11f2837fac9d5905a5a3f629cc63d237c9357fcd422f1c8717e73452c"
  },
  "kernelspec": {
   "display_name": "Python 3.9.5 ('mi')",
   "language": "python",
   "name": "python3"
  },
  "language_info": {
   "codemirror_mode": {
    "name": "ipython",
    "version": 3
   },
   "file_extension": ".py",
   "mimetype": "text/x-python",
   "name": "python",
   "nbconvert_exporter": "python",
   "pygments_lexer": "ipython3",
   "version": "3.9.5"
  },
  "orig_nbformat": 4
 },
 "nbformat": 4,
 "nbformat_minor": 2
}
