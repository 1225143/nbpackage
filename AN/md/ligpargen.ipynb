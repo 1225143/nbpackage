{
 "cells": [
  {
   "cell_type": "markdown",
   "metadata": {},
   "source": [
    "# Mocule for Molecular Dynamics."
   ]
  },
  {
   "cell_type": "code",
   "execution_count": 1,
   "metadata": {},
   "outputs": [],
   "source": [
    "#!/bin/env python\n",
    "\n",
    "import os\n",
    "import sys\n",
    "import time\n",
    "\n",
    "from io import StringIO\n",
    "\n",
    "import numpy as np\n",
    "import pandas as pd\n",
    "import re\n",
    "\n",
    "from ase.io import read\n",
    "from pathlib import Path\n"
   ]
  },
  {
   "cell_type": "code",
   "execution_count": 2,
   "metadata": {},
   "outputs": [],
   "source": [
    "class LigParGen():\n",
    "    def __init__(self, is_headless=True):\n",
    "\n",
    "        self.url = 'http://zarbi.chem.yale.edu/ligpargen/'\n",
    "        self.prefs = {\"download.default_directory\" : os.getcwd()}\n",
    "\n",
    "\n",
    "    def get_opls_from_smiles(self,\n",
    "            smiles='CCC',\n",
    "            format='lammps',\n",
    "            to='filename',\n",
    "            is_headless=True,\n",
    "    ):\n",
    "        import selenium\n",
    "        from selenium import webdriver\n",
    "        from selenium.webdriver.common.keys import Keys\n",
    "        self.options = webdriver.ChromeOptions()\n",
    "    #    options.add_argument('--headless')\n",
    "        self.options.add_experimental_option('prefs', self.prefs)\n",
    "        if is_headless: \n",
    "            self.options.add_argument('--headless')\n",
    "        self.driver = webdriver.Chrome(options=self.options)\n",
    "        \n",
    "        self.driver.get(self.url)\n",
    "        \n",
    "        print(self.driver.title)\n",
    "        box = self.driver.find_element_by_id('smiles')\n",
    "        print(box)\n",
    "        box.send_keys(smiles)\n",
    "\n",
    "        time.sleep(10)\n",
    "\n",
    "        b = self.driver.find_element_by_class_name(\"btn\")\n",
    "        print(b)\n",
    "        b.submit()\n",
    "\n",
    "        time.sleep(10)\n",
    "\n",
    "        p = self.driver.find_elements_by_css_selector('p')\n",
    "        print(p)\n",
    "        f = self.driver.find_element_by_class_name('form-group')\n",
    "        keys = [_.get_property('value') for _ in  f.find_elements_by_name('go')]\n",
    "        d = dict(list(zip(keys, f.find_elements_by_name('go'))))\n",
    "        d['LAMMPS'].submit()\n",
    "\n",
    "        time.sleep(10)\n",
    "\n",
    "    def format_lammpsdata(self):\n",
    "        pass"
   ]
  },
  {
   "cell_type": "code",
   "execution_count": 3,
   "metadata": {},
   "outputs": [],
   "source": [
    "def test():\n",
    "    l = LigParGen()\n",
    "    from pathlib import Path\n",
    "    savedir = '../../ligpargen_data'\n",
    "    path = Path(savedir).resolve()\n",
    "    cwd = Path('.').resolve()\n",
    "    if path.exists():\n",
    "        with (path / '0.data').open() as f:\n",
    "            lines = f.read()\n",
    "    else:\n",
    "        l.get_opls_from_smiles('C')\n",
    "        \n",
    "    return lines"
   ]
  },
  {
   "cell_type": "code",
   "execution_count": 34,
   "metadata": {},
   "outputs": [],
   "source": [
    "\n",
    "def test():\n",
    "    l = LigParGen()\n",
    "    savedir = '../../ligpargen_data'\n",
    "    path = Path(savedir).resolve()\n",
    "    cwd = Path('.').resolve()\n",
    "    if path.exists():\n",
    "        with (path / '0.data').open() as f:\n",
    "            lines = f.read()\n",
    "    with StringIO() as f:\n",
    "        f.write(lines)\n",
    "        f.seek(0)\n",
    "        a = read(f, format='lammps-data')\n",
    "    print(a)\n",
    "    charges = a.get_initial_charges()\n",
    "    masses = a.get_masses()\n",
    "    cell = a.get_cell()\n",
    "    positions = a.get_positions()\n",
    "    bonds = a.arrays['bonds']\n",
    "    angles = a.arrays['angles']\n",
    "    dihedrals = a.arrays['dihedrals']\n",
    "    atomids = a.arrays['id']\n",
    "    molids = a.arrays['mol-id']\n",
    "    types = a.arrays['type']\n",
    "    mmcharges = a.arrays['mmcharges']\n",
    "    print(a.arrays.keys())\n",
    "\n",
    "def test_read_lammpsdata():\n",
    "    data, lines = read_lammpsdata('../../ligpargen_data/0.data')\n",
    "    for k,v in data.items():\n",
    "        if np.isscalar(v):\n",
    "            print(k,v)\n",
    "        elif isinstance(v, pd.DataFrame):\n",
    "            print(k)\n",
    "            print( v.iloc[[0]])\n",
    "        else:\n",
    "            print(k, v[0])\n",
    "def test_format_lammpsdata():\n",
    "\n",
    "    data, lines = read_lammpsdata('../../ligpargen_data/0.data')\n",
    "    print(lines)\n",
    "    data = format_lammpsdata(data)\n",
    "    print(data)"
   ]
  },
  {
   "cell_type": "code",
   "execution_count": 5,
   "metadata": {},
   "outputs": [],
   "source": [
    "header_tags = [\"atoms\", \"bonds\", \"angles\", \"dihedrals\", \"impropers\"]\n",
    "header_tags_types = [\n",
    "    \"atom types\",\n",
    "    \"bond types\",\n",
    "    \"angle types\",\n",
    "    \"dihedral types\",\n",
    "    \"improper types\",\n",
    "]\n",
    "\n",
    "tags_atomic = [\"Masses\", \"Atoms\", \"Velocities\"]\n",
    "tags_interactions = [\"Bonds\", \"Angles\", \"Dihedrals\", \"Impropers\"]\n",
    "tags_coeffs = [\n",
    "    \"Pair Coeffs\",\n",
    "    \"Nonbond Coeffs\",\n",
    "    \"Bond Coeffs\",\n",
    "    \"Angle Coeffs\",\n",
    "    \"Dihedral Coeffs\",\n",
    "    \"Improper Coeffs\",\n",
    "    \"BondBond Coeffs\",\n",
    "    \"BondAngle Coeffs\",\n",
    "    \"MiddleBondTorsion Coeffs\",\n",
    "    \"EndBondTorsion Coeffs\",\n",
    "    \"AngleTorsion Coeffs\",\n",
    "    \"AngleAngleTorsion Coeffs\",\n",
    "    \"BondBond13 Coeffs\",\n",
    "    \"AngleAngle Coeffs\",\n",
    "]\n"
   ]
  },
  {
   "cell_type": "code",
   "execution_count": 82,
   "metadata": {},
   "outputs": [],
   "source": [
    "\n",
    "def read_lammpsdata(filename):\n",
    "    if os.path.exists(filename):\n",
    "        with open(filename) as f:\n",
    "            lines = f.read()\n",
    "    else:\n",
    "        lines = filename\n",
    "\n",
    "    data = dict()\n",
    "\n",
    "    tags = tags_atomic + tags_interactions + tags_coeffs\n",
    "    for _tag in tags:\n",
    "        p = f'(^{_tag}\\s*\\n\\n)(.*?)\\n\\n'\n",
    "        match = re.split(p, lines, flags=re.MULTILINE|re.DOTALL)\n",
    "        if len(match) == 4:\n",
    "            _prev, _, _match, _next = match\n",
    "            _lines = re.findall('^.*$', _match, flags=re.MULTILINE)\n",
    "            data[_tag] = _lines\n",
    "            lines = _prev + _next\n",
    "    \n",
    "    data = parse_data(data)\n",
    "\n",
    "    title, lines = lines.split('\\n', 1)\n",
    "    data['title'] = title\n",
    "\n",
    "    tags = header_tags_types + header_tags\n",
    "    for _tag in tags:\n",
    "        p = f'^([-+.\\d\\s]+)({_tag}.*?)$'\n",
    "        match = re.split(p, lines, flags=re.MULTILINE)\n",
    "        if len(match) == 4:\n",
    "            _prev, _value, _match, _next = match\n",
    "            _line = _match.split('#')\n",
    "            _comment = '' if len(_line)==1 else _line[1]\n",
    "            data[_tag] = int(_value)\n",
    "            \n",
    "            lines = _prev + _next\n",
    "    \n",
    "    _lines = lines.strip().splitlines()\n",
    "    lines = []\n",
    "    for _line in _lines:\n",
    "        if 'lo' in _line and 'hi' in _line:\n",
    "            _low, _high, _tag_low, _tag_high = _line.strip().split(None, 3)\n",
    "            _tag_high = _tag_high.split()[0]\n",
    "            data[_tag_low] = float(_low)\n",
    "            data[_tag_high] = float(_high)\n",
    "        else:\n",
    "            lines.append(_line)\n",
    "    lines = '\\n'.join(lines)\n",
    "\n",
    "    return data, lines\n",
    "\n",
    "def parse_data(data):\n",
    "    tags = tags_atomic + tags_interactions + tags_coeffs\n",
    "    for _tag, _lines in data.items():\n",
    "        if _tag in tags:\n",
    "            _lines = [_line.split('#') for _line in _lines]\n",
    "            _comments = ['' if len(_line)==1 else _line[1] for _line in _lines]\n",
    "            _data = [_line[0].split() for _line in _lines]\n",
    "            if _tag in tags_interactions:\n",
    "                _columns = ['id', 'type', *[f'i{_}' for _ in range(len(_data[0])-2)]]\n",
    "                _data = pd.DataFrame(np.array(_data), dtype=int, columns=_columns)\n",
    "                _data['comment'] = _comments\n",
    "            elif _tag in tags_coeffs:\n",
    "                _columns = ['type', *[f'coeff{_}' for _ in range(len(_data[0])-1)]]\n",
    "                _data = pd.DataFrame(_data, columns=_columns)\n",
    "                _ncols = _data.shape[1]\n",
    "                for _col in _columns:\n",
    "                    if _data[_col].apply(lambda x:x.lstrip('-').isdigit()).all():\n",
    "                        _data[_col] = _data[_col].astype(int)\n",
    "                    else:\n",
    "                        _data[_col] = _data[_col].astype(float)\n",
    "            elif _tag == 'Masses':\n",
    "                _data = pd.DataFrame(_data, columns=['atomid', 'mass'])\n",
    "                _data['atomid'] = _data['atomid'].astype(int)\n",
    "                _data['mass'] = _data['mass'].astype(float)\n",
    "                _data['comment'] = _comments\n",
    "            elif _tag == 'Velocity':\n",
    "                _data = pd.DataFrame(np.array(_data, dtype=float), columns=['atomid', 'x', 'y', 'z'])\n",
    "                _data['atomid'] = data['atomid'].astype(int)\n",
    "                _data['comment'] = _comments\n",
    "            elif _tag == 'Atoms':\n",
    "                _columns = ['id', 'mol-id', 'type', 'q', 'x', 'y', 'z', 'ix', 'iy', 'iz']\n",
    "                _int_cols = ['id', 'mol-id', 'type', 'ix', 'iy', 'iz']\n",
    "                if len(_data[0]) == 6:\n",
    "                    _columns.remove('q')\n",
    "                    _data = pd.DataFrame(_data, columns=_columns[:3] + _columns[4:7], dtype=float)\n",
    "                if len(_data[0]) == 7:\n",
    "                    # atom-tag molecule-tag atom-type q x y z nx ny nz  (nx,ny,nz are optional)\n",
    "                    _data = pd.DataFrame(_data, columns=_columns[:7], dtype=float)\n",
    "                elif len(_data[0])==10:\n",
    "                    _data = pd.DataFrame(_data, columns=_columns, dtype=float)\n",
    "\n",
    "                for _col in _int_cols:\n",
    "                    if _col in _data:\n",
    "                        _data[_col] = _data[_col].astype(int)\n",
    "\n",
    "            data[_tag] = _data\n",
    "    return data\n"
   ]
  },
  {
   "cell_type": "code",
   "execution_count": 83,
   "metadata": {},
   "outputs": [
    {
     "ename": "IndentationError",
     "evalue": "expected an indented block (<ipython-input-83-e184477f66a7>, line 2)",
     "output_type": "error",
     "traceback": [
      "\u001b[0;36m  File \u001b[0;32m\"<ipython-input-83-e184477f66a7>\"\u001b[0;36m, line \u001b[0;32m2\u001b[0m\n\u001b[0;31m    \u001b[0m\n\u001b[0m    ^\u001b[0m\n\u001b[0;31mIndentationError\u001b[0m\u001b[0;31m:\u001b[0m expected an indented block\n"
     ]
    }
   ],
   "source": [
    "def _format_lammpdata(data):\n",
    "    "
   ]
  },
  {
   "cell_type": "code",
   "execution_count": 84,
   "metadata": {},
   "outputs": [
    {
     "name": "stdout",
     "output_type": "stream",
     "text": [
      "Masses\n",
      "   atomid    mass comment\n",
      "0       1  12.011        \n",
      "Atoms\n",
      "   id  mol-id  type       q    x    y    z\n",
      "0   1       1     1 -0.2382  1.0  1.0  0.0\n",
      "Bonds\n",
      "   id  type  i0  i1 comment\n",
      "0   1     1   2   1        \n",
      "Angles\n",
      "   id  type  i0  i1  i2 comment\n",
      "0   1     1   1   2   3        \n",
      "Dihedrals\n",
      "   id  type  i0  i1  i2  i3 comment\n",
      "0   1     1   4   3   2   1        \n",
      "Impropers\n",
      "   id  type  i0  i1  i2  i3 comment\n",
      "0   1     1   7   9   6   8        \n",
      "Pair Coeffs\n",
      "   type  coeff0  coeff1\n",
      "0     1   0.066     3.5\n",
      "Bond Coeffs\n",
      "   type  coeff0  coeff1\n",
      "0     1   268.0   1.529\n",
      "Angle Coeffs\n",
      "   type  coeff0  coeff1\n",
      "0     1   58.35   112.7\n",
      "Dihedral Coeffs\n",
      "   type  coeff0  coeff1  coeff2  coeff3\n",
      "0     1     1.3    -0.2     0.2     0.0\n",
      "Improper Coeffs\n",
      "   type  coeff0  coeff1  coeff2\n",
      "0     1     0.0    -1.0       2\n",
      "title LAMMPS data file Created by LigParGen - (Written by Leela S. Dodda)\n",
      "atom types 36\n",
      "bond types 35\n",
      "angle types 65\n",
      "dihedral types 82\n",
      "improper types 21\n",
      "atoms 36\n",
      "bonds 35\n",
      "angles 65\n",
      "dihedrals 82\n",
      "impropers 21\n",
      "xlo -4.25807\n",
      "xhi 45.74193\n",
      "ylo -0.00818\n",
      "yhi 49.99182\n",
      "zlo -1.02612\n",
      "zhi 48.97388\n"
     ]
    }
   ],
   "source": [
    "test_read_lammpsdata()"
   ]
  },
  {
   "cell_type": "code",
   "execution_count": 85,
   "metadata": {},
   "outputs": [],
   "source": [
    "data, lines = read_lammpsdata('../../ligpargen_data/0.data')"
   ]
  },
  {
   "cell_type": "code",
   "execution_count": 86,
   "metadata": {},
   "outputs": [
    {
     "ename": "SyntaxError",
     "evalue": "invalid syntax (<ipython-input-86-815df0e9ea67>, line 2)",
     "output_type": "error",
     "traceback": [
      "\u001b[0;36m  File \u001b[0;32m\"<ipython-input-86-815df0e9ea67>\"\u001b[0;36m, line \u001b[0;32m2\u001b[0m\n\u001b[0;31m    p[1].\u001b[0m\n\u001b[0m         ^\u001b[0m\n\u001b[0;31mSyntaxError\u001b[0m\u001b[0;31m:\u001b[0m invalid syntax\n"
     ]
    }
   ],
   "source": [
    "p = data['Pair Coeffs']\n",
    "p[1].\n"
   ]
  },
  {
   "cell_type": "code",
   "execution_count": 56,
   "metadata": {},
   "outputs": [],
   "source": [
    "data['Atoms']\n",
    "data['Pair Coeffs']\n",
    "_data = pd.concat([data['Pair Coeffs'][[1,2]], data['Atoms'][['mol-id']], data['Masses']['mass']], axis=1)"
   ]
  },
  {
   "cell_type": "code",
   "execution_count": 69,
   "metadata": {},
   "outputs": [],
   "source": [
    "df = _data.sort_values(['mol-id', 'mass', 1, 2])\n",
    "indexer = df.index.values\n",
    "a = df.values"
   ]
  },
  {
   "cell_type": "code",
   "execution_count": 75,
   "metadata": {},
   "outputs": [
    {
     "data": {
      "text/plain": [
       "1          object\n",
       "2          object\n",
       "mol-id      int64\n",
       "mass      float64\n",
       "dtype: object"
      ]
     },
     "execution_count": 75,
     "metadata": {},
     "output_type": "execute_result"
    }
   ],
   "source": [
    "df.dtypes"
   ]
  },
  {
   "cell_type": "code",
   "execution_count": null,
   "metadata": {},
   "outputs": [],
   "source": []
  }
 ],
 "metadata": {
  "interpreter": {
   "hash": "c234fce11f2837fac9d5905a5a3f629cc63d237c9357fcd422f1c8717e73452c"
  },
  "kernelspec": {
   "display_name": "Python 3.9.5 ('mi')",
   "language": "python",
   "name": "python3"
  },
  "language_info": {
   "codemirror_mode": {
    "name": "ipython",
    "version": 3
   },
   "file_extension": ".py",
   "mimetype": "text/x-python",
   "name": "python",
   "nbconvert_exporter": "python",
   "pygments_lexer": "ipython3",
   "version": "3.9.5"
  },
  "orig_nbformat": 4
 },
 "nbformat": 4,
 "nbformat_minor": 2
}
