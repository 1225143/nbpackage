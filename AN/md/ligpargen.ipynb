{
 "cells": [
  {
   "cell_type": "markdown",
   "metadata": {},
   "source": [
    "# Mocule for Molecular Dynamics."
   ]
  },
  {
   "cell_type": "code",
   "execution_count": 2,
   "metadata": {},
   "outputs": [],
   "source": [
    "#!/bin/env python\n",
    "import os\n",
    "import sys\n",
    "import time\n"
   ]
  },
  {
   "cell_type": "code",
   "execution_count": null,
   "metadata": {},
   "outputs": [],
   "source": [
    "class LigParGen():\n",
    "    def __init__(self, is_headless=True):\n",
    "\n",
    "        self.url = 'http://zarbi.chem.yale.edu/ligpargen/'\n",
    "        self.prefs = {\"download.default_directory\" : os.getcwd()}\n",
    "\n",
    "\n",
    "    def get_opls_from_smiles(self,\n",
    "            smiles='CCC',\n",
    "            format='lammps',\n",
    "            to='filename'\n",
    "    ):\n",
    "        import selenium\n",
    "        from selenium import webdriver\n",
    "        from selenium.webdriver.common.keys import Keys\n",
    "        self.options = webdriver.ChromeOptions()\n",
    "    #    options.add_argument('--headless')\n",
    "        self.options.add_experimental_option('prefs', self.prefs)\n",
    "        if is_headless: \n",
    "            self.options.add_argument('--headless')\n",
    "        self.driver = webdriver.Chrome(options=self.options)\n",
    "        \n",
    "        self.driver.get(self.url)\n",
    "        \n",
    "        print(self.driver.title)\n",
    "        box = self.driver.find_element_by_id('smiles')\n",
    "        print(box)\n",
    "        box.send_keys(smiles)\n",
    "\n",
    "        time.sleep(10)\n",
    "\n",
    "        b = self.driver.find_element_by_class_name(\"btn\")\n",
    "        print(b)\n",
    "        b.submit()\n",
    "\n",
    "        time.sleep(10)\n",
    "\n",
    "        p = self.driver.find_elements_by_css_selector('p')\n",
    "        print(p)\n",
    "        f = self.driver.find_element_by_class_name('form-group')\n",
    "        keys = [_.get_property('value') for _ in  f.find_elements_by_name('go')]\n",
    "        d = dict(list(zip(keys, f.find_elements_by_name('go'))))\n",
    "        d['LAMMPS'].submit()\n",
    "\n",
    "        time.sleep(10)"
   ]
  },
  {
   "cell_type": "code",
   "execution_count": 3,
   "metadata": {},
   "outputs": [],
   "source": [
    "\n"
   ]
  },
  {
   "cell_type": "code",
   "execution_count": 5,
   "metadata": {},
   "outputs": [
    {
     "name": "stdout",
     "output_type": "stream",
     "text": [
      "<selenium.webdriver.chrome.options.Options object at 0x15747af40>\n",
      "LigParGen Server\n",
      "<selenium.webdriver.remote.webelement.WebElement (session=\"d15ba799faf21c4fbf00d0ac425fbb73\", element=\"12ef019e-da32-4498-bc89-eba8014a4650\")>\n",
      "<selenium.webdriver.remote.webelement.WebElement (session=\"d15ba799faf21c4fbf00d0ac425fbb73\", element=\"f6bb061e-1b27-4413-8181-f965a16357db\")>\n",
      "[<selenium.webdriver.remote.webelement.WebElement (session=\"d15ba799faf21c4fbf00d0ac425fbb73\", element=\"cd311add-d96c-4ac3-b10c-ef5e8842e063\")>, <selenium.webdriver.remote.webelement.WebElement (session=\"d15ba799faf21c4fbf00d0ac425fbb73\", element=\"fa20b8bc-cb97-41fd-b02a-af73a37f1b6e\")>, <selenium.webdriver.remote.webelement.WebElement (session=\"d15ba799faf21c4fbf00d0ac425fbb73\", element=\"8809861f-e111-4824-8337-e2f00a0303c7\")>, <selenium.webdriver.remote.webelement.WebElement (session=\"d15ba799faf21c4fbf00d0ac425fbb73\", element=\"e9f12033-f275-48ca-8d5b-2f4f2d9463e7\")>, <selenium.webdriver.remote.webelement.WebElement (session=\"d15ba799faf21c4fbf00d0ac425fbb73\", element=\"d56f8f0f-3775-48f2-88e3-26a810b9bf6c\")>, <selenium.webdriver.remote.webelement.WebElement (session=\"d15ba799faf21c4fbf00d0ac425fbb73\", element=\"8e5ef613-9a96-462f-aba0-9cad99126887\")>, <selenium.webdriver.remote.webelement.WebElement (session=\"d15ba799faf21c4fbf00d0ac425fbb73\", element=\"73735c69-c22c-4035-85f3-1c5b67c7a34f\")>, <selenium.webdriver.remote.webelement.WebElement (session=\"d15ba799faf21c4fbf00d0ac425fbb73\", element=\"f832f37f-6210-4ebf-a2b6-59c04a75ea3e\")>, <selenium.webdriver.remote.webelement.WebElement (session=\"d15ba799faf21c4fbf00d0ac425fbb73\", element=\"d11d4e54-e812-4b4f-b253-123f70bb69fb\")>, <selenium.webdriver.remote.webelement.WebElement (session=\"d15ba799faf21c4fbf00d0ac425fbb73\", element=\"a3e335cf-2b2c-400f-b111-38308fd4614f\")>, <selenium.webdriver.remote.webelement.WebElement (session=\"d15ba799faf21c4fbf00d0ac425fbb73\", element=\"5f70bb05-3e11-4b73-9171-7d5d26db1228\")>, <selenium.webdriver.remote.webelement.WebElement (session=\"d15ba799faf21c4fbf00d0ac425fbb73\", element=\"ddc2f0d7-75c1-4e39-be75-be9bf5951401\")>, <selenium.webdriver.remote.webelement.WebElement (session=\"d15ba799faf21c4fbf00d0ac425fbb73\", element=\"f87db089-c8ae-4e1f-975e-816479c33a89\")>, <selenium.webdriver.remote.webelement.WebElement (session=\"d15ba799faf21c4fbf00d0ac425fbb73\", element=\"0f7fe245-3f1a-4925-a323-97bb7612c2c7\")>, <selenium.webdriver.remote.webelement.WebElement (session=\"d15ba799faf21c4fbf00d0ac425fbb73\", element=\"0029eb5f-26ee-4ae5-b43b-5493eb91c486\")>, <selenium.webdriver.remote.webelement.WebElement (session=\"d15ba799faf21c4fbf00d0ac425fbb73\", element=\"e7c31f61-3d38-4a3b-8824-5d8352c3f016\")>, <selenium.webdriver.remote.webelement.WebElement (session=\"d15ba799faf21c4fbf00d0ac425fbb73\", element=\"48c138b9-0501-4e4e-900f-6b245118f165\")>, <selenium.webdriver.remote.webelement.WebElement (session=\"d15ba799faf21c4fbf00d0ac425fbb73\", element=\"d155cc91-ee72-447e-9ba2-5d61b2ec0a02\")>, <selenium.webdriver.remote.webelement.WebElement (session=\"d15ba799faf21c4fbf00d0ac425fbb73\", element=\"aa36599d-21b8-4110-8f88-c25c7bf890f5\")>, <selenium.webdriver.remote.webelement.WebElement (session=\"d15ba799faf21c4fbf00d0ac425fbb73\", element=\"c0ca96ec-b689-4484-9a5d-aa820daa7ee4\")>]\n"
     ]
    }
   ],
   "source": [
    "def test():\n",
    "    send_smiles_ligpargen()"
   ]
  },
  {
   "cell_type": "code",
   "execution_count": null,
   "metadata": {},
   "outputs": [],
   "source": []
  }
 ],
 "metadata": {
  "interpreter": {
   "hash": "c234fce11f2837fac9d5905a5a3f629cc63d237c9357fcd422f1c8717e73452c"
  },
  "kernelspec": {
   "display_name": "Python 3.9.5 ('mi')",
   "language": "python",
   "name": "python3"
  },
  "language_info": {
   "codemirror_mode": {
    "name": "ipython",
    "version": 3
   },
   "file_extension": ".py",
   "mimetype": "text/x-python",
   "name": "python",
   "nbconvert_exporter": "python",
   "pygments_lexer": "ipython3",
   "version": "3.9.5"
  },
  "orig_nbformat": 4
 },
 "nbformat": 4,
 "nbformat_minor": 2
}
