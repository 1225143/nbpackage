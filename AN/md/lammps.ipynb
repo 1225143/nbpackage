{
 "cells": [
  {
   "cell_type": "code",
   "execution_count": null,
   "metadata": {},
   "outputs": [],
   "source": []
  },
  {
   "cell_type": "code",
   "execution_count": null,
   "metadata": {},
   "outputs": [],
   "source": [
    "class Lammps():\n",
    "    def __init__(self):\n",
    "        pass\n",
    "    \n",
    "    def check_ligpargen_format(self, filename):\n",
    "        with open(filename) as f:\n",
    "            lines = f.read()\n",
    "        return lines "
   ]
  }
 ],
 "metadata": {
  "language_info": {
   "name": "python"
  },
  "orig_nbformat": 4
 },
 "nbformat": 4,
 "nbformat_minor": 2
}
