{
 "cells": [
  {
   "cell_type": "code",
   "execution_count": null,
   "metadata": {},
   "outputs": [],
   "source": [
    "def refine_opls_via_pfp(filename, to=None):\n",
    "    \n",
    "    with open(filename) as f:\n",
    "        lines = f.read()\n",
    "    \n",
    "    if to is not None:\n",
    "        with open(to, 'w') as f:\n",
    "            f.write(lines)\n",
    "    ## TODO: PFP-tuned OPLS.\n",
    "\n",
    "    return lines"
   ]
  }
 ],
 "metadata": {
  "language_info": {
   "name": "python"
  },
  "orig_nbformat": 4
 },
 "nbformat": 4,
 "nbformat_minor": 2
}
