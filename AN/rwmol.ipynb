{
 "cells": [
  {
   "cell_type": "markdown",
   "metadata": {},
   "source": [
    "## Scripts for read/write molecules."
   ]
  },
  {
   "cell_type": "code",
   "execution_count": 19,
   "metadata": {},
   "outputs": [],
   "source": [
    "from io import StringIO\n",
    "import rdkit\n",
    "from rdkit import Chem\n",
    "from rdkit.Chem import AllChem, Draw\n",
    "from ase.io import read "
   ]
  },
  {
   "cell_type": "code",
   "execution_count": 20,
   "metadata": {},
   "outputs": [],
   "source": [
    "def get_rwmol_from_smiles(smiles, add_Hs=True, add_conformer=True):\n",
    "    is_scalar=False\n",
    "    rwmols = []\n",
    "    if hasattr(smiles, 'isalpha'):\n",
    "        is_scalar=True\n",
    "        smiles = [smiles]\n",
    "    for _smiles in smiles:\n",
    "        mol = Chem.MolFromSmiles(_smiles)\n",
    "        if add_Hs:\n",
    "            mol = AllChem.AddHs(mol)\n",
    "        if add_conformer:\n",
    "            AllChem.EmbedMolecule(mol)\n",
    "        rwmol = AllChem.RWMol(mol)\n",
    "        if is_scalar:\n",
    "            return rwmol\n",
    "        else:\n",
    "            rwmols.append(rwmol)     \n",
    "    return rwmols\n",
    " "
   ]
  },
  {
   "cell_type": "code",
   "execution_count": 23,
   "metadata": {},
   "outputs": [],
   "source": [
    "def rwmol_to_aseAtoms(rwmol):\n",
    "    lines = Chem.MolToPDBBlock(rwmol)\n",
    "    with StringIO() as f:\n",
    "        f.write(lines)\n",
    "        f.seek(0)\n",
    "        a = read(f, format='proteindatabank')\n",
    "    return a "
   ]
  },
  {
   "cell_type": "code",
   "execution_count": 24,
   "metadata": {},
   "outputs": [
    {
     "name": "stdout",
     "output_type": "stream",
     "text": [
      "<rdkit.Chem.rdchem.RWMol object at 0x000002467EF84680>\n",
      "Atoms(symbols='C8H10', pbc=False, atomtypes=..., bfactor=..., occupancy=..., residuenames=..., residuenumbers=...)\n"
     ]
    }
   ],
   "source": [
    "def test():\n",
    "    s = \"CCc1ccc(cc1)\"\n",
    "    m = get_rwmol_from_smiles(s)\n",
    "    print(m)\n",
    "\n",
    "    a = rwmol_to_aseAtoms(m)\n",
    "    print(a)\n",
    "\n",
    "    "
   ]
  },
  {
   "cell_type": "code",
   "execution_count": null,
   "metadata": {},
   "outputs": [],
   "source": []
  },
  {
   "cell_type": "code",
   "execution_count": null,
   "metadata": {},
   "outputs": [],
   "source": []
  },
  {
   "cell_type": "markdown",
   "metadata": {},
   "source": []
  }
 ],
 "metadata": {
  "interpreter": {
   "hash": "d53cf000b25ef4e20ac373eeb5d731e09b9a10233d1a295aee4c40793bce08f1"
  },
  "kernelspec": {
   "display_name": "Python 3.9.4 64-bit",
   "language": "python",
   "name": "python3"
  },
  "language_info": {
   "codemirror_mode": {
    "name": "ipython",
    "version": 3
   },
   "file_extension": ".py",
   "mimetype": "text/x-python",
   "name": "python",
   "nbconvert_exporter": "python",
   "pygments_lexer": "ipython3",
   "version": "3.9.4"
  },
  "orig_nbformat": 4
 },
 "nbformat": 4,
 "nbformat_minor": 2
}
