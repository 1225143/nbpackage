{
 "cells": [
  {
   "cell_type": "markdown",
   "metadata": {},
   "source": [
    "## Scripts for read/write molecules."
   ]
  },
  {
   "cell_type": "code",
   "execution_count": 1,
   "metadata": {},
   "outputs": [],
   "source": [
    "import rdkit\n",
    "from rdkit import Chem\n",
    "from rdkit.Chem import AllChem, Draw"
   ]
  },
  {
   "cell_type": "code",
   "execution_count": 2,
   "metadata": {},
   "outputs": [],
   "source": [
    "def get_rwmol_from_smiles(smiles, add_Hs=True, add_conformer=True):\n",
    "    is_scalar=False\n",
    "    rwmols = []\n",
    "    if hasattr(smiles, 'isalpha'):\n",
    "        is_scalar=True\n",
    "        smiles = [smiles]\n",
    "    for _smiles in smiles:\n",
    "        mol = Chem.MolFromSmiles(_smiles)\n",
    "        if add_Hs:\n",
    "            mol = AllChem.AddHs(mol)\n",
    "        if add_conformer:\n",
    "            AllChem.EmbedMolecule(mol)\n",
    "        rwmol = AllChem.RWMol(mol)\n",
    "        if is_scalar:\n",
    "            return rwmol\n",
    "        else:\n",
    "            rwmols.append(rwmol)     \n",
    "    return rwmols\n",
    " "
   ]
  },
  {
   "cell_type": "markdown",
   "metadata": {},
   "source": []
  },
  {
   "cell_type": "markdown",
   "metadata": {},
   "source": []
  }
 ],
 "metadata": {
  "interpreter": {
   "hash": "40d3a090f54c6569ab1632332b64b2c03c39dcf918b08424e98f38b5ae0af88f"
  },
  "kernelspec": {
   "display_name": "Python 3.7.8 ('base')",
   "language": "python",
   "name": "python3"
  },
  "language_info": {
   "codemirror_mode": {
    "name": "ipython",
    "version": 3
   },
   "file_extension": ".py",
   "mimetype": "text/x-python",
   "name": "python",
   "nbconvert_exporter": "python",
   "pygments_lexer": "ipython3",
   "version": "3.7.8"
  },
  "orig_nbformat": 4
 },
 "nbformat": 4,
 "nbformat_minor": 2
}
