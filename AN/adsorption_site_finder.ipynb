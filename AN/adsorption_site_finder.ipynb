{
 "cells": [
  {
   "cell_type": "code",
   "execution_count": 1,
   "id": "ab6b1b31-129b-40e9-8b8e-1981ac35ca76",
   "metadata": {},
   "outputs": [
    {
     "data": {
      "application/vnd.jupyter.widget-view+json": {
       "model_id": "7f5111e733a2417b852d7ef1350abd3b",
       "version_major": 2,
       "version_minor": 0
      },
      "text/plain": []
     },
     "metadata": {},
     "output_type": "display_data"
    }
   ],
   "source": [
    "#!/usr/bin/env python\n",
    "# coding: utf-8\n",
    "\n",
    "## ZnDTPとFM剤の酸化鉄表面吸着\n",
    "\n",
    "import os, sys, csv, time, socket, glob, shutil #, re\n",
    "from io import StringIO\n",
    "import pickle\n",
    "from itertools import combinations, product\n",
    "\n",
    "# NOTE: Should I set \"CUDA_VISIBLE_DEVICES\" befor importing modules?\n",
    "\n",
    "import numpy as np\n",
    "import pandas as pd\n",
    "import matplotlib.pyplot as plt\n",
    "from ase import Atoms\n",
    "\n",
    "# from ase.md.langevin import Langevin\n",
    "from ase.optimize import BFGS, FIRE\n",
    "from ase import units\n",
    "\n",
    "# from ase.md.npt import NPT\n",
    "# from ase.md.verlet import VelocityVerlet\n",
    "# from ase.md.velocitydistribution import MaxwellBoltzmannDistribution, Stationary\n",
    "from ase.io import read, write\n",
    "from ase.io.trajectory import Trajectory\n",
    "\n",
    "# from ase.io.trajectory import Trajectory\n",
    "from ase.build import surface, add_adsorbate, bulk\n",
    "from ase.constraints import FixAtoms, StrainFilter, ExpCellFilter\n",
    "from ase.visualize import view\n",
    "\n",
    "from rdkit import Chem\n",
    "from rdkit.Chem import AllChem, Draw\n",
    "\n",
    "import optuna\n",
    "from optuna.samplers import TPESampler\n",
    "import nglview as nv\n",
    "from nglview.datafiles import PDB, XTC\n",
    "\n",
    "# from IPython.display import Image, display_png\n"
   ]
  },
  {
   "cell_type": "markdown",
   "id": "6a9dc931-c2fb-4e49-af04-c1101b36ebf1",
   "metadata": {},
   "source": [
    "### SMILES文字列から構造(元素と座標)を作成しase.Atomsを返す。"
   ]
  },
  {
   "cell_type": "code",
   "execution_count": 3,
   "id": "5fb11101-9181-47ca-b40e-340835b0c2d5",
   "metadata": {},
   "outputs": [],
   "source": [
    "def smiles_to_atoms(smiles='CC', return_rwmol=False):\n",
    "    rwmol = Chem.MolFromSmiles(smiles)\n",
    "    rwmol = Chem.RWMol(rwmol)\n",
    "    rwmol = AllChem.AddHs(rwmol)\n",
    "    AllChem.EmbedMolecule(rwmol)\n",
    "    with StringIO() as f:\n",
    "        f.write(Chem.MolToPDBBlock(rwmol))\n",
    "        f.seek(0)\n",
    "        mol = read(f, format='proteindatabank')\n",
    "    if return_rwmol:\n",
    "        return mol, rwmol\n",
    "    else:\n",
    "        return mol"
   ]
  },
  {
   "cell_type": "markdown",
   "id": "19e12cb7-5b0d-4d5e-9084-09a252cdbbaa",
   "metadata": {},
   "source": [
    "### 構造可視化の設定"
   ]
  },
  {
   "cell_type": "code",
   "execution_count": 4,
   "id": "c4081576-e384-47e1-a2be-81c83b35cc7f",
   "metadata": {},
   "outputs": [],
   "source": [
    "\n",
    "def surview(atoms):\n",
    "    v = nv.show_ase(atoms, gui=False)\n",
    "    # v.control.zoom(-0.3)\n",
    "    v.control.spin([1, 0, 0], 3.141 * 1.4)\n",
    "    # v.control.spin ([0,1,0], 3.14)\n",
    "    v.add_representation(\n",
    "        repr_type=\"unitcell\",\n",
    "    )\n",
    "    if len(atoms) > 400:\n",
    "        v.add_representation(\n",
    "            repr_type=\"spacefill\",\n",
    "        )\n",
    "    v._remote_call(\"setSize\", args=[\"250px\", \"400px\"])\n",
    "    v.background = \"#161616\"\n",
    "    # add_xyz (v, atoms)\n",
    "    return v"
   ]
  },
  {
   "cell_type": "code",
   "execution_count": 5,
   "id": "db3ff72f-42ec-416c-9f65-4f7f712cc1a3",
   "metadata": {},
   "outputs": [],
   "source": [
    "\n",
    "\n",
    "\n",
    "def add_xyz(view, atoms):\n",
    "    view.shape.add(\"text\", [0, 0, 0], [0.1, 0.5, 0.1], 4, \"   0, 0, 0\")\n",
    "    x = int(sum(atoms.cell[:, 0]))\n",
    "    y = int(sum(atoms.cell[:, 1]))\n",
    "    z = int(sum(atoms.cell[:, 2]))\n",
    "    view.shape.add(\n",
    "        \"text\", [x, y, z], [0.1, 0.5, 0.1], 4, str(x) + \",\" + str(y) + \",\" + str(z)\n",
    "    )\n",
    "\n",
    "\n",
    "def add_no(view, atoms, v=[]):\n",
    "    if v == []:\n",
    "        v = list(range(len(atoms)))\n",
    "        # v = list (range (10)) + list (range (len (atoms) - 20, len (atoms)))\n",
    "    for i, atom in enumerate(atoms):\n",
    "        if i in v:\n",
    "            view.shape.add(\n",
    "                \"text\", [atom.x, atom.y, atom.z], [0.1, 0.5, 0.1], 1, \" \" + str(i)\n",
    "            )\n",
    "\n",
    "\n",
    "def add_sym(view, atoms):\n",
    "    for i, atom in enumerate(atoms):\n",
    "        view.shape.add(\n",
    "            \"text\", [atom.x, atom.y, atom.z], [0.5, 0.5, 0.5], 1, atom.symbol\n",
    "        )\n",
    "\n",
    "\n",
    "def add_dis(view, atoms, a1, a2):\n",
    "    view.shape.add(\n",
    "        \"cylinder\",\n",
    "        [atoms[a1].x, atoms[a1].y, atoms[a1].z],\n",
    "        [atoms[a2].x, atoms[a2].y, atoms[a2].z],\n",
    "        [0.9, 0.1, 0.1],\n",
    "        0.05,\n",
    "    )\n",
    "    x = 0.5 * (atoms[a1].x + atoms[a2].x)\n",
    "    y = 0.5 * (atoms[a1].y + atoms[a2].y)\n",
    "    z = 0.5 * (atoms[a1].z + atoms[a2].z)\n",
    "    d = np.round(atoms.get_distance(a1, a2), 2)\n",
    "    view.shape.add(\"text\", [x, y, z], [0.9, 0.1, 0.1], 3, \" \" + str(d) + \"A\")\n",
    "\n"
   ]
  },
  {
   "cell_type": "markdown",
   "id": "337cff25-34b0-42e5-b183-4376d9df1fae",
   "metadata": {},
   "source": [
    "### 構造最適化"
   ]
  },
  {
   "cell_type": "code",
   "execution_count": 6,
   "id": "e5a317f0-a08e-42cd-9c9d-5973ae3ad27d",
   "metadata": {},
   "outputs": [],
   "source": [
    "\n",
    "\n",
    "def myopt(\n",
    "    atoms,\n",
    "    fmax=0.05,\n",
    "    steps=1000,\n",
    "    maxstep=0.2,\n",
    "    logfile=None,\n",
    "    constraintatoms=[],\n",
    "    calculator=None,\n",
    "):\n",
    "    sc = FixAtoms(indices=constraintatoms)\n",
    "    atoms.set_constraint(sc)\n",
    "    atoms.set_calculator(calculator)\n",
    "    opt = BFGS(atoms, maxstep=maxstep, logfile=logfile)\n",
    "    opt.run(fmax, steps=steps)\n",
    "    return atoms\n",
    "\n"
   ]
  },
  {
   "cell_type": "code",
   "execution_count": 7,
   "id": "3c97f1a6-7109-43d6-8b16-8aca500927fb",
   "metadata": {},
   "outputs": [],
   "source": [
    "\n",
    "def SetCutoff(a):\n",
    "    if a.get_pbc()[0] == True or a.get_pbc()[1] == True or a.get_pbc()[2] == True:\n",
    "        print(\"Periodic system is not available\")\n",
    "        return 0.0\n",
    "    else:\n",
    "        pos = a.get_positions()\n",
    "        rmin = 1.0e5\n",
    "        for i in range(len(a)):\n",
    "            for j in range(i + 1, len(a), 1):\n",
    "                rx = pos[i, 0] - pos[j, 0]\n",
    "                ry = pos[i, 1] - pos[j, 1]\n",
    "                rz = pos[i, 2] - pos[j, 2]\n",
    "                rr = np.sqrt(rx * rx + ry * ry + rz * rz)\n",
    "                if rr < rmin:\n",
    "                    rmin = rr\n",
    "        rmin *= 0.99\n",
    "        return rmin\n",
    "\n",
    "\n",
    "def SetCutoffElem(a):\n",
    "    if a.get_pbc()[0] == True or a.get_pbc()[1] == True or a.get_pbc()[2] == True:\n",
    "        print(\"Periodic system is not available\")\n",
    "        return 0.0\n",
    "    else:\n",
    "        pos = a.get_positions()\n",
    "        sym = a.get_chemical_symbols()\n",
    "        rminH = 1.0e5\n",
    "        rmin = 1.0e5\n",
    "        for i in range(len(a)):\n",
    "            for j in range(i + 1, len(a), 1):\n",
    "                rx = pos[i, 0] - pos[j, 0]\n",
    "                ry = pos[i, 1] - pos[j, 1]\n",
    "                rz = pos[i, 2] - pos[j, 2]\n",
    "                rr = np.sqrt(rx * rx + ry * ry + rz * rz)\n",
    "                if sym[i] != \"H\" and sym[j] != \"H\":\n",
    "                    if rr < rmin:\n",
    "                        rmin = rr\n",
    "                else:\n",
    "                    if rr < rminH:\n",
    "                        rminH = rr\n",
    "        rmin *= 0.99\n",
    "        rminH *= 0.99\n",
    "        print(\"Cutoff for hydrogen: {:.2f} A\".format(rminH))\n",
    "        print(\"Cutoff for others:   {:.2f} A\".format(rmin))\n",
    "        return rmin, rminH\n",
    "\n"
   ]
  },
  {
   "cell_type": "markdown",
   "id": "e4c7977e-3396-479b-9d58-8d99c556f0ed",
   "metadata": {},
   "source": [
    "### Optunaに渡す関数の定義\n",
    "TODO: classにする。"
   ]
  },
  {
   "cell_type": "code",
   "execution_count": 8,
   "id": "935d8968-df65-40c5-b1e1-e50448982cfa",
   "metadata": {},
   "outputs": [],
   "source": [
    "\n",
    "def init_objective(\n",
    "    calculator,\n",
    "    mol,\n",
    "    slab,\n",
    "    surface_elements,\n",
    "    initx=0.0,\n",
    "    inity=0.0,\n",
    "    initz=0.0,\n",
    "    rcut=1.2,\n",
    "    rcutH=1.0,\n",
    "    z_fix=6.0,\n",
    "    fmax=0.1,\n",
    "    steps=2000,\n",
    "    maxstep=0.2,\n",
    "    logfile=None,\n",
    "    traj=None,\n",
    "):\n",
    "    if not hasattr(fmax, \"__iter__\"):\n",
    "        fmax = [fmax]\n",
    "\n",
    "    def _objective(trial):\n",
    "        xmin = np.min(slab.get_positions()[:, 0])\n",
    "        xmax = np.max(slab.get_positions()[:, 0])\n",
    "        ymin = np.min(slab.get_positions()[:, 1])\n",
    "        ymax = np.max(slab.get_positions()[:, 1])\n",
    "\n",
    "        x_ang = trial.suggest_uniform(\"x_ang\", 0.0, 360.0)\n",
    "        y_ang = trial.suggest_uniform(\"y_ang\", 0.0, 360.0)\n",
    "        z_ang = trial.suggest_uniform(\"z_ang\", 0.0, 360.0)\n",
    "        x_pos = trial.suggest_uniform(\"x_pos\", xmin, xmax)\n",
    "        y_pos = trial.suggest_uniform(\"y_pos\", ymin, ymax)\n",
    "        z_hig = trial.suggest_uniform(\"z_hig\", 2.0, 3.5)\n",
    "\n",
    "        m = mol.copy()\n",
    "        m.rotate(initx, \"x\")\n",
    "        m.rotate(inity, \"y\")\n",
    "        m.rotate(initz, \"z\")\n",
    "        m.rotate(x_ang, \"x\")\n",
    "        m.rotate(y_ang, \"y\")\n",
    "        m.rotate(z_ang, \"z\")\n",
    "\n",
    "        b = m.positions[:, 2].argmin()\n",
    "        ads = slab.copy()\n",
    "        ads = AddMol(\n",
    "            ads, m, x_pos, y_pos, z_hig, b, 2.0, surface_elements=surface_elements\n",
    "        )\n",
    "        ads.wrap()\n",
    "        err = CheckOverlapElem(ads, rcut, rcutH)\n",
    "        if err == 0:\n",
    "            c = [a.index for a in ads if a.z < z_fix]\n",
    "            #            ads = myopt (ads, 0.1, 2000, 0.2, None, constraintatoms = c)\n",
    "            # optimizeの収束条件を徐々に厳しくしつつ、保存や出力をする。\n",
    "            for _fmax in fmax:\n",
    "                ads = myopt(\n",
    "                    ads,\n",
    "                    fmax=_fmax,\n",
    "                    steps=steps,\n",
    "                    maxstep=maxstep,\n",
    "                    logfile=logfile,\n",
    "                    constraintatoms=c,\n",
    "                    calculator=calculator,\n",
    "                )\n",
    "                # 後処理 (今は無し)\n",
    "                \n",
    "            if traj is not None:\n",
    "                traj.write(ads)\n",
    "            return ads.get_potential_energy()\n",
    "        else:\n",
    "            return 0.0\n",
    "\n",
    "    return _objective, traj\n"
   ]
  },
  {
   "cell_type": "code",
   "execution_count": 9,
   "id": "459a2e80-7b22-41b0-98d0-f1d728e3ccff",
   "metadata": {},
   "outputs": [],
   "source": [
    "\n",
    "\n",
    "def CheckOverlap(a, rcut):\n",
    "    lx = a.get_cell_lengths_and_angles()[0]\n",
    "    ly = a.get_cell_lengths_and_angles()[1]\n",
    "    lz = a.get_cell_lengths_and_angles()[2]\n",
    "    pos = a.get_positions()\n",
    "    err = 0\n",
    "    for i in range(len(a)):\n",
    "        for j in range(i + 1, len(a), 1):\n",
    "            rx = (pos[i, 0] - pos[j, 0]) / lx\n",
    "            ry = (pos[i, 1] - pos[j, 1]) / ly\n",
    "            rz = (pos[i, 2] - pos[j, 2]) / lz\n",
    "            while rx < -0.5:\n",
    "                rx += 1.0\n",
    "            while rx > 0.5:\n",
    "                rx -= 1.0\n",
    "            while ry < -0.5:\n",
    "                ry += 1.0\n",
    "            while ry > 0.5:\n",
    "                ry -= 1.0\n",
    "            while rz < -0.5:\n",
    "                rz += 1.0\n",
    "            while rz > 0.5:\n",
    "                rz -= 1.0\n",
    "            rx *= lx\n",
    "            ry *= ly\n",
    "            rz *= lz\n",
    "            rr = np.sqrt(rx * rx + ry * ry + rz * rz)\n",
    "            if rr < rcut:\n",
    "                err += 1\n",
    "    return err\n",
    "\n",
    "\n",
    "def CheckOverlapElem(a, rcut, rcutH):\n",
    "    lx = a.get_cell_lengths_and_angles()[0]\n",
    "    ly = a.get_cell_lengths_and_angles()[1]\n",
    "    lz = a.get_cell_lengths_and_angles()[2]\n",
    "    pos = a.get_positions()\n",
    "    sym = a.get_chemical_symbols()\n",
    "    err = 0\n",
    "    for i in range(len(a)):\n",
    "        for j in range(i + 1, len(a), 1):\n",
    "            rx = (pos[i, 0] - pos[j, 0]) / lx\n",
    "            ry = (pos[i, 1] - pos[j, 1]) / ly\n",
    "            rz = (pos[i, 2] - pos[j, 2]) / lz\n",
    "            while rx < -0.5:\n",
    "                rx += 1.0\n",
    "            while rx > 0.5:\n",
    "                rx -= 1.0\n",
    "            while ry < -0.5:\n",
    "                ry += 1.0\n",
    "            while ry > 0.5:\n",
    "                ry -= 1.0\n",
    "            while rz < -0.5:\n",
    "                rz += 1.0\n",
    "            while rz > 0.5:\n",
    "                rz -= 1.0\n",
    "            rx *= lx\n",
    "            ry *= ly\n",
    "            rz *= lz\n",
    "            rr = np.sqrt(rx * rx + ry * ry + rz * rz)\n",
    "\n",
    "            if sym[i] != \"H\" and sym[j] != \"H\":\n",
    "                if rr < rcut:\n",
    "                    err += 1\n",
    "            else:\n",
    "                if rr < rcutH:\n",
    "                    err += 1\n",
    "    return err\n",
    "\n"
   ]
  },
  {
   "cell_type": "code",
   "execution_count": 10,
   "id": "a1c26b5f-a6fd-4057-a491-a822e8cd90b9",
   "metadata": {},
   "outputs": [],
   "source": [
    "\n",
    "def AddMol(a, m, x, y, h, b, rcut=2.0, surface_elements=[\"Fe\"]):\n",
    "\n",
    "    if isinstance(surface_elements, str):\n",
    "        surface_elements = [surface_elements]\n",
    "\n",
    "    # POSITIONS AND CHEMICAL SYMBOLS\n",
    "    pa = a.get_positions()\n",
    "    sa = a.get_chemical_symbols()\n",
    "    pm = m.get_positions()\n",
    "    sm = m.get_chemical_symbols()\n",
    "    # CELL\n",
    "    lx = a.get_cell_lengths_and_angles()[0]\n",
    "    ly = a.get_cell_lengths_and_angles()[1]\n",
    "    lz = a.get_cell_lengths_and_angles()[2]\n",
    "    # TRANSLATE MOLECULE POSITION\n",
    "    pm -= pm[b]\n",
    "    pm += [x, y, 0.0]\n",
    "    # TOP SURFACE\n",
    "    shift = 0.1\n",
    "    z = np.max([atom.z for atom in a if atom.symbol in surface_elements]) - shift\n",
    "    # CHECK OVERLAP\n",
    "    rep = True\n",
    "    while rep is True:\n",
    "        z += shift\n",
    "        err = 0\n",
    "        for i in range(len(a)):\n",
    "            for j in range(len(m)):\n",
    "                rx = (pm[j, 0] - pa[i, 0]) / lx\n",
    "                ry = (pm[j, 1] - pa[i, 1]) / ly\n",
    "                rz = ((pm[j, 2] + z + h) - pa[i, 2]) / lz\n",
    "                while rx < -0.5:\n",
    "                    rx += 1.0\n",
    "                while rx > 0.5:\n",
    "                    rx -= 1.0\n",
    "                while ry < -0.5:\n",
    "                    ry += 1.0\n",
    "                while ry > 0.5:\n",
    "                    ry -= 1.0\n",
    "                while rz < -0.5:\n",
    "                    rz += 1.0\n",
    "                while rz > 0.5:\n",
    "                    rz -= 1.0\n",
    "                rx *= lx\n",
    "                ry *= ly\n",
    "                rz *= lz\n",
    "                rr = np.sqrt(rx * rx + ry * ry + rz * rz)\n",
    "                if rr < rcut:\n",
    "                    err += 1\n",
    "        if err == 0:\n",
    "            rep = False\n",
    "    # TRANSLATE MOLECULE POSITION\n",
    "    pm += [0.0, 0.0, z + h]\n",
    "    # PLACE MOLECULE ON SLAB\n",
    "    p = np.append(pa, pm, axis=0)\n",
    "    s = np.append(sa, sm, axis=0)\n",
    "    return Atoms(symbols=s, positions=p, cell=a.get_cell(), pbc=True)\n",
    "\n"
   ]
  },
  {
   "cell_type": "markdown",
   "id": "aae878f2-4deb-4106-a7eb-e0a186438a03",
   "metadata": {},
   "source": [
    "### 分子とスラブの構造をファイルから読み込み、原子をソートする。"
   ]
  },
  {
   "cell_type": "code",
   "execution_count": 11,
   "id": "cb1bdad0-b851-4d2a-9b6e-b0b83c83154d",
   "metadata": {},
   "outputs": [],
   "source": [
    "\n",
    "def read_structures(ads_structure_file, slab_structure_file, sort_atoms=True):\n",
    "    \n",
    "    if isinstance(ads_structure_file, Atoms):\n",
    "        mol = ads_structure_file\n",
    "    elif os.path.exists(ads_structure_file):\n",
    "        mol = read(ads_structure_file)\n",
    "    else:\n",
    "        print(f\"adsorbate structure {ads_structure_file} not found\")\n",
    "        print(f\"in the current directory {os.getcwd()}\")\n",
    "        sys.exit()\n",
    "\n",
    "    if isinstance(slab_structure_file, Atoms):\n",
    "        slab = slab_structure_file\n",
    "    elif os.path.exists(slab_structure_file):\n",
    "        slab = read(slab_structure_file)\n",
    "    else:\n",
    "        print(f\"slab structure {slab_structure_file} not found\")\n",
    "        print(f\"in the current directory {os.getcwd()}\")\n",
    "        sys.exit()\n",
    "\n",
    "    if sort_atoms:\n",
    "        mol = mol[np.argsort(mol.get_chemical_symbols())]\n",
    "        slab = slab[np.argsort(slab.get_chemical_symbols())]\n",
    "    return mol, slab\n"
   ]
  },
  {
   "cell_type": "markdown",
   "id": "6f124dc9-2ab7-465f-9106-dfcd58c17b05",
   "metadata": {},
   "source": [
    "### 構造最適化の関数myoptのラッパー関数。\n",
    "分子、スラブ用に引数、前処理、後処理を加えたもの。"
   ]
  },
  {
   "cell_type": "code",
   "execution_count": 12,
   "id": "02d42359-7e6e-4e93-80e5-ff30bcaaa3e1",
   "metadata": {},
   "outputs": [],
   "source": [
    "def optimize_molecule(mol,\n",
    "        calculator=None,\n",
    "        fmax=0.1,\n",
    "        steps=1000,\n",
    "        maxstep=0.02,\n",
    "        outfile=\"mol_opt.json\",\n",
    "        logfile=None,\n",
    "):\n",
    "\n",
    "    mol = myopt(\n",
    "        mol,\n",
    "        fmax=fmax,\n",
    "        steps=steps,\n",
    "        maxstep=maxstep,\n",
    "        logfile=logfile,\n",
    "        calculator=calculator,\n",
    "    )\n",
    "    E_mol = mol.get_potential_energy()\n",
    "    print(\"  E_mol = {:.4f} eV\".format(E_mol))\n",
    "    mol.write(outfile)\n",
    "    \n",
    "    return mol, E_mol\n",
    "\n",
    "def optimize_slab(slab,\n",
    "                  calculator=None,\n",
    "                  z_fix=6.0,\n",
    "                  fmax=0.1,\n",
    "                  steps=1000000,\n",
    "                  maxstep=0.02,\n",
    "                  outfile='slab_opt.json',\n",
    "                  logfile=None,\n",
    "                  constraints=None,\n",
    "                 ):\n",
    "\n",
    "    if z_fix is not None:\n",
    "        c = [a.index for a in slab if a.z < z_fix]\n",
    "    else:\n",
    "        c = constraints\n",
    "\n",
    "    slab = myopt(\n",
    "        slab,\n",
    "        fmax=fmax,\n",
    "        steps=steps,\n",
    "        maxstep=maxstep,\n",
    "        logfile=logfile,\n",
    "        constraintatoms=c,\n",
    "        calculator=calculator,\n",
    "    )\n",
    "    E_slab = slab.get_potential_energy()\n",
    "    print(\"  E_slab = {:.4f} eV\".format(E_slab))\n",
    "    slab.write(outfile)\n",
    "    return slab, E_slab\n",
    "\n",
    "\n"
   ]
  },
  {
   "cell_type": "code",
   "execution_count": 13,
   "id": "59ff1635-4e37-4847-bea5-316e19b31ead",
   "metadata": {},
   "outputs": [],
   "source": [
    "def check_initial_geometry(mol, \n",
    "                           slab,\n",
    "                          initx=0.0,\n",
    "                          inity=0.0,\n",
    "                          initz=0.0,\n",
    "                          ):\n",
    "\n",
    "    tiny = sys.float_info.epsilon\n",
    "    (lx, ly, lz) = slab.get_cell_lengths_and_angles()[0:3]\n",
    "\n",
    "    m = mol.copy()\n",
    "    m.rotate(initx, \"x\")\n",
    "    m.rotate(inity, \"y\")\n",
    "    m.rotate(initz, \"z\")\n",
    "    b = m.positions[:, 2].argmin()\n",
    "    ads = slab.copy()\n",
    "    add_adsorbate(ads, m, 3.0, (0.5 * lx, 0.5 * ly), mol_index=b)\n",
    "    d = ads.get_all_distances(mic=True)\n",
    "    mask_nonzero = np.triu(d) > tiny\n",
    "    dmin = np.min(d[mask_nonzero])\n",
    "    print(f\"Check the initial geometry: dmin = {dmin:.2f} \")\n",
    "    return ads, dmin"
   ]
  },
  {
   "cell_type": "markdown",
   "id": "2f773274-810d-47a4-b47c-ea5d92a643b0",
   "metadata": {},
   "source": [
    "### 吸着構造の探索"
   ]
  },
  {
   "cell_type": "code",
   "execution_count": 14,
   "id": "b4873bf0-d167-4c1b-a695-5f0536f28266",
   "metadata": {},
   "outputs": [],
   "source": [
    "\n",
    "def find_ads_site(mol, \n",
    "                  slab, \n",
    "                  calculator, \n",
    "                  surface_elements=['Fe'], \n",
    "                  z_fix=6.0, \n",
    "                  # -->  分子の吸着位置の初期値\n",
    "                  initx=0.0, \n",
    "                  inity=0.0, \n",
    "                  initz=0.0, \n",
    "                  # --> myoptの変数。構造最適化の収束条件\n",
    "                  fmax=0.1, \n",
    "                  steps=1000, \n",
    "                  maxstep=0.02, \n",
    "                  # --> optunaの変数\n",
    "                  n_trials=10,  # 探索の回数\n",
    "                  n_jobs=1,     # 常に１\n",
    "                  n_startup_sampling=10, # 探索最初のランダムサンプリングの数 \n",
    "                  n_ei_candidates=24,    # EIの候補の数\n",
    "                  seed_sampler=None,     # 乱数シード\n",
    "                  multivariate=False,    # 変数が独立でない場合にTrue \n",
    "                  # --> 入出力\n",
    "                  show_progress_bar=True,\n",
    "                  trajfile='study.traj',\n",
    "                  prefix='',\n",
    "                  logfile=None,\n",
    "                  group=False,\n",
    "                  debug=False,\n",
    "                 ):\n",
    "    # --> Args for optuna study.\n",
    "    print(\"# --> Exploring stable adsorption sites...\")\n",
    "\n",
    "    if trajfile is not None:\n",
    "        traj = Trajectory(trajfile, \"a\")\n",
    "    else:\n",
    "        traj = None\n",
    "\n",
    "    rcut, rcutH = SetCutoffElem(mol)\n",
    "    \n",
    "    # Optunaのデフォルトのsampler\n",
    "    # 引数 multivariateを指定し、明示的にcreate_studyに渡す。\n",
    "    sampler = TPESampler( \n",
    "        n_startup_trials=n_startup_sampling,\n",
    "        n_ei_candidates=n_ei_candidates,\n",
    "        seed=seed_sampler,\n",
    "        multivariate=multivariate,\n",
    "        group=group,\n",
    "    )\n",
    "    study = optuna.create_study(sampler=sampler)\n",
    "    optuna.logging.disable_default_handler()\n",
    "    #    study.optimize (objective, n_trials = 1000, n_jobs = 1, show_progress_bar = True)\n",
    "    objective, traj = init_objective(\n",
    "        calculator,\n",
    "        mol,\n",
    "        slab,\n",
    "        surface_elements,\n",
    "        initx,\n",
    "        inity,\n",
    "        initz,\n",
    "        rcut,\n",
    "        rcutH,\n",
    "        z_fix,\n",
    "        fmax=fmax,\n",
    "        steps=steps,\n",
    "        maxstep=maxstep,\n",
    "        logfile=logfile,\n",
    "        traj=traj,\n",
    "    )\n",
    "    study.optimize(\n",
    "        objective,\n",
    "        n_trials=n_trials,\n",
    "        n_jobs=n_jobs,\n",
    "        show_progress_bar=show_progress_bar,\n",
    "    )\n",
    "    # t1 = time.time()\n",
    "    # print(f\"  Elapsed time : {int(t1 - t0)} sec\")\n",
    "    print(\n",
    "        f\"  Elapsed time : {(study.trials[-1].datetime_complete - study.trials[0].datetime_start).seconds} sec\"\n",
    "    )\n",
    "    if debug:\n",
    "        try:\n",
    "            with open(f\"optuna_{study.study_name}.pickle\", \"wb\") as f:\n",
    "                pickle.dump(study, f)\n",
    "        except Exception as p:\n",
    "            study.trials_dataframe().to_csv(f\"optuna_{study.study_name}.csv\")\n",
    "    if traj is not None:\n",
    "        traj.close()\n",
    "\n",
    "    # 最安定な吸着構造を取得\n",
    "    x_ang = study.best_params[\"x_ang\"]\n",
    "    y_ang = study.best_params[\"y_ang\"]\n",
    "    z_ang = study.best_params[\"z_ang\"]\n",
    "    x_pos = study.best_params[\"x_pos\"]\n",
    "    y_pos = study.best_params[\"y_pos\"]\n",
    "    z_hig = study.best_params[\"z_hig\"]\n",
    "\n",
    "    m = mol.copy()\n",
    "    m.rotate(initx, \"x\")\n",
    "    m.rotate(inity, \"y\")\n",
    "    m.rotate(initz, \"z\")\n",
    "    m.rotate(x_ang, \"x\")\n",
    "    m.rotate(y_ang, \"y\")\n",
    "    m.rotate(z_ang, \"z\")\n",
    "    b = m.positions[:, 2].argmin()\n",
    "    ads = slab.copy()\n",
    "    ads = AddMol(ads, m, x_pos, y_pos, z_hig, b, 2.0, surface_elements=surface_elements)\n",
    "    ads.wrap()\n",
    "\n",
    "    write(prefix + \"ads_init.car\", ads, format=\"dmol-car\")\n",
    "\n",
    "    return ads, study, traj\n"
   ]
  },
  {
   "cell_type": "code",
   "execution_count": 15,
   "id": "3e4c482a-0bff-4a74-9081-3a177aa10845",
   "metadata": {},
   "outputs": [],
   "source": [
    "def save_results(study, E_ads, prefix=''):\n",
    "\n",
    "    x_ang = study.best_params[\"x_ang\"]\n",
    "    y_ang = study.best_params[\"y_ang\"]\n",
    "    z_ang = study.best_params[\"z_ang\"]\n",
    "    x_pos = study.best_params[\"x_pos\"]\n",
    "    y_pos = study.best_params[\"y_pos\"]\n",
    "    z_hig = study.best_params[\"z_hig\"]\n",
    "\n",
    "    with open(prefix + \"ads_optuna.csv\", \"w\") as fp:\n",
    "        w = csv.writer(fp)\n",
    "        w.writerow(\n",
    "            [\n",
    "                \"x_ang\",\n",
    "                \"y_ang\",\n",
    "                \"z_ang\",\n",
    "                \"x_pos\",\n",
    "                \"y_pos\",\n",
    "                \"z_hig\",\n",
    "                \"ads_eV\",\n",
    "                \"ads_kJmol\",\n",
    "            ]\n",
    "        )\n",
    "        w.writerow(\n",
    "            [\n",
    "                x_ang,\n",
    "                y_ang,\n",
    "                z_ang,\n",
    "                x_pos,\n",
    "                y_pos,\n",
    "                z_hig,\n",
    "                E_ads,\n",
    "                E_ads * units.mol / units.kJ,\n",
    "            ]\n",
    "        )\n",
    "\n",
    "    ene = [each.value for each in study.trials]\n",
    "    hyp = [each.params for each in study.trials]\n",
    "    num = np.argsort(ene)\n",
    "    with open(prefix + \"hyperparam.csv\", \"w\") as fp:\n",
    "        w = csv.writer(fp)\n",
    "        w.writerow(\n",
    "            [\n",
    "                \"#trial\",\n",
    "                \"x_ang\",\n",
    "                \"y_ang\",\n",
    "                \"z_ang\",\n",
    "                \"x_pos\",\n",
    "                \"y_pos\",\n",
    "                \"z_hig\",\n",
    "                \"energy_eV\",\n",
    "            ]\n",
    "        )\n",
    "        for i in num:\n",
    "            w.writerow(\n",
    "                [\n",
    "                    i,\n",
    "                    hyp[i][\"x_ang\"],\n",
    "                    hyp[i][\"y_ang\"],\n",
    "                    hyp[i][\"z_ang\"],\n",
    "                    hyp[i][\"x_pos\"],\n",
    "                    hyp[i][\"y_pos\"],\n",
    "                    hyp[i][\"z_hig\"],\n",
    "                    ene[i],\n",
    "                ]\n",
    "            )"
   ]
  },
  {
   "cell_type": "code",
   "execution_count": 16,
   "id": "a4a6d290",
   "metadata": {},
   "outputs": [],
   "source": [
    "def opt(\n",
    "    pfp_ver=\"0102\",\n",
    "    gpu=1,\n",
    "    prefix=None,\n",
    "    # --> Args for building structure.\n",
    "    structure_file=\"mol.car\",\n",
    "    z_fix=6.0,  # Fix slab atoms at z < z_fix.\n",
    "    # --> Args for initial and final geometry optimizations.\n",
    "    fmax=0.1,\n",
    "    steps=2000,\n",
    "    maxstep=0.02,\n",
    "    basename='ads_opt',\n",
    "    trajfile=\"opt.traj\",\n",
    "    logfile=None,\n",
    "    debug=False,\n",
    "):\n",
    "\n",
    "    hostname = socket.gethostname()\n",
    "    now = time.strftime(\"%Y%m%d %H:%M%S %Z\")\n",
    "    msg = f\"{now} {hostname}\"\n",
    "    print(f\"\\nStarted at {msg}.\")\n",
    "    with open(\"running\", \"a\") as f:\n",
    "        print(msg, file=f)\n",
    "\n",
    "    #    if debug and logfile is None:\n",
    "    #        basename, expt = os.path.splitext(os.path.basename(__file__))\n",
    "    #        logfile = f'{basename}.log'\n",
    "    set_gpu(gpu)\n",
    "\n",
    "    calculator, estimator, model_builder = setup_pfp_calculator(\n",
    "        ver=pfp_ver,\n",
    "        # ver = \"0012\"\n",
    "        D_flag=True,\n",
    "        U_flag=True,\n",
    "    )\n",
    "\n",
    "    if prefix is None:\n",
    "        #        prefix, ext = os.path.splitext(os.path.basename(ads_structure_file))\n",
    "        prefix = \"\"\n",
    "    else:\n",
    "        prefix = f\"{prefix}_\"\n",
    "\n",
    "    # 分子の読み込み\n",
    "    # 構造最適化済みの吸着構造の読み込み\n",
    "\n",
    "    atoms = read(structure_file)\n",
    "    # (lx, ly, lz) = atoms.get_cell_lengths_and_angles()[0:3]\n",
    "    # df = pd.read_csv(reference_paramfile)\n",
    "\n",
    "    print(\"# --> Optimizing the most stable geometry...\")\n",
    "    c = [a.index for a in atoms if a.z < z_fix]\n",
    "    atoms = myopt(\n",
    "        atoms,\n",
    "        fmax=fmax,\n",
    "        steps=steps,\n",
    "        maxstep=maxstep,\n",
    "        trajfile=trajfile,\n",
    "        logfile=logfile,\n",
    "        constraintatoms=c,\n",
    "        calculator=calculator,\n",
    "    )\n",
    "    E_pot = atoms.get_potential_energy()\n",
    "    print(\"  E_pot = {:.4f} eV\".format(E_pot))\n",
    "\n",
    "    write(prefix + f\"{basename}.car\", atoms, format=\"dmol-car\")\n",
    "    atoms.write(f\"{basename}.json\")\n",
    "\n",
    "    now = time.strftime(\"%Y%m%d %H:%M%S %Z\")\n",
    "    msg = f\"{now} {hostname}\"\n",
    "    print(f\"\\nFinished at {msg}.\")\n",
    "    with open(\"running\", \"a\") as f:\n",
    "        print(msg, file=f)\n",
    "    os.rename(\"running\", \"finished\")\n",
    "\n"
   ]
  },
  {
   "cell_type": "code",
   "execution_count": 17,
   "id": "00c00eef-ecb7-4add-a40a-cde3b25b6dff",
   "metadata": {},
   "outputs": [],
   "source": [
    "\n",
    "def run(\n",
    "    #    ads_structure_file=\"../kmeans/sarcosine_ole_opt.car\",\n",
    "    #    slab_structure_file=\"../ads_thick_optuna/NARROW_5x5/ZnDTP/ZnDTP_ads_opt.car\",\n",
    "    # --> Args for building structure.\n",
    "    ads_structure_file=\"mol.car\",\n",
    "    slab_structure_file=\"slab.car\",\n",
    "    surface_elements=[\"Fe\"],\n",
    "    z_fix=6.0,  # Fix slab atoms at z < z_fix.\n",
    "    initx=0.0,  # 分子の初期角度\n",
    "    inity=0.0,  # 分子の初期角度\n",
    "    initz=0.0,  # 分子の初期角度\n",
    "    # --> Args for initial and final geometry optimizations.\n",
    "    initial_opt_fmax=0.1,\n",
    "    initial_opt_steps=1000,\n",
    "    initial_opt_maxstep=0.02,\n",
    "    final_opt_fmax=0.1,\n",
    "    final_opt_steps=1000000,\n",
    "    final_opt_maxstep=0.02,\n",
    "    # --> Args for optuna sampler.\n",
    "    multivariate=True,\n",
    "    n_ei_candidates=24,\n",
    "    n_startup_sampling=10,\n",
    "    seed_sampler=None,\n",
    "    # --> Args for optuna study.\n",
    "    n_trials=10,\n",
    "    n_jobs=1,\n",
    "    fmax=0.1,\n",
    "    steps=1000,\n",
    "    maxstep=0.02,\n",
    "    show_progress_bar=True,\n",
    "    logfile=None,\n",
    "    trajfile=\"study.traj\",\n",
    "    #    debug=False,\n",
    "    # --> Calculator settings.\n",
    "    # \tprefix = \"sarcosine\",\n",
    "    pfp_ver=\"0102\",\n",
    "    gpu=1,\n",
    "    prefix=None,\n",
    "    group=False,\n",
    "    debug=False,\n",
    "):\n",
    "\n",
    "\n",
    "    hostname = socket.gethostname()\n",
    "    now = time.strftime(\"%Y%m%d %H:%M%S %Z\")\n",
    "    msg = f\"{now} {hostname}\"\n",
    "    print(f\"\\nStarted at {msg}.\")\n",
    "    with open(\"running\", \"a\") as f:\n",
    "        print(msg, file=f)\n",
    "\n",
    "    #    if debug and logfile is None:\n",
    "    #        basename, expt = os.path.splitext(os.path.basename(__file__))\n",
    "    #        logfile = f'{basename}.log'\n",
    "\n",
    "    if prefix is None:\n",
    "        #        prefix, ext = os.path.splitext(os.path.basename(ads_structure_file))\n",
    "        prefix = \"\"\n",
    "    else:\n",
    "        prefix = f\"{prefix}_\"\n",
    "\n",
    "    set_gpu(gpu)\n",
    "\n",
    "    calculator, estimator, model_builder = setup_pfp_calculator(\n",
    "        ver=pfp_ver,\n",
    "        # ver = \"0012\"\n",
    "        D_flag=True,\n",
    "        U_flag=True,\n",
    "    )\n",
    "\n",
    "\n",
    "    # 分子の読み込み\n",
    "    # 構造最適化済みの吸着構造の読み込み\n",
    "    mol, slab = read_structures(\n",
    "        ads_structure_file, slab_structure_file, sort_atoms=True\n",
    "    )\n",
    "\n",
    "    # 分子と吸着構造の構造最適化\n",
    "    print(\"# --> Optimizing the molecule and slab geometries...\")\n",
    "    sys.stdout.flush()\n",
    "\n",
    "    mol, E_mol = optimize_molecule(\n",
    "        mol,\n",
    "        fmax=initial_opt_fmax,\n",
    "        steps=initial_opt_steps,\n",
    "        maxstep=initial_opt_maxstep,\n",
    "        logfile=logfile,\n",
    "        calculator=calculator,\n",
    "        outfile='mol_opt.json',\n",
    "    )\n",
    "\n",
    "    v = surview(mol)\n",
    "    slab, E_slab = optimize_slab(slab,\n",
    "                                 z_fix=z_fix,\n",
    "                                 fmax=initial_opt_fmax,\n",
    "                                 steps=1e10,\n",
    "                                 maxstep=initial_opt_maxstep,\n",
    "                                 logfile=logfile,\n",
    "                                 calculator=calculator,\n",
    "                                 outfile='slab_opt.json'\n",
    "    )\n",
    "\n",
    "    v = surview(slab)\n",
    "\n",
    "    ads, dmin = check_initial_geometry(mol, slab, initx=initx, inity=inity, initz=initz)\n",
    "    v = surview(ads)\n",
    "\n",
    "    ads, study, traj = find_ads_site(mol, \n",
    "                  slab, \n",
    "                  z_fix=z_fix, \n",
    "                  surface_elements=surface_elements, \n",
    "                  calculator=calculator, \n",
    "                  initx=initx, \n",
    "                  inity=inity, \n",
    "                  initz=initz, \n",
    "                  n_trials=n_trials,\n",
    "                  n_jobs=n_jobs,\n",
    "                  show_progress_bar=show_progress_bar,\n",
    "                  logfile=None,\n",
    "                  trajfile=\"study.traj\",\n",
    "                  fmax=fmax, \n",
    "                  steps=steps, \n",
    "                  maxstep=maxstep, \n",
    "                  n_startup_sampling=n_startup_sampling, \n",
    "                  n_ei_candidates=n_ei_candidates, \n",
    "                  seed_sampler=seed_sampler, \n",
    "                  multivariate=multivariate, \n",
    "                  group=group)\n",
    "\n",
    "    print(\"# --> Optimizing the most stable geometry...\")\n",
    "\n",
    "    ads, E_mol_slab = optimize_slab(ads,\n",
    "                  calculator=calculator,\n",
    "                  z_fix=z_fix,\n",
    "                  fmax=final_opt_fmax,\n",
    "                  steps=final_opt_steps,\n",
    "                  maxstep=final_opt_maxstep,\n",
    "                  logfile=logfile,\n",
    "                  outfile='slab_opt.json',\n",
    "                 )\n",
    "    print(\"  E_mol_slab = {:.4f} eV\".format(E_mol_slab))\n",
    "\n",
    "    write(prefix + \"ads_opt.car\", ads, format=\"dmol-car\")\n",
    "    ads.write(\"ads_opt.json\")\n",
    "\n",
    "    E_ads = E_mol_slab - (E_mol + E_slab)\n",
    "    print(\"# --> Results \")\n",
    "    print(\"Adsorption energy: {:.4f} eV\".format(E_ads))\n",
    "    print(\"Adsorption energy: {:.4f} kJ/mol\".format(E_ads * units.mol / units.kJ))\n",
    "    v = surview(ads)\n",
    "   \n",
    "    save_results(study, E_ads, prefix=prefix)\n",
    "\n",
    "    now = time.strftime(\"%Y%m%d %H:%M%S %Z\")\n",
    "    msg = f\"{now} {hostname}\"\n",
    "    print(f\"\\nFinished at {msg}.\")\n",
    "    with open(\"running\", \"a\") as f:\n",
    "        print(msg, file=f)\n",
    "    os.rename(\"running\", \"finished\")\n",
    "    return ads, E_ads, study\n"
   ]
  },
  {
   "cell_type": "markdown",
   "id": "2218ac9b-d86c-4107-87c9-353686c093b2",
   "metadata": {},
   "source": [
    "## 吸着させる分子構造の生成\n",
    " SMILES文字列 + RDKit を使って吸着させる分子の構造データ(元素と座標)を生成する。\n",
    " ここでは両端 (SMILESのXとY) それぞれ2種類の官能基の組み合わせ、合計4分子を作成する。"
   ]
  },
  {
   "cell_type": "code",
   "execution_count": 18,
   "id": "ea51e5c3-391a-4126-ae70-ca079e8f6eb3",
   "metadata": {},
   "outputs": [],
   "source": [
    "def test():\n",
    "    mols, rwmols = test_gen_mols()\n",
    "    slab, z_fix = test_gen_slab()\n",
    "    optimized_structures, adsorption_energies, studies = test_opt(mols, slab, z_fix)\n",
    "    test_view(adsorption_energies, optimized_structures)\n",
    "    test_analyze()\n",
    "    clean_files()"
   ]
  },
  {
   "cell_type": "code",
   "execution_count": 19,
   "id": "7b2e78bd",
   "metadata": {},
   "outputs": [],
   "source": [
    "\n",
    "def test_gen_mols():\n",
    "    smiles_template = 'XCCCC=CCCCY'\n",
    "    end_fragments_X = ['O', 'c1cc(ccc1)C']\n",
    "    end_fragments_Y = ['(=O)O', 'N']\n",
    "\n",
    "    xy = list(product(end_fragments_X, end_fragments_Y))\n",
    "    smileses = [smiles_template.replace('X', x).replace('Y', y) for x, y in xy]\n",
    "    print(list(xy))\n",
    "    print(smileses)\n",
    "\n",
    "    mols = [smiles_to_atoms(_, return_rwmol=True) for _ in smileses]\n",
    "    rwmols = [_[1] for _ in mols]\n",
    "    mols = [_[0] for _ in mols]\n",
    "\n",
    "    for (_mol, _rwmol) in zip(mols, rwmols):\n",
    "        display(surview(_mol))\n",
    "        display(_rwmol)\n",
    "    return mols, rwmols"
   ]
  },
  {
   "cell_type": "markdown",
   "id": "926fbe7a-d2d2-408d-8fe2-d7663993ef6f",
   "metadata": {},
   "source": [
    "## 分子を吸着させる表面スラブ模型の作成\n",
    "ase.build.bulkをつかってCu(111)表面 6x6x1 4L スラブ構造を作成"
   ]
  },
  {
   "cell_type": "code",
   "execution_count": 20,
   "id": "6b8f03b0-11d4-4405-9c0b-cf1803d10267",
   "metadata": {},
   "outputs": [],
   "source": [
    "def test_gen_slab():\n",
    "    bulk_Cu = bulk('Cu', 'fcc')\n",
    "    repeat = [6, 6, 1]\n",
    "    num_layers = 4\n",
    "    vacuum=20.0\n",
    "    direction = (1, 1, 1)\n",
    "    slab = surface(bulk_Cu, direction, num_layers, vacuum=vacuum, periodic=True)\n",
    "    slab = slab * repeat\n",
    "\n",
    "    # 最下層を固定するための座標z_fixを取得しておく。\n",
    "    # 表面吸着構造の最適化では、z < z_fix の原子をすべて固定する\n",
    "    z = np.unique(slab.positions[:, 2])\n",
    "    print(z)\n",
    "    z_fix = np.min(z) + 0.5 # 大小判定のために、少し余裕(0.5A)をもたせておく。 \n",
    "    print(z_fix)\n",
    "    display(surview(slab))\n",
    "    return slab, z_fix"
   ]
  },
  {
   "cell_type": "code",
   "execution_count": 21,
   "id": "5d78536c-0be0-46a0-a022-be1b86bdb9cd",
   "metadata": {},
   "outputs": [],
   "source": [
    "### print関数の出力先をファイルに置き換える\n",
    "# 以下を実行すると、print関数の結果がノートブックに出力されず、ファイルに保存される。\n",
    "# --> 出力がjuypterのセルにもどらなかった。loggingをつかうべき。\n",
    "#print(sys.__stdout__)\n",
    "#print(sys.stderr)\n",
    "#print(sys.stderr)\n",
    "\n",
    "#stdout = open('stdout', 'a')\n",
    "#stderr = open('stderr', 'a')\n",
    "#(sys.stdout, stdout) = stdout, sys.stdout\n",
    "#(sys.stderr, stderr) = stderr, sys.stderr"
   ]
  },
  {
   "cell_type": "markdown",
   "id": "9559c88e-3ed8-4777-b0ec-f6a08ab6c997",
   "metadata": {},
   "source": [
    "## 吸着構造の最適化\n",
    "4つの分子それぞれについて吸着構造を探索し、結果をファイルに保存する。\n",
    "* mol_opt.json　吸着分子の構造 (ASE json)\n",
    "* slab_opt.json　スラブの構造 (ASE json)\n",
    "* ads_init.car　optunaの探索後の構造 (car)\n",
    "* ads_opt.car, ads_opt.json   ads_init.carを最適化した構造 (car, ASE json)\n",
    "* ads_optuna.csv  optunaの最適解と最適値\n",
    "* hyperparam.csv  optunaの途中経過\n",
    "* study.traj　　　optunaで探索された全ての構造(ASE Trajectory)"
   ]
  },
  {
   "cell_type": "code",
   "execution_count": 27,
   "id": "a39e479e-d0ad-4b75-ac2f-d7e3d7e51de0",
   "metadata": {
    "tags": []
   },
   "outputs": [],
   "source": [
    "def test_opt(mols, slab, z_fix):\n",
    "    save_file_formats = ['.car', '.csv', '.json', 'traj']\n",
    "    exist_ok = True  # ファイルがすでに存在する場合に上書きする。\n",
    "    n_trials=15\n",
    "    n_startup_sampling=10\n",
    "    surface_elements = ['Cu']\n",
    "\n",
    "    optimized_structures = []\n",
    "    adsorption_energies = []\n",
    "    studies = []\n",
    "    for i, mol in enumerate(mols):\n",
    "        destdir = f'{i}'\n",
    "        os.makedirs(destdir, exist_ok=exist_ok)\n",
    "        \n",
    "        _ads, _e_ads, _study = run(mol, \n",
    "                slab, \n",
    "                surface_elements,\n",
    "                multivariate=True,  # 変数が独立でない場合(目視でわかる解をなかなか見つけてくれない場合)にTrueにする。\n",
    "                z_fix=z_fix, \n",
    "                n_startup_sampling=n_startup_sampling,  # ランダムな初期値の数。大きいほど局所解に落ちにくい。\n",
    "                n_trials=n_trials   # optunaの探索回数。大きいほどより極値に近づく。\n",
    "                                )\n",
    "        optimized_structures.append(_ads)\n",
    "        adsorption_energies.append(_e_ads)\n",
    "        studies.append(_study)\n",
    "        \n",
    "        _files = np.concatenate([glob.glob(f'*{_}') for _ in save_file_formats]).tolist()\n",
    "        for _file in _files:\n",
    "            if exist_ok:\n",
    "                shutil.move(_file, os.path.join(destdir, os.path.basename(_file)))\n",
    "            else:\n",
    "                shutil.move(_file, destdir)\n",
    "    return optimized_structures, adsorption_energies, studies"
   ]
  },
  {
   "cell_type": "markdown",
   "id": "2a33a72b-72fb-43e1-9f5a-8c73697524c3",
   "metadata": {},
   "source": []
  },
  {
   "cell_type": "code",
   "execution_count": 28,
   "id": "c98af12a-0cad-4d7d-9661-03a8ecb5702d",
   "metadata": {},
   "outputs": [],
   "source": [
    "## print関数の出力先を元に戻す\n",
    "#sys.stdout, stdout = stdout, sys.stdout\n",
    "#sys.stderr, stderr = stderr, sys.stderr\n",
    "#stdout.close()\n",
    "#stderr.close()\n",
    "# 正しく設定できていれば、以下print文の結果が（ファイルではなく）セルに出力される。\n",
    "# --> jupyter notebookでは動かなかった。\n",
    "#print(sys.stdout)\n",
    "#print(sys.stderr)"
   ]
  },
  {
   "cell_type": "markdown",
   "id": "ca5ba5a0-0955-4d85-97f1-e25c7a321fc2",
   "metadata": {},
   "source": [
    "## optunaの探索結果を確認する"
   ]
  },
  {
   "cell_type": "code",
   "execution_count": 29,
   "id": "3a1f7355-2313-4a78-88bf-ddeba1b314ab",
   "metadata": {},
   "outputs": [],
   "source": [
    "def test_view(adsorption_energies, optimized_structures):\n",
    "    print(adsorption_energies)\n",
    "    for _ads in optimized_structures:\n",
    "        display(surview(_ads))\n"
   ]
  },
  {
   "cell_type": "code",
   "execution_count": 30,
   "id": "af83cd48-7fd1-4887-969f-139dac1ef4a1",
   "metadata": {},
   "outputs": [],
   "source": [
    "def test_analyze(\n",
    "    srcdir=\"1\",\n",
    "    trajfile=\"study.traj\",\n",
    "    adsfile=\"ads_opt.json\",\n",
    "    paramfile=\"hyperparam.csv\",\n",
    "    resultfile=\"ads_optuna.csv\",\n",
    "):\n",
    "\n",
    "    # --> trajectoryファイルからデータを取得\n",
    "    traj = read(os.path.join(srcdir, trajfile), index=\":\")\n",
    "    ene_trials = np.array([_atoms.get_potential_energy() for _atoms in traj])\n",
    "    idx_min = ene_trials.argmin()\n",
    "\n",
    "    print(idx_min)\n",
    "    # print(ene_trials)\n",
    "    # --> 最適化後のASE Atomsを取得\n",
    "    ads = read(os.path.join(srcdir, adsfile))\n",
    "\n",
    "    # --> csvファイルからデータを取得\n",
    "    print(\"Results of optuna:\")\n",
    "    params = pd.read_csv(os.path.join(srcdir, paramfile))\n",
    "    # 計算に失敗したデータを除く\n",
    "    params = params[params.energy_eV < 0].sort_values(\"#trial\").reset_index(drop=True)\n",
    "    idx_min_param = params[\"energy_eV\"].idxmin()\n",
    "    display(params.loc[[idx_min_param]])\n",
    "    # display(params)\n",
    "    print(\"Adsorption energies of optimized geometries:\")\n",
    "    res = pd.read_csv(os.path.join(srcdir, resultfile))\n",
    "    display(res)\n",
    "\n",
    "    plt.plot(ene_trials)\n",
    "    params.plot(y=\"energy_eV\")\n",
    "\n",
    "    display(surview(ads))\n",
    "    display(surview(traj[idx_min]))\n",
    "    display(view(traj, viewer=\"ngl\"))\n"
   ]
  },
  {
   "cell_type": "code",
   "execution_count": null,
   "id": "8ca322eb",
   "metadata": {},
   "outputs": [],
   "source": [
    "def clean_files():\n",
    "    removefiles = ['mol_opt.json', 'slab_opt.json', 'ads_init.car', 'study.traj', 'finished', 'running']\n",
    "    for _file in removefiles:\n",
    "        if os.path.exists(_file):\n",
    "            os.remove(_file)"
   ]
  },
  {
   "cell_type": "code",
   "execution_count": 32,
   "id": "e7f37647",
   "metadata": {},
   "outputs": [
    {
     "name": "stdout",
     "output_type": "stream",
     "text": [
      "[('O', '(=O)O'), ('O', 'N'), ('c1cc(ccc1)C', '(=O)O'), ('c1cc(ccc1)C', 'N')]\n",
      "['OCCCC=CCCC(=O)O', 'OCCCC=CCCCN', 'c1cc(ccc1)CCCCC=CCCC(=O)O', 'c1cc(ccc1)CCCCC=CCCCN']\n"
     ]
    },
    {
     "data": {
      "application/vnd.jupyter.widget-view+json": {
       "model_id": "088f1c01be9d4c438d5171830f8abbce",
       "version_major": 2,
       "version_minor": 0
      },
      "text/plain": [
       "NGLWidget(background='#161616')"
      ]
     },
     "metadata": {},
     "output_type": "display_data"
    },
    {
     "data": {
      "image/png": "[encoded data removed]",
      "text/plain": [
       "<rdkit.Chem.rdchem.Mol at 0x7ff1b80e8530>"
      ]
     },
     "metadata": {},
     "output_type": "display_data"
    },
    {
     "data": {
      "application/vnd.jupyter.widget-view+json": {
       "model_id": "cc8463343b0041ebb924235a965f5b65",
       "version_major": 2,
       "version_minor": 0
      },
      "text/plain": [
       "NGLWidget(background='#161616')"
      ]
     },
     "metadata": {},
     "output_type": "display_data"
    },
    {
     "data": {
      "image/png": "[encoded data removed]",
      "text/plain": [
       "<rdkit.Chem.rdchem.Mol at 0x7ff1b80ce2b0>"
      ]
     },
     "metadata": {},
     "output_type": "display_data"
    },
    {
     "data": {
      "application/vnd.jupyter.widget-view+json": {
       "model_id": "4b0c94ac66ce48f2abf852234fcf0d03",
       "version_major": 2,
       "version_minor": 0
      },
      "text/plain": [
       "NGLWidget(background='#161616')"
      ]
     },
     "metadata": {},
     "output_type": "display_data"
    },
    {
     "data": {
      "image/png": "[encoded data removed]",
      "text/plain": [
       "<rdkit.Chem.rdchem.Mol at 0x7ff1b1014170>"
      ]
     },
     "metadata": {},
     "output_type": "display_data"
    },
    {
     "data": {
      "application/vnd.jupyter.widget-view+json": {
       "model_id": "821ea1b000fc4c22a4cbaa820e857768",
       "version_major": 2,
       "version_minor": 0
      },
      "text/plain": [
       "NGLWidget(background='#161616')"
      ]
     },
     "metadata": {},
     "output_type": "display_data"
    },
    {
     "data": {
      "image/png": "[encoded data removed]",
      "text/plain": [
       "<rdkit.Chem.rdchem.Mol at 0x7ff1b0ff7760>"
      ]
     },
     "metadata": {},
     "output_type": "display_data"
    },
    {
     "name": "stdout",
     "output_type": "stream",
     "text": [
      "[20.         22.08423447 24.16846894 26.25270342]\n",
      "20.5\n"
     ]
    },
    {
     "data": {
      "application/vnd.jupyter.widget-view+json": {
       "model_id": "40792ebb9abb471ab50252e272caba01",
       "version_major": 2,
       "version_minor": 0
      },
      "text/plain": [
       "NGLWidget(background='#161616')"
      ]
     },
     "metadata": {},
     "output_type": "display_data"
    },
    {
     "name": "stdout",
     "output_type": "stream",
     "text": [
      "\n",
      "Started at 20220525 16:1840 JST pfn22g.\n",
      "GPU: 1\n",
      "No module named 'pfp_api_client'\n",
      "<VER: 0102>   <DFT-U: True>   <D3: True>\n",
      "Loading PFP v1.2.2.\n",
      "EstimatorCalcMode.CRYSTAL\n",
      "D3 correction: <torch_dftd.torch_dftd3_calculator.TorchDFTD3Calculator object at 0x7ff1b1767c90>\n",
      "# --> Optimizing the molecule and slab geometries...\n",
      "  E_mol = -144.4556 eV\n"
     ]
    },
    {
     "name": "stderr",
     "output_type": "stream",
     "text": [
      "/opt/anaconda3/lib/python3.7/site-packages/ase/utils/__init__.py:62: FutureWarning: Please use atoms.cell.cellpar() instead\n",
      "  warnings.warn(warning)\n",
      "/opt/anaconda3/lib/python3.7/site-packages/optuna/samplers/_tpe/sampler.py:266: ExperimentalWarning: ``multivariate`` option is an experimental feature. The interface can change in the future.\n",
      "  ExperimentalWarning,\n",
      "\u001b[32m[I 2022-05-25 16:19:06,359]\u001b[0m A new study created in memory with name: no-name-4cc7bc9d-e8d3-4df1-bac8-577028321ffa\u001b[0m\n"
     ]
    },
    {
     "name": "stdout",
     "output_type": "stream",
     "text": [
      "  E_slab = -305.0122 eV\n",
      "Check the initial geometry: dmin = 0.97 \n",
      "# --> Exploring stable adsorption sites...\n",
      "Cutoff for hydrogen: 0.96 A\n",
      "Cutoff for others:   1.21 A\n"
     ]
    },
    {
     "name": "stderr",
     "output_type": "stream",
     "text": [
      "/opt/anaconda3/lib/python3.7/site-packages/optuna/progress_bar.py:47: ExperimentalWarning: Progress bar is experimental (supported from v1.2.0). The interface can change in the future.\n",
      "  self._init_valid()\n"
     ]
    },
    {
     "data": {
      "application/vnd.jupyter.widget-view+json": {
       "model_id": "99bb611883ad4a4e883669eb88146ed7",
       "version_major": 2,
       "version_minor": 0
      },
      "text/plain": [
       "  0%|          | 0/15 [00:00<?, ?it/s]"
      ]
     },
     "metadata": {},
     "output_type": "display_data"
    },
    {
     "name": "stderr",
     "output_type": "stream",
     "text": [
      "/opt/anaconda3/lib/python3.7/site-packages/ase/utils/__init__.py:62: FutureWarning: Please use atoms.cell.cellpar() instead\n",
      "  warnings.warn(warning)\n"
     ]
    },
    {
     "name": "stdout",
     "output_type": "stream",
     "text": [
      "\u001b[32m[I 2022-05-25 16:19:12,525]\u001b[0m Trial 0 finished with value: -450.0986821502086 and parameters: {'x_ang': 248.59432274788819, 'y_ang': 49.07294300589827, 'z_ang': 112.57619548496211, 'x_pos': 12.151410231587683, 'y_pos': 5.738220832821559, 'z_hig': 3.2465305060798224}. Best is trial 0 with value: -450.0986821502086.\u001b[0m\n"
     ]
    },
    {
     "name": "stderr",
     "output_type": "stream",
     "text": [
      "/opt/anaconda3/lib/python3.7/site-packages/ase/utils/__init__.py:62: FutureWarning: Please use atoms.cell.cellpar() instead\n",
      "  warnings.warn(warning)\n"
     ]
    },
    {
     "name": "stdout",
     "output_type": "stream",
     "text": [
      "\u001b[32m[I 2022-05-25 16:19:19,463]\u001b[0m Trial 1 finished with value: -450.3215048911894 and parameters: {'x_ang': 105.38524906513211, 'y_ang': 212.98801580052913, 'z_ang': 151.11124109654068, 'x_pos': 9.424688079164994, 'y_pos': 10.40363877043945, 'z_hig': 2.2593229309490828}. Best is trial 1 with value: -450.3215048911894.\u001b[0m\n"
     ]
    },
    {
     "name": "stderr",
     "output_type": "stream",
     "text": [
      "/opt/anaconda3/lib/python3.7/site-packages/ase/utils/__init__.py:62: FutureWarning: Please use atoms.cell.cellpar() instead\n",
      "  warnings.warn(warning)\n"
     ]
    },
    {
     "name": "stdout",
     "output_type": "stream",
     "text": [
      "\u001b[32m[I 2022-05-25 16:19:20,334]\u001b[0m Trial 2 finished with value: -450.0883648731027 and parameters: {'x_ang': 53.3327125781681, 'y_ang': 196.84142552720473, 'z_ang': 206.0834735323003, 'x_pos': 10.810247984227944, 'y_pos': 12.393325946379038, 'z_hig': 2.6803709059239704}. Best is trial 1 with value: -450.3215048911894.\u001b[0m\n"
     ]
    },
    {
     "name": "stderr",
     "output_type": "stream",
     "text": [
      "/opt/anaconda3/lib/python3.7/site-packages/ase/utils/__init__.py:62: FutureWarning: Please use atoms.cell.cellpar() instead\n",
      "  warnings.warn(warning)\n"
     ]
    },
    {
     "name": "stdout",
     "output_type": "stream",
     "text": [
      "\u001b[32m[I 2022-05-25 16:19:20,807]\u001b[0m Trial 3 finished with value: -449.9061505350883 and parameters: {'x_ang': 170.34218895404967, 'y_ang': 346.552599755521, 'z_ang': 272.6380683399928, 'x_pos': 12.32716985729557, 'y_pos': 11.100360954172812, 'z_hig': 3.124905095199095}. Best is trial 1 with value: -450.3215048911894.\u001b[0m\n"
     ]
    },
    {
     "name": "stderr",
     "output_type": "stream",
     "text": [
      "/opt/anaconda3/lib/python3.7/site-packages/ase/utils/__init__.py:62: FutureWarning: Please use atoms.cell.cellpar() instead\n",
      "  warnings.warn(warning)\n"
     ]
    },
    {
     "name": "stdout",
     "output_type": "stream",
     "text": [
      "\u001b[32m[I 2022-05-25 16:19:28,086]\u001b[0m Trial 4 finished with value: -450.48152732584686 and parameters: {'x_ang': 23.948891785164168, 'y_ang': 161.48498421295173, 'z_ang': 57.04967779568122, 'x_pos': 13.756869987280762, 'y_pos': 3.8160309973371493, 'z_hig': 2.4372439420979175}. Best is trial 4 with value: -450.48152732584686.\u001b[0m\n"
     ]
    },
    {
     "name": "stderr",
     "output_type": "stream",
     "text": [
      "/opt/anaconda3/lib/python3.7/site-packages/ase/utils/__init__.py:62: FutureWarning: Please use atoms.cell.cellpar() instead\n",
      "  warnings.warn(warning)\n"
     ]
    },
    {
     "name": "stdout",
     "output_type": "stream",
     "text": [
      "\u001b[32m[I 2022-05-25 16:19:34,939]\u001b[0m Trial 5 finished with value: -450.0846728744799 and parameters: {'x_ang': 166.47239639135304, 'y_ang': 45.39475239624437, 'z_ang': 161.83347168217344, 'x_pos': 16.234312070061335, 'y_pos': 8.23059791329425, 'z_hig': 2.679325391594693}. Best is trial 4 with value: -450.48152732584686.\u001b[0m\n"
     ]
    },
    {
     "name": "stderr",
     "output_type": "stream",
     "text": [
      "/opt/anaconda3/lib/python3.7/site-packages/ase/utils/__init__.py:62: FutureWarning: Please use atoms.cell.cellpar() instead\n",
      "  warnings.warn(warning)\n"
     ]
    },
    {
     "name": "stdout",
     "output_type": "stream",
     "text": [
      "\u001b[32m[I 2022-05-25 16:19:41,781]\u001b[0m Trial 6 finished with value: -450.21600350878583 and parameters: {'x_ang': 274.5633568244637, 'y_ang': 281.072102031448, 'z_ang': 265.08918623413257, 'x_pos': 2.510591695139854, 'y_pos': 12.975564973543513, 'z_hig': 2.1228461357214496}. Best is trial 4 with value: -450.48152732584686.\u001b[0m\n"
     ]
    },
    {
     "name": "stderr",
     "output_type": "stream",
     "text": [
      "/opt/anaconda3/lib/python3.7/site-packages/ase/utils/__init__.py:62: FutureWarning: Please use atoms.cell.cellpar() instead\n",
      "  warnings.warn(warning)\n"
     ]
    },
    {
     "name": "stdout",
     "output_type": "stream",
     "text": [
      "\u001b[32m[I 2022-05-25 16:19:48,279]\u001b[0m Trial 7 finished with value: -450.42230692990825 and parameters: {'x_ang': 272.85814569164035, 'y_ang': 12.985763871625169, 'z_ang': 242.62946336505928, 'x_pos': 2.755173904443832, 'y_pos': 0.3871160502085398, 'z_hig': 2.1621869522769535}. Best is trial 4 with value: -450.48152732584686.\u001b[0m\n"
     ]
    },
    {
     "name": "stderr",
     "output_type": "stream",
     "text": [
      "/opt/anaconda3/lib/python3.7/site-packages/ase/utils/__init__.py:62: FutureWarning: Please use atoms.cell.cellpar() instead\n",
      "  warnings.warn(warning)\n"
     ]
    },
    {
     "name": "stdout",
     "output_type": "stream",
     "text": [
      "\u001b[32m[I 2022-05-25 16:19:57,307]\u001b[0m Trial 8 finished with value: -450.1417905593896 and parameters: {'x_ang': 261.39026721894214, 'y_ang': 89.69217026024216, 'z_ang': 100.08035434482377, 'x_pos': 6.158570196566503, 'y_pos': 2.546741907388198, 'z_hig': 2.1179394197528176}. Best is trial 4 with value: -450.48152732584686.\u001b[0m\n"
     ]
    },
    {
     "name": "stderr",
     "output_type": "stream",
     "text": [
      "/opt/anaconda3/lib/python3.7/site-packages/ase/utils/__init__.py:62: FutureWarning: Please use atoms.cell.cellpar() instead\n",
      "  warnings.warn(warning)\n"
     ]
    },
    {
     "name": "stdout",
     "output_type": "stream",
     "text": [
      "\u001b[32m[I 2022-05-25 16:20:03,453]\u001b[0m Trial 9 finished with value: -450.04439059732334 and parameters: {'x_ang': 195.0688394202577, 'y_ang': 269.0035741588251, 'z_ang': 307.52721309898067, 'x_pos': 5.254281403013018, 'y_pos': 3.337269739386883, 'z_hig': 3.0798037436056074}. Best is trial 4 with value: -450.48152732584686.\u001b[0m\n"
     ]
    },
    {
     "name": "stderr",
     "output_type": "stream",
     "text": [
      "/opt/anaconda3/lib/python3.7/site-packages/ase/utils/__init__.py:62: FutureWarning: Please use atoms.cell.cellpar() instead\n",
      "  warnings.warn(warning)\n"
     ]
    },
    {
     "name": "stdout",
     "output_type": "stream",
     "text": [
      "\u001b[32m[I 2022-05-25 16:20:04,325]\u001b[0m Trial 10 finished with value: -450.02870263342345 and parameters: {'x_ang': 104.62736278393548, 'y_ang': 207.4485551262817, 'z_ang': 125.47767645841205, 'x_pos': 13.401236815665358, 'y_pos': 2.043008399785947, 'z_hig': 2.708602262514502}. Best is trial 4 with value: -450.48152732584686.\u001b[0m\n"
     ]
    },
    {
     "name": "stderr",
     "output_type": "stream",
     "text": [
      "/opt/anaconda3/lib/python3.7/site-packages/ase/utils/__init__.py:62: FutureWarning: Please use atoms.cell.cellpar() instead\n",
      "  warnings.warn(warning)\n"
     ]
    },
    {
     "name": "stdout",
     "output_type": "stream",
     "text": [
      "\u001b[32m[I 2022-05-25 16:20:12,761]\u001b[0m Trial 11 finished with value: -450.144927394249 and parameters: {'x_ang': 358.2912863430863, 'y_ang': 92.27126183631005, 'z_ang': 266.569454946443, 'x_pos': 3.3514212611289844, 'y_pos': 1.9671634693591271, 'z_hig': 2.126182278486643}. Best is trial 4 with value: -450.48152732584686.\u001b[0m\n"
     ]
    },
    {
     "name": "stderr",
     "output_type": "stream",
     "text": [
      "/opt/anaconda3/lib/python3.7/site-packages/ase/utils/__init__.py:62: FutureWarning: Please use atoms.cell.cellpar() instead\n",
      "  warnings.warn(warning)\n"
     ]
    },
    {
     "name": "stdout",
     "output_type": "stream",
     "text": [
      "\u001b[32m[I 2022-05-25 16:20:19,617]\u001b[0m Trial 12 finished with value: -450.12428931347876 and parameters: {'x_ang': 180.74027603164788, 'y_ang': 48.578450889028574, 'z_ang': 322.88465053164384, 'x_pos': 3.115544710499138, 'y_pos': 4.473128422209385, 'z_hig': 2.5646015878259565}. Best is trial 4 with value: -450.48152732584686.\u001b[0m\n"
     ]
    },
    {
     "name": "stderr",
     "output_type": "stream",
     "text": [
      "/opt/anaconda3/lib/python3.7/site-packages/ase/utils/__init__.py:62: FutureWarning: Please use atoms.cell.cellpar() instead\n",
      "  warnings.warn(warning)\n"
     ]
    },
    {
     "name": "stdout",
     "output_type": "stream",
     "text": [
      "\u001b[32m[I 2022-05-25 16:20:26,025]\u001b[0m Trial 13 finished with value: -450.1390680290822 and parameters: {'x_ang': 25.75629267837947, 'y_ang': 107.07510851748577, 'z_ang': 170.55811189982728, 'x_pos': 13.027080551347009, 'y_pos': 4.89179423413427, 'z_hig': 2.3838846855612177}. Best is trial 4 with value: -450.48152732584686.\u001b[0m\n"
     ]
    },
    {
     "name": "stderr",
     "output_type": "stream",
     "text": [
      "/opt/anaconda3/lib/python3.7/site-packages/ase/utils/__init__.py:62: FutureWarning: Please use atoms.cell.cellpar() instead\n",
      "  warnings.warn(warning)\n"
     ]
    },
    {
     "name": "stdout",
     "output_type": "stream",
     "text": [
      "\u001b[32m[I 2022-05-25 16:20:32,924]\u001b[0m Trial 14 finished with value: -450.2144913032612 and parameters: {'x_ang': 12.475462844587886, 'y_ang': 314.04200708009785, 'z_ang': 57.47044416375207, 'x_pos': 9.834065258256778, 'y_pos': 6.156055569078132, 'z_hig': 2.3702238127334554}. Best is trial 4 with value: -450.48152732584686.\u001b[0m\n",
      "  Elapsed time : 86 sec\n",
      "# --> Optimizing the most stable geometry...\n",
      "  E_slab = -450.4815 eV\n",
      "  E_mol_slab = -450.4815 eV\n",
      "# --> Results \n",
      "Adsorption energy: -1.0138 eV\n",
      "Adsorption energy: -97.8156 kJ/mol\n",
      "\n",
      "Finished at 20220525 16:2040 JST pfn22g.\n",
      "\n",
      "Started at 20220525 16:2040 JST pfn22g.\n",
      "GPU: 1\n",
      "No module named 'pfp_api_client'\n",
      "<VER: 0102>   <DFT-U: True>   <D3: True>\n",
      "Loading PFP v1.2.2.\n",
      "EstimatorCalcMode.CRYSTAL\n",
      "D3 correction: <torch_dftd.torch_dftd3_calculator.TorchDFTD3Calculator object at 0x7fef7878af10>\n",
      "# --> Optimizing the molecule and slab geometries...\n",
      "  E_mol = -149.9943 eV\n"
     ]
    },
    {
     "name": "stderr",
     "output_type": "stream",
     "text": [
      "/opt/anaconda3/lib/python3.7/site-packages/optuna/samplers/_tpe/sampler.py:266: ExperimentalWarning: ``multivariate`` option is an experimental feature. The interface can change in the future.\n",
      "  ExperimentalWarning,\n",
      "\u001b[32m[I 2022-05-25 16:20:45,077]\u001b[0m A new study created in memory with name: no-name-400abc0b-ac71-4d3f-b971-bf673ff0c57a\u001b[0m\n"
     ]
    },
    {
     "name": "stdout",
     "output_type": "stream",
     "text": [
      "  E_slab = -305.0122 eV\n",
      "Check the initial geometry: dmin = 0.97 \n",
      "# --> Exploring stable adsorption sites...\n",
      "Cutoff for hydrogen: 0.96 A\n",
      "Cutoff for others:   1.32 A\n"
     ]
    },
    {
     "name": "stderr",
     "output_type": "stream",
     "text": [
      "/opt/anaconda3/lib/python3.7/site-packages/optuna/progress_bar.py:47: ExperimentalWarning: Progress bar is experimental (supported from v1.2.0). The interface can change in the future.\n",
      "  self._init_valid()\n"
     ]
    },
    {
     "data": {
      "application/vnd.jupyter.widget-view+json": {
       "model_id": "14fc7640d7ed458894984d953b2e0e46",
       "version_major": 2,
       "version_minor": 0
      },
      "text/plain": [
       "  0%|          | 0/15 [00:00<?, ?it/s]"
      ]
     },
     "metadata": {},
     "output_type": "display_data"
    },
    {
     "name": "stderr",
     "output_type": "stream",
     "text": [
      "/opt/anaconda3/lib/python3.7/site-packages/ase/utils/__init__.py:62: FutureWarning: Please use atoms.cell.cellpar() instead\n",
      "  warnings.warn(warning)\n"
     ]
    },
    {
     "name": "stdout",
     "output_type": "stream",
     "text": [
      "\u001b[32m[I 2022-05-25 16:20:52,141]\u001b[0m Trial 0 finished with value: -455.7817656911617 and parameters: {'x_ang': 259.1285414022814, 'y_ang': 213.1447683264701, 'z_ang': 205.70820322749626, 'x_pos': 19.95442695235957, 'y_pos': 0.5057698884286148, 'z_hig': 2.223120239130021}. Best is trial 0 with value: -455.7817656911617.\u001b[0m\n"
     ]
    },
    {
     "name": "stderr",
     "output_type": "stream",
     "text": [
      "/opt/anaconda3/lib/python3.7/site-packages/ase/utils/__init__.py:62: FutureWarning: Please use atoms.cell.cellpar() instead\n",
      "  warnings.warn(warning)\n"
     ]
    },
    {
     "name": "stdout",
     "output_type": "stream",
     "text": [
      "\u001b[32m[I 2022-05-25 16:20:58,239]\u001b[0m Trial 1 finished with value: -455.64521985922755 and parameters: {'x_ang': 212.13503577331912, 'y_ang': 311.4975021203654, 'z_ang': 105.25709667376674, 'x_pos': 2.75621475646635, 'y_pos': 6.9883313039134185, 'z_hig': 3.0671402251961686}. Best is trial 0 with value: -455.7817656911617.\u001b[0m\n"
     ]
    },
    {
     "name": "stderr",
     "output_type": "stream",
     "text": [
      "/opt/anaconda3/lib/python3.7/site-packages/ase/utils/__init__.py:62: FutureWarning: Please use atoms.cell.cellpar() instead\n",
      "  warnings.warn(warning)\n"
     ]
    },
    {
     "name": "stdout",
     "output_type": "stream",
     "text": [
      "\u001b[32m[I 2022-05-25 16:20:59,158]\u001b[0m Trial 2 finished with value: -455.2779656786392 and parameters: {'x_ang': 260.66683006018417, 'y_ang': 253.64619827742882, 'z_ang': 298.4129203513997, 'x_pos': 11.762045789673616, 'y_pos': 1.5568946497394205, 'z_hig': 2.7900397297345787}. Best is trial 0 with value: -455.7817656911617.\u001b[0m\n"
     ]
    },
    {
     "name": "stderr",
     "output_type": "stream",
     "text": [
      "/opt/anaconda3/lib/python3.7/site-packages/ase/utils/__init__.py:62: FutureWarning: Please use atoms.cell.cellpar() instead\n",
      "  warnings.warn(warning)\n"
     ]
    },
    {
     "name": "stdout",
     "output_type": "stream",
     "text": [
      "\u001b[32m[I 2022-05-25 16:21:06,390]\u001b[0m Trial 3 finished with value: -455.7079212285628 and parameters: {'x_ang': 204.59796218950984, 'y_ang': 122.64451157930803, 'z_ang': 193.65367648714422, 'x_pos': 10.620448410146226, 'y_pos': 0.10195569747172913, 'z_hig': 2.336463065491543}. Best is trial 0 with value: -455.7817656911617.\u001b[0m\n"
     ]
    },
    {
     "name": "stderr",
     "output_type": "stream",
     "text": [
      "/opt/anaconda3/lib/python3.7/site-packages/ase/utils/__init__.py:62: FutureWarning: Please use atoms.cell.cellpar() instead\n",
      "  warnings.warn(warning)\n"
     ]
    },
    {
     "name": "stdout",
     "output_type": "stream",
     "text": [
      "\u001b[32m[I 2022-05-25 16:21:13,790]\u001b[0m Trial 4 finished with value: -455.76812848430615 and parameters: {'x_ang': 345.38950512839784, 'y_ang': 148.84777087437672, 'z_ang': 296.6765473822246, 'x_pos': 19.864837599864288, 'y_pos': 10.760500204742684, 'z_hig': 2.50331251790594}. Best is trial 0 with value: -455.7817656911617.\u001b[0m\n"
     ]
    },
    {
     "name": "stderr",
     "output_type": "stream",
     "text": [
      "/opt/anaconda3/lib/python3.7/site-packages/ase/utils/__init__.py:62: FutureWarning: Please use atoms.cell.cellpar() instead\n",
      "  warnings.warn(warning)\n"
     ]
    },
    {
     "name": "stdout",
     "output_type": "stream",
     "text": [
      "\u001b[32m[I 2022-05-25 16:21:21,287]\u001b[0m Trial 5 finished with value: -455.6975653831317 and parameters: {'x_ang': 226.93204353895382, 'y_ang': 327.24770479993845, 'z_ang': 287.18051309618755, 'x_pos': 19.322856805923685, 'y_pos': 8.962001233220503, 'z_hig': 3.1377705557906763}. Best is trial 0 with value: -455.7817656911617.\u001b[0m\n"
     ]
    },
    {
     "name": "stderr",
     "output_type": "stream",
     "text": [
      "/opt/anaconda3/lib/python3.7/site-packages/ase/utils/__init__.py:62: FutureWarning: Please use atoms.cell.cellpar() instead\n",
      "  warnings.warn(warning)\n"
     ]
    },
    {
     "name": "stdout",
     "output_type": "stream",
     "text": [
      "\u001b[32m[I 2022-05-25 16:21:28,717]\u001b[0m Trial 6 finished with value: -455.64990500988205 and parameters: {'x_ang': 356.50365320003596, 'y_ang': 250.40228291678972, 'z_ang': 147.75345795328104, 'x_pos': 18.51948984429129, 'y_pos': 3.6239321139693668, 'z_hig': 2.4240066510387765}. Best is trial 0 with value: -455.7817656911617.\u001b[0m\n"
     ]
    },
    {
     "name": "stderr",
     "output_type": "stream",
     "text": [
      "/opt/anaconda3/lib/python3.7/site-packages/ase/utils/__init__.py:62: FutureWarning: Please use atoms.cell.cellpar() instead\n",
      "  warnings.warn(warning)\n"
     ]
    },
    {
     "name": "stdout",
     "output_type": "stream",
     "text": [
      "\u001b[32m[I 2022-05-25 16:21:40,901]\u001b[0m Trial 7 finished with value: -456.2240541392387 and parameters: {'x_ang': 20.733756914021676, 'y_ang': 342.0355011925737, 'z_ang': 298.08516633994645, 'x_pos': 1.5552108688200725, 'y_pos': 6.266097479052161, 'z_hig': 2.0877409162119416}. Best is trial 7 with value: -456.2240541392387.\u001b[0m\n"
     ]
    },
    {
     "name": "stderr",
     "output_type": "stream",
     "text": [
      "/opt/anaconda3/lib/python3.7/site-packages/ase/utils/__init__.py:62: FutureWarning: Please use atoms.cell.cellpar() instead\n",
      "  warnings.warn(warning)\n"
     ]
    },
    {
     "name": "stdout",
     "output_type": "stream",
     "text": [
      "\u001b[32m[I 2022-05-25 16:21:47,494]\u001b[0m Trial 8 finished with value: -455.67361967994816 and parameters: {'x_ang': 202.70617316682768, 'y_ang': 31.305546122684802, 'z_ang': 318.0267443956617, 'x_pos': 0.39177742838548224, 'y_pos': 12.256277807451673, 'z_hig': 2.900323645789814}. Best is trial 7 with value: -456.2240541392387.\u001b[0m\n"
     ]
    },
    {
     "name": "stderr",
     "output_type": "stream",
     "text": [
      "/opt/anaconda3/lib/python3.7/site-packages/ase/utils/__init__.py:62: FutureWarning: Please use atoms.cell.cellpar() instead\n",
      "  warnings.warn(warning)\n"
     ]
    },
    {
     "name": "stdout",
     "output_type": "stream",
     "text": [
      "\u001b[32m[I 2022-05-25 16:21:54,617]\u001b[0m Trial 9 finished with value: -455.8507905671009 and parameters: {'x_ang': 81.73569686073085, 'y_ang': 222.39513307783068, 'z_ang': 79.37124887065855, 'x_pos': 9.913293233745476, 'y_pos': 10.959456789623754, 'z_hig': 2.227527524262074}. Best is trial 7 with value: -456.2240541392387.\u001b[0m\n"
     ]
    },
    {
     "name": "stderr",
     "output_type": "stream",
     "text": [
      "/opt/anaconda3/lib/python3.7/site-packages/ase/utils/__init__.py:62: FutureWarning: Please use atoms.cell.cellpar() instead\n",
      "  warnings.warn(warning)\n"
     ]
    },
    {
     "name": "stdout",
     "output_type": "stream",
     "text": [
      "\u001b[32m[I 2022-05-25 16:22:01,849]\u001b[0m Trial 10 finished with value: -455.67239123280314 and parameters: {'x_ang': 50.69751955535584, 'y_ang': 301.2200308636247, 'z_ang': 275.4185682223726, 'x_pos': 2.091066555371171, 'y_pos': 5.714776916170019, 'z_hig': 2.055679391490653}. Best is trial 7 with value: -456.2240541392387.\u001b[0m\n"
     ]
    },
    {
     "name": "stderr",
     "output_type": "stream",
     "text": [
      "/opt/anaconda3/lib/python3.7/site-packages/ase/utils/__init__.py:62: FutureWarning: Please use atoms.cell.cellpar() instead\n",
      "  warnings.warn(warning)\n"
     ]
    },
    {
     "name": "stdout",
     "output_type": "stream",
     "text": [
      "\u001b[32m[I 2022-05-25 16:22:09,194]\u001b[0m Trial 11 finished with value: -456.1922225788636 and parameters: {'x_ang': 53.58344214175882, 'y_ang': 201.42991299351417, 'z_ang': 150.71265494803322, 'x_pos': 11.011939805920168, 'y_pos': 12.091368588546446, 'z_hig': 2.3689895784459134}. Best is trial 7 with value: -456.2240541392387.\u001b[0m\n"
     ]
    },
    {
     "name": "stderr",
     "output_type": "stream",
     "text": [
      "/opt/anaconda3/lib/python3.7/site-packages/ase/utils/__init__.py:62: FutureWarning: Please use atoms.cell.cellpar() instead\n",
      "  warnings.warn(warning)\n"
     ]
    },
    {
     "name": "stdout",
     "output_type": "stream",
     "text": [
      "\u001b[32m[I 2022-05-25 16:22:35,086]\u001b[0m Trial 12 finished with value: -456.4011811911315 and parameters: {'x_ang': 11.885759031920855, 'y_ang': 344.90776177380985, 'z_ang': 313.77851371411236, 'x_pos': 9.170216755028015, 'y_pos': 11.657544875830656, 'z_hig': 2.498032037071372}. Best is trial 12 with value: -456.4011811911315.\u001b[0m\n"
     ]
    },
    {
     "name": "stderr",
     "output_type": "stream",
     "text": [
      "/opt/anaconda3/lib/python3.7/site-packages/ase/utils/__init__.py:62: FutureWarning: Please use atoms.cell.cellpar() instead\n",
      "  warnings.warn(warning)\n"
     ]
    },
    {
     "name": "stdout",
     "output_type": "stream",
     "text": [
      "\u001b[32m[I 2022-05-25 16:22:35,951]\u001b[0m Trial 13 finished with value: -455.3907646342245 and parameters: {'x_ang': 50.32009036691606, 'y_ang': 325.51295071616977, 'z_ang': 301.7203035922549, 'x_pos': 9.09540436647959, 'y_pos': 12.42604695522564, 'z_hig': 2.774141116209611}. Best is trial 12 with value: -456.4011811911315.\u001b[0m\n"
     ]
    },
    {
     "name": "stderr",
     "output_type": "stream",
     "text": [
      "/opt/anaconda3/lib/python3.7/site-packages/ase/utils/__init__.py:62: FutureWarning: Please use atoms.cell.cellpar() instead\n",
      "  warnings.warn(warning)\n"
     ]
    },
    {
     "name": "stdout",
     "output_type": "stream",
     "text": [
      "\u001b[32m[I 2022-05-25 16:22:36,821]\u001b[0m Trial 14 finished with value: -455.30386503252265 and parameters: {'x_ang': 2.36560070252035, 'y_ang': 304.2443681417981, 'z_ang': 254.8733035594973, 'x_pos': 0.9547852689838677, 'y_pos': 1.5531077446004122, 'z_hig': 2.830048493416506}. Best is trial 12 with value: -456.4011811911315.\u001b[0m\n",
      "  Elapsed time : 111 sec\n",
      "# --> Optimizing the most stable geometry...\n",
      "  E_slab = -456.4012 eV\n",
      "  E_mol_slab = -456.4012 eV\n",
      "# --> Results \n",
      "Adsorption energy: -1.3947 eV\n",
      "Adsorption energy: -134.5669 kJ/mol\n",
      "\n",
      "Finished at 20220525 16:2303 JST pfn22g.\n",
      "\n",
      "Started at 20220525 16:2303 JST pfn22g.\n",
      "GPU: 1\n",
      "No module named 'pfp_api_client'\n",
      "<VER: 0102>   <DFT-U: True>   <D3: True>\n",
      "Loading PFP v1.2.2.\n",
      "EstimatorCalcMode.CRYSTAL\n",
      "D3 correction: <torch_dftd.torch_dftd3_calculator.TorchDFTD3Calculator object at 0x7fef786d2c10>\n",
      "# --> Optimizing the molecule and slab geometries...\n",
      "  E_mol = -223.5189 eV\n"
     ]
    },
    {
     "name": "stderr",
     "output_type": "stream",
     "text": [
      "/opt/anaconda3/lib/python3.7/site-packages/optuna/samplers/_tpe/sampler.py:266: ExperimentalWarning: ``multivariate`` option is an experimental feature. The interface can change in the future.\n",
      "  ExperimentalWarning,\n",
      "\u001b[32m[I 2022-05-25 16:23:08,532]\u001b[0m A new study created in memory with name: no-name-237ddca1-6122-4642-a151-f3fb902a6801\u001b[0m\n"
     ]
    },
    {
     "name": "stdout",
     "output_type": "stream",
     "text": [
      "  E_slab = -305.0122 eV\n",
      "Check the initial geometry: dmin = 0.98 \n",
      "# --> Exploring stable adsorption sites...\n",
      "Cutoff for hydrogen: 0.97 A\n",
      "Cutoff for others:   1.21 A\n"
     ]
    },
    {
     "name": "stderr",
     "output_type": "stream",
     "text": [
      "/opt/anaconda3/lib/python3.7/site-packages/optuna/progress_bar.py:47: ExperimentalWarning: Progress bar is experimental (supported from v1.2.0). The interface can change in the future.\n",
      "  self._init_valid()\n"
     ]
    },
    {
     "data": {
      "application/vnd.jupyter.widget-view+json": {
       "model_id": "243e05ba238b4097861135d40cdf7420",
       "version_major": 2,
       "version_minor": 0
      },
      "text/plain": [
       "  0%|          | 0/15 [00:00<?, ?it/s]"
      ]
     },
     "metadata": {},
     "output_type": "display_data"
    },
    {
     "name": "stderr",
     "output_type": "stream",
     "text": [
      "/opt/anaconda3/lib/python3.7/site-packages/ase/utils/__init__.py:62: FutureWarning: Please use atoms.cell.cellpar() instead\n",
      "  warnings.warn(warning)\n"
     ]
    },
    {
     "name": "stdout",
     "output_type": "stream",
     "text": [
      "\u001b[32m[I 2022-05-25 16:23:15,644]\u001b[0m Trial 0 finished with value: -529.3166064954817 and parameters: {'x_ang': 143.88045666787545, 'y_ang': 260.96567599645675, 'z_ang': 348.6506106121903, 'x_pos': 9.457332523168464, 'y_pos': 4.358519197240986, 'z_hig': 2.1943345974910904}. Best is trial 0 with value: -529.3166064954817.\u001b[0m\n"
     ]
    },
    {
     "name": "stderr",
     "output_type": "stream",
     "text": [
      "/opt/anaconda3/lib/python3.7/site-packages/ase/utils/__init__.py:62: FutureWarning: Please use atoms.cell.cellpar() instead\n",
      "  warnings.warn(warning)\n"
     ]
    },
    {
     "name": "stdout",
     "output_type": "stream",
     "text": [
      "\u001b[32m[I 2022-05-25 16:23:23,747]\u001b[0m Trial 1 finished with value: -529.3448223601382 and parameters: {'x_ang': 63.098078840903746, 'y_ang': 97.89230752319669, 'z_ang': 117.73907044832117, 'x_pos': 4.362633177882049, 'y_pos': 6.823474176803284, 'z_hig': 2.3481947833246637}. Best is trial 1 with value: -529.3448223601382.\u001b[0m\n"
     ]
    },
    {
     "name": "stderr",
     "output_type": "stream",
     "text": [
      "/opt/anaconda3/lib/python3.7/site-packages/ase/utils/__init__.py:62: FutureWarning: Please use atoms.cell.cellpar() instead\n",
      "  warnings.warn(warning)\n"
     ]
    },
    {
     "name": "stdout",
     "output_type": "stream",
     "text": [
      "\u001b[32m[I 2022-05-25 16:23:34,360]\u001b[0m Trial 2 finished with value: -529.4151490390489 and parameters: {'x_ang': 126.59222375148097, 'y_ang': 56.524106900004845, 'z_ang': 304.6128841978544, 'x_pos': 13.770680934483151, 'y_pos': 2.5048636355906293, 'z_hig': 2.1481261584801947}. Best is trial 2 with value: -529.4151490390489.\u001b[0m\n"
     ]
    },
    {
     "name": "stderr",
     "output_type": "stream",
     "text": [
      "/opt/anaconda3/lib/python3.7/site-packages/ase/utils/__init__.py:62: FutureWarning: Please use atoms.cell.cellpar() instead\n",
      "  warnings.warn(warning)\n"
     ]
    },
    {
     "name": "stdout",
     "output_type": "stream",
     "text": [
      "\u001b[32m[I 2022-05-25 16:23:35,300]\u001b[0m Trial 3 finished with value: -529.026923847612 and parameters: {'x_ang': 226.39792238797045, 'y_ang': 207.86996660321654, 'z_ang': 233.60104181972048, 'x_pos': 10.923257953123922, 'y_pos': 8.86556706017969, 'z_hig': 2.824030909862256}. Best is trial 2 with value: -529.4151490390489.\u001b[0m\n"
     ]
    },
    {
     "name": "stderr",
     "output_type": "stream",
     "text": [
      "/opt/anaconda3/lib/python3.7/site-packages/ase/utils/__init__.py:62: FutureWarning: Please use atoms.cell.cellpar() instead\n",
      "  warnings.warn(warning)\n"
     ]
    },
    {
     "name": "stdout",
     "output_type": "stream",
     "text": [
      "\u001b[32m[I 2022-05-25 16:23:36,236]\u001b[0m Trial 4 finished with value: -528.9873495579276 and parameters: {'x_ang': 0.9316434423757247, 'y_ang': 278.3165313017946, 'z_ang': 23.24943911851594, 'x_pos': 7.7352543859261385, 'y_pos': 5.398142026814128, 'z_hig': 2.8080304738005233}. Best is trial 2 with value: -529.4151490390489.\u001b[0m\n"
     ]
    },
    {
     "name": "stderr",
     "output_type": "stream",
     "text": [
      "/opt/anaconda3/lib/python3.7/site-packages/ase/utils/__init__.py:62: FutureWarning: Please use atoms.cell.cellpar() instead\n",
      "  warnings.warn(warning)\n"
     ]
    },
    {
     "name": "stdout",
     "output_type": "stream",
     "text": [
      "\u001b[32m[I 2022-05-25 16:23:43,243]\u001b[0m Trial 5 finished with value: -529.2016317969321 and parameters: {'x_ang': 337.8777456929153, 'y_ang': 51.610630223474345, 'z_ang': 27.15335036050204, 'x_pos': 21.479552762881088, 'y_pos': 9.311585203059268, 'z_hig': 3.0094317697564805}. Best is trial 2 with value: -529.4151490390489.\u001b[0m\n"
     ]
    },
    {
     "name": "stderr",
     "output_type": "stream",
     "text": [
      "/opt/anaconda3/lib/python3.7/site-packages/ase/utils/__init__.py:62: FutureWarning: Please use atoms.cell.cellpar() instead\n",
      "  warnings.warn(warning)\n"
     ]
    },
    {
     "name": "stdout",
     "output_type": "stream",
     "text": [
      "\u001b[32m[I 2022-05-25 16:23:44,298]\u001b[0m Trial 6 finished with value: -528.858504264851 and parameters: {'x_ang': 118.91603160685412, 'y_ang': 299.167583280388, 'z_ang': 323.99085119000654, 'x_pos': 12.011032955050975, 'y_pos': 11.139132790831527, 'z_hig': 3.1471561588947954}. Best is trial 2 with value: -529.4151490390489.\u001b[0m\n"
     ]
    },
    {
     "name": "stderr",
     "output_type": "stream",
     "text": [
      "/opt/anaconda3/lib/python3.7/site-packages/ase/utils/__init__.py:62: FutureWarning: Please use atoms.cell.cellpar() instead\n",
      "  warnings.warn(warning)\n"
     ]
    },
    {
     "name": "stdout",
     "output_type": "stream",
     "text": [
      "\u001b[32m[I 2022-05-25 16:23:50,811]\u001b[0m Trial 7 finished with value: -529.2021367384905 and parameters: {'x_ang': 183.8074372427638, 'y_ang': 344.94932554592776, 'z_ang': 100.89523034008155, 'x_pos': 17.341975089829823, 'y_pos': 10.712910882161005, 'z_hig': 3.156567869784711}. Best is trial 2 with value: -529.4151490390489.\u001b[0m\n"
     ]
    },
    {
     "name": "stderr",
     "output_type": "stream",
     "text": [
      "/opt/anaconda3/lib/python3.7/site-packages/ase/utils/__init__.py:62: FutureWarning: Please use atoms.cell.cellpar() instead\n",
      "  warnings.warn(warning)\n"
     ]
    },
    {
     "name": "stdout",
     "output_type": "stream",
     "text": [
      "\u001b[32m[I 2022-05-25 16:23:57,984]\u001b[0m Trial 8 finished with value: -529.1094515957867 and parameters: {'x_ang': 222.9241041295136, 'y_ang': 64.52544438108914, 'z_ang': 39.9249326234091, 'x_pos': 3.1842419730340836, 'y_pos': 10.738464479873397, 'z_hig': 3.141982759493748}. Best is trial 2 with value: -529.4151490390489.\u001b[0m\n"
     ]
    },
    {
     "name": "stderr",
     "output_type": "stream",
     "text": [
      "/opt/anaconda3/lib/python3.7/site-packages/ase/utils/__init__.py:62: FutureWarning: Please use atoms.cell.cellpar() instead\n",
      "  warnings.warn(warning)\n"
     ]
    },
    {
     "name": "stdout",
     "output_type": "stream",
     "text": [
      "\u001b[32m[I 2022-05-25 16:23:58,937]\u001b[0m Trial 9 finished with value: -529.0633767828799 and parameters: {'x_ang': 95.24259920151401, 'y_ang': 341.30735984924945, 'z_ang': 90.25693504520957, 'x_pos': 9.20297582603945, 'y_pos': 4.240776487653777, 'z_hig': 2.9807341496646327}. Best is trial 2 with value: -529.4151490390489.\u001b[0m\n"
     ]
    },
    {
     "name": "stderr",
     "output_type": "stream",
     "text": [
      "/opt/anaconda3/lib/python3.7/site-packages/ase/utils/__init__.py:62: FutureWarning: Please use atoms.cell.cellpar() instead\n",
      "  warnings.warn(warning)\n"
     ]
    },
    {
     "name": "stdout",
     "output_type": "stream",
     "text": [
      "\u001b[32m[I 2022-05-25 16:24:09,231]\u001b[0m Trial 10 finished with value: -529.6114228940311 and parameters: {'x_ang': 114.52011737660338, 'y_ang': 139.53367337670878, 'z_ang': 346.39414785674217, 'x_pos': 21.305915946408298, 'y_pos': 3.220004109834574, 'z_hig': 2.2239505783108333}. Best is trial 10 with value: -529.6114228940311.\u001b[0m\n"
     ]
    },
    {
     "name": "stderr",
     "output_type": "stream",
     "text": [
      "/opt/anaconda3/lib/python3.7/site-packages/ase/utils/__init__.py:62: FutureWarning: Please use atoms.cell.cellpar() instead\n",
      "  warnings.warn(warning)\n"
     ]
    },
    {
     "name": "stdout",
     "output_type": "stream",
     "text": [
      "\u001b[32m[I 2022-05-25 16:24:16,313]\u001b[0m Trial 11 finished with value: -529.7143704843681 and parameters: {'x_ang': 110.33272968366212, 'y_ang': 155.8668212466948, 'z_ang': 261.00958248264004, 'x_pos': 21.62317976332909, 'y_pos': 3.716152254213481, 'z_hig': 2.09415481327068}. Best is trial 11 with value: -529.7143704843681.\u001b[0m\n"
     ]
    },
    {
     "name": "stderr",
     "output_type": "stream",
     "text": [
      "/opt/anaconda3/lib/python3.7/site-packages/ase/utils/__init__.py:62: FutureWarning: Please use atoms.cell.cellpar() instead\n",
      "  warnings.warn(warning)\n"
     ]
    },
    {
     "name": "stdout",
     "output_type": "stream",
     "text": [
      "\u001b[32m[I 2022-05-25 16:24:23,954]\u001b[0m Trial 12 finished with value: -529.7708074035125 and parameters: {'x_ang': 45.13648823194593, 'y_ang': 187.13627739629982, 'z_ang': 296.35261412561727, 'x_pos': 19.798078842026463, 'y_pos': 4.282383125161375, 'z_hig': 2.1817238891152355}. Best is trial 12 with value: -529.7708074035125.\u001b[0m\n"
     ]
    },
    {
     "name": "stderr",
     "output_type": "stream",
     "text": [
      "/opt/anaconda3/lib/python3.7/site-packages/ase/utils/__init__.py:62: FutureWarning: Please use atoms.cell.cellpar() instead\n",
      "  warnings.warn(warning)\n"
     ]
    },
    {
     "name": "stdout",
     "output_type": "stream",
     "text": [
      "\u001b[32m[I 2022-05-25 16:24:32,772]\u001b[0m Trial 13 finished with value: -529.4388988193523 and parameters: {'x_ang': 81.98732066088083, 'y_ang': 130.56191786457404, 'z_ang': 171.09664318846774, 'x_pos': 17.8384739434367, 'y_pos': 9.385223575264042, 'z_hig': 2.1827167043389424}. Best is trial 12 with value: -529.7708074035125.\u001b[0m\n"
     ]
    },
    {
     "name": "stderr",
     "output_type": "stream",
     "text": [
      "/opt/anaconda3/lib/python3.7/site-packages/ase/utils/__init__.py:62: FutureWarning: Please use atoms.cell.cellpar() instead\n",
      "  warnings.warn(warning)\n"
     ]
    },
    {
     "name": "stdout",
     "output_type": "stream",
     "text": [
      "\u001b[32m[I 2022-05-25 16:24:39,260]\u001b[0m Trial 14 finished with value: -529.4274446992523 and parameters: {'x_ang': 139.4181466177692, 'y_ang': 166.0369892197535, 'z_ang': 158.32669070856736, 'x_pos': 20.16452927335068, 'y_pos': 1.2268990035982652, 'z_hig': 2.640261528155345}. Best is trial 12 with value: -529.7708074035125.\u001b[0m\n",
      "  Elapsed time : 90 sec\n",
      "# --> Optimizing the most stable geometry...\n",
      "  E_slab = -529.7708 eV\n",
      "  E_mol_slab = -529.7708 eV\n",
      "# --> Results \n",
      "Adsorption energy: -1.2397 eV\n",
      "Adsorption energy: -119.6149 kJ/mol\n",
      "\n",
      "Finished at 20220525 16:2446 JST pfn22g.\n",
      "\n",
      "Started at 20220525 16:2446 JST pfn22g.\n",
      "GPU: 1\n",
      "No module named 'pfp_api_client'\n",
      "<VER: 0102>   <DFT-U: True>   <D3: True>\n",
      "Loading PFP v1.2.2.\n",
      "EstimatorCalcMode.CRYSTAL\n",
      "D3 correction: <torch_dftd.torch_dftd3_calculator.TorchDFTD3Calculator object at 0x7fef7862a910>\n",
      "# --> Optimizing the molecule and slab geometries...\n",
      "  E_mol = -229.1216 eV\n"
     ]
    },
    {
     "name": "stderr",
     "output_type": "stream",
     "text": [
      "/opt/anaconda3/lib/python3.7/site-packages/optuna/samplers/_tpe/sampler.py:266: ExperimentalWarning: ``multivariate`` option is an experimental feature. The interface can change in the future.\n",
      "  ExperimentalWarning,\n",
      "\u001b[32m[I 2022-05-25 16:24:51,645]\u001b[0m A new study created in memory with name: no-name-d24c5b6b-ac4e-44ef-bcb9-b5a4e6b92a58\u001b[0m\n"
     ]
    },
    {
     "name": "stdout",
     "output_type": "stream",
     "text": [
      "  E_slab = -305.0122 eV\n",
      "Check the initial geometry: dmin = 1.02 \n",
      "# --> Exploring stable adsorption sites...\n",
      "Cutoff for hydrogen: 1.01 A\n",
      "Cutoff for others:   1.33 A\n"
     ]
    },
    {
     "name": "stderr",
     "output_type": "stream",
     "text": [
      "/opt/anaconda3/lib/python3.7/site-packages/optuna/progress_bar.py:47: ExperimentalWarning: Progress bar is experimental (supported from v1.2.0). The interface can change in the future.\n",
      "  self._init_valid()\n"
     ]
    },
    {
     "data": {
      "application/vnd.jupyter.widget-view+json": {
       "model_id": "edcaaff4d5964fc59906ba836aad9d8a",
       "version_major": 2,
       "version_minor": 0
      },
      "text/plain": [
       "  0%|          | 0/15 [00:00<?, ?it/s]"
      ]
     },
     "metadata": {},
     "output_type": "display_data"
    },
    {
     "name": "stderr",
     "output_type": "stream",
     "text": [
      "/opt/anaconda3/lib/python3.7/site-packages/ase/utils/__init__.py:62: FutureWarning: Please use atoms.cell.cellpar() instead\n",
      "  warnings.warn(warning)\n"
     ]
    },
    {
     "name": "stdout",
     "output_type": "stream",
     "text": [
      "\u001b[32m[I 2022-05-25 16:24:52,622]\u001b[0m Trial 0 finished with value: -534.4218257525474 and parameters: {'x_ang': 284.71405700968546, 'y_ang': 128.33772372162028, 'z_ang': 215.8163519486674, 'x_pos': 18.13535709526637, 'y_pos': 10.360300695350242, 'z_hig': 3.380092534778501}. Best is trial 0 with value: -534.4218257525474.\u001b[0m\n"
     ]
    },
    {
     "name": "stderr",
     "output_type": "stream",
     "text": [
      "/opt/anaconda3/lib/python3.7/site-packages/ase/utils/__init__.py:62: FutureWarning: Please use atoms.cell.cellpar() instead\n",
      "  warnings.warn(warning)\n"
     ]
    },
    {
     "name": "stdout",
     "output_type": "stream",
     "text": [
      "\u001b[32m[I 2022-05-25 16:24:59,198]\u001b[0m Trial 1 finished with value: -534.8439300405781 and parameters: {'x_ang': 359.2129319283937, 'y_ang': 269.2616060239058, 'z_ang': 31.704638716085288, 'x_pos': 17.22021349301049, 'y_pos': 7.1652041099074415, 'z_hig': 2.467723055850478}. Best is trial 1 with value: -534.8439300405781.\u001b[0m\n"
     ]
    },
    {
     "name": "stderr",
     "output_type": "stream",
     "text": [
      "/opt/anaconda3/lib/python3.7/site-packages/ase/utils/__init__.py:62: FutureWarning: Please use atoms.cell.cellpar() instead\n",
      "  warnings.warn(warning)\n"
     ]
    },
    {
     "name": "stdout",
     "output_type": "stream",
     "text": [
      "\u001b[32m[I 2022-05-25 16:25:05,897]\u001b[0m Trial 2 finished with value: -534.7909130151043 and parameters: {'x_ang': 160.20620555866964, 'y_ang': 62.16028105098963, 'z_ang': 313.8641483939267, 'x_pos': 5.566135070654008, 'y_pos': 3.636330407113847, 'z_hig': 2.754609574825202}. Best is trial 1 with value: -534.8439300405781.\u001b[0m\n"
     ]
    },
    {
     "name": "stderr",
     "output_type": "stream",
     "text": [
      "/opt/anaconda3/lib/python3.7/site-packages/ase/utils/__init__.py:62: FutureWarning: Please use atoms.cell.cellpar() instead\n",
      "  warnings.warn(warning)\n"
     ]
    },
    {
     "name": "stdout",
     "output_type": "stream",
     "text": [
      "\u001b[32m[I 2022-05-25 16:25:06,921]\u001b[0m Trial 3 finished with value: -534.4542524743384 and parameters: {'x_ang': 7.685179887245206, 'y_ang': 260.065491544274, 'z_ang': 318.4618045786923, 'x_pos': 8.08526528928578, 'y_pos': 12.735493690068674, 'z_hig': 3.2684106476998194}. Best is trial 1 with value: -534.8439300405781.\u001b[0m\n"
     ]
    },
    {
     "name": "stderr",
     "output_type": "stream",
     "text": [
      "/opt/anaconda3/lib/python3.7/site-packages/ase/utils/__init__.py:62: FutureWarning: Please use atoms.cell.cellpar() instead\n",
      "  warnings.warn(warning)\n"
     ]
    },
    {
     "name": "stdout",
     "output_type": "stream",
     "text": [
      "\u001b[32m[I 2022-05-25 16:25:07,873]\u001b[0m Trial 4 finished with value: -534.4000967220178 and parameters: {'x_ang': 213.17604342919338, 'y_ang': 61.49978272127553, 'z_ang': 294.4172819619255, 'x_pos': 8.33647467816427, 'y_pos': 2.3241325974170524, 'z_hig': 3.454832255000219}. Best is trial 1 with value: -534.8439300405781.\u001b[0m\n"
     ]
    },
    {
     "name": "stderr",
     "output_type": "stream",
     "text": [
      "/opt/anaconda3/lib/python3.7/site-packages/ase/utils/__init__.py:62: FutureWarning: Please use atoms.cell.cellpar() instead\n",
      "  warnings.warn(warning)\n"
     ]
    },
    {
     "name": "stdout",
     "output_type": "stream",
     "text": [
      "\u001b[32m[I 2022-05-25 16:25:18,696]\u001b[0m Trial 5 finished with value: -535.2459720312615 and parameters: {'x_ang': 8.67889303303198, 'y_ang': 167.38699305035956, 'z_ang': 236.02123652379268, 'x_pos': 11.32852069748854, 'y_pos': 7.064529099076492, 'z_hig': 2.70250932345328}. Best is trial 5 with value: -535.2459720312615.\u001b[0m\n"
     ]
    },
    {
     "name": "stderr",
     "output_type": "stream",
     "text": [
      "/opt/anaconda3/lib/python3.7/site-packages/ase/utils/__init__.py:62: FutureWarning: Please use atoms.cell.cellpar() instead\n",
      "  warnings.warn(warning)\n"
     ]
    },
    {
     "name": "stdout",
     "output_type": "stream",
     "text": [
      "\u001b[32m[I 2022-05-25 16:25:19,642]\u001b[0m Trial 6 finished with value: -534.5517417547537 and parameters: {'x_ang': 330.6759758865465, 'y_ang': 157.8999680554915, 'z_ang': 272.59656744024045, 'x_pos': 10.715810623023664, 'y_pos': 3.0374925230912075, 'z_hig': 3.4094924540064424}. Best is trial 5 with value: -535.2459720312615.\u001b[0m\n"
     ]
    },
    {
     "name": "stderr",
     "output_type": "stream",
     "text": [
      "/opt/anaconda3/lib/python3.7/site-packages/ase/utils/__init__.py:62: FutureWarning: Please use atoms.cell.cellpar() instead\n",
      "  warnings.warn(warning)\n"
     ]
    },
    {
     "name": "stdout",
     "output_type": "stream",
     "text": [
      "\u001b[32m[I 2022-05-25 16:25:26,811]\u001b[0m Trial 7 finished with value: -534.9267229979662 and parameters: {'x_ang': 269.5171557072296, 'y_ang': 16.950608648036464, 'z_ang': 26.433659353050945, 'x_pos': 13.371870149515908, 'y_pos': 6.829657973671441, 'z_hig': 2.4645295294730714}. Best is trial 5 with value: -535.2459720312615.\u001b[0m\n"
     ]
    },
    {
     "name": "stderr",
     "output_type": "stream",
     "text": [
      "/opt/anaconda3/lib/python3.7/site-packages/ase/utils/__init__.py:62: FutureWarning: Please use atoms.cell.cellpar() instead\n",
      "  warnings.warn(warning)\n"
     ]
    },
    {
     "name": "stdout",
     "output_type": "stream",
     "text": [
      "\u001b[32m[I 2022-05-25 16:25:27,770]\u001b[0m Trial 8 finished with value: -534.4108595290944 and parameters: {'x_ang': 289.1853500485109, 'y_ang': 277.62195429536564, 'z_ang': 234.67242038055403, 'x_pos': 4.184999604937376, 'y_pos': 0.13686876510166252, 'z_hig': 3.3733838940025374}. Best is trial 5 with value: -535.2459720312615.\u001b[0m\n"
     ]
    },
    {
     "name": "stderr",
     "output_type": "stream",
     "text": [
      "/opt/anaconda3/lib/python3.7/site-packages/ase/utils/__init__.py:62: FutureWarning: Please use atoms.cell.cellpar() instead\n",
      "  warnings.warn(warning)\n"
     ]
    },
    {
     "name": "stdout",
     "output_type": "stream",
     "text": [
      "\u001b[32m[I 2022-05-25 16:25:28,742]\u001b[0m Trial 9 finished with value: -534.4555549983744 and parameters: {'x_ang': 243.88078913117144, 'y_ang': 296.6240355051987, 'z_ang': 229.38043329107035, 'x_pos': 8.768463387886047, 'y_pos': 9.35351952888965, 'z_hig': 3.1284700192894483}. Best is trial 5 with value: -535.2459720312615.\u001b[0m\n"
     ]
    },
    {
     "name": "stderr",
     "output_type": "stream",
     "text": [
      "/opt/anaconda3/lib/python3.7/site-packages/ase/utils/__init__.py:62: FutureWarning: Please use atoms.cell.cellpar() instead\n",
      "  warnings.warn(warning)\n"
     ]
    },
    {
     "name": "stdout",
     "output_type": "stream",
     "text": [
      "\u001b[32m[I 2022-05-25 16:25:35,717]\u001b[0m Trial 10 finished with value: -534.8386614803679 and parameters: {'x_ang': 67.40106138302382, 'y_ang': 136.8666899633561, 'z_ang': 174.23226431517455, 'x_pos': 19.34021936978158, 'y_pos': 7.950515282699195, 'z_hig': 2.5690212862917146}. Best is trial 5 with value: -535.2459720312615.\u001b[0m\n"
     ]
    },
    {
     "name": "stderr",
     "output_type": "stream",
     "text": [
      "/opt/anaconda3/lib/python3.7/site-packages/ase/utils/__init__.py:62: FutureWarning: Please use atoms.cell.cellpar() instead\n",
      "  warnings.warn(warning)\n"
     ]
    },
    {
     "name": "stdout",
     "output_type": "stream",
     "text": [
      "\u001b[32m[I 2022-05-25 16:25:42,772]\u001b[0m Trial 11 finished with value: -534.8414741970796 and parameters: {'x_ang': 270.83205210913496, 'y_ang': 37.142291835995685, 'z_ang': 91.4392418314627, 'x_pos': 17.877373574181213, 'y_pos': 5.997112895597152, 'z_hig': 2.360842216528932}. Best is trial 5 with value: -535.2459720312615.\u001b[0m\n"
     ]
    },
    {
     "name": "stderr",
     "output_type": "stream",
     "text": [
      "/opt/anaconda3/lib/python3.7/site-packages/ase/utils/__init__.py:62: FutureWarning: Please use atoms.cell.cellpar() instead\n",
      "  warnings.warn(warning)\n"
     ]
    },
    {
     "name": "stdout",
     "output_type": "stream",
     "text": [
      "\u001b[32m[I 2022-05-25 16:25:49,993]\u001b[0m Trial 12 finished with value: -535.0023609825191 and parameters: {'x_ang': 19.469718626069806, 'y_ang': 206.3946160463148, 'z_ang': 196.6266538693762, 'x_pos': 6.294056611889286, 'y_pos': 6.315735626789239, 'z_hig': 2.4137604711496587}. Best is trial 5 with value: -535.2459720312615.\u001b[0m\n"
     ]
    },
    {
     "name": "stderr",
     "output_type": "stream",
     "text": [
      "/opt/anaconda3/lib/python3.7/site-packages/ase/utils/__init__.py:62: FutureWarning: Please use atoms.cell.cellpar() instead\n",
      "  warnings.warn(warning)\n"
     ]
    },
    {
     "name": "stdout",
     "output_type": "stream",
     "text": [
      "\u001b[32m[I 2022-05-25 16:25:56,776]\u001b[0m Trial 13 finished with value: -534.8923717798307 and parameters: {'x_ang': 11.15356971405407, 'y_ang': 214.9669619009092, 'z_ang': 160.76489188267914, 'x_pos': 2.897771887933493, 'y_pos': 2.6063970069810134, 'z_hig': 2.5405577297066735}. Best is trial 5 with value: -535.2459720312615.\u001b[0m\n"
     ]
    },
    {
     "name": "stderr",
     "output_type": "stream",
     "text": [
      "/opt/anaconda3/lib/python3.7/site-packages/ase/utils/__init__.py:62: FutureWarning: Please use atoms.cell.cellpar() instead\n",
      "  warnings.warn(warning)\n"
     ]
    },
    {
     "name": "stdout",
     "output_type": "stream",
     "text": [
      "\u001b[32m[I 2022-05-25 16:26:03,823]\u001b[0m Trial 14 finished with value: -535.0465522938956 and parameters: {'x_ang': 77.37640385142637, 'y_ang': 165.66575473881548, 'z_ang': 323.39172742368146, 'x_pos': 8.558822563272617, 'y_pos': 8.82318903738111, 'z_hig': 2.4254289585711764}. Best is trial 5 with value: -535.2459720312615.\u001b[0m\n",
      "  Elapsed time : 72 sec\n",
      "# --> Optimizing the most stable geometry...\n",
      "  E_slab = -535.2460 eV\n",
      "  E_mol_slab = -535.2460 eV\n",
      "# --> Results \n",
      "Adsorption energy: -1.1122 eV\n",
      "Adsorption energy: -107.3148 kJ/mol\n",
      "\n",
      "Finished at 20220525 16:2614 JST pfn22g.\n",
      "[-1.0137877336877068, -1.3946871497795428, -1.23972085043863, -1.112239944423095]\n"
     ]
    },
    {
     "data": {
      "application/vnd.jupyter.widget-view+json": {
       "model_id": "4b5eab4d775a4adc840020899e70dade",
       "version_major": 2,
       "version_minor": 0
      },
      "text/plain": [
       "NGLWidget(background='#161616')"
      ]
     },
     "metadata": {},
     "output_type": "display_data"
    },
    {
     "data": {
      "application/vnd.jupyter.widget-view+json": {
       "model_id": "d6d4240ef17c42dd8dfa14bb20cecd10",
       "version_major": 2,
       "version_minor": 0
      },
      "text/plain": [
       "NGLWidget(background='#161616')"
      ]
     },
     "metadata": {},
     "output_type": "display_data"
    },
    {
     "data": {
      "application/vnd.jupyter.widget-view+json": {
       "model_id": "4aa099060f85420ebec42462c4fe383c",
       "version_major": 2,
       "version_minor": 0
      },
      "text/plain": [
       "NGLWidget(background='#161616')"
      ]
     },
     "metadata": {},
     "output_type": "display_data"
    },
    {
     "data": {
      "application/vnd.jupyter.widget-view+json": {
       "model_id": "3f4b8d291b644f11a08d1d8519fdce02",
       "version_major": 2,
       "version_minor": 0
      },
      "text/plain": [
       "NGLWidget(background='#161616')"
      ]
     },
     "metadata": {},
     "output_type": "display_data"
    },
    {
     "name": "stdout",
     "output_type": "stream",
     "text": [
      "12\n",
      "Results of optuna:\n"
     ]
    },
    {
     "data": {
      "text/html": [
       "<div>\n",
       "<style scoped>\n",
       "    .dataframe tbody tr th:only-of-type {\n",
       "        vertical-align: middle;\n",
       "    }\n",
       "\n",
       "    .dataframe tbody tr th {\n",
       "        vertical-align: top;\n",
       "    }\n",
       "\n",
       "    .dataframe thead th {\n",
       "        text-align: right;\n",
       "    }\n",
       "</style>\n",
       "<table border=\"1\" class=\"dataframe\">\n",
       "  <thead>\n",
       "    <tr style=\"text-align: right;\">\n",
       "      <th></th>\n",
       "      <th>#trial</th>\n",
       "      <th>x_ang</th>\n",
       "      <th>y_ang</th>\n",
       "      <th>z_ang</th>\n",
       "      <th>x_pos</th>\n",
       "      <th>y_pos</th>\n",
       "      <th>z_hig</th>\n",
       "      <th>energy_eV</th>\n",
       "    </tr>\n",
       "  </thead>\n",
       "  <tbody>\n",
       "    <tr>\n",
       "      <th>12</th>\n",
       "      <td>12</td>\n",
       "      <td>11.885759</td>\n",
       "      <td>344.907762</td>\n",
       "      <td>313.778514</td>\n",
       "      <td>9.170217</td>\n",
       "      <td>11.657545</td>\n",
       "      <td>2.498032</td>\n",
       "      <td>-456.401181</td>\n",
       "    </tr>\n",
       "  </tbody>\n",
       "</table>\n",
       "</div>"
      ],
      "text/plain": [
       "    #trial      x_ang       y_ang       z_ang     x_pos      y_pos     z_hig  \\\n",
       "12      12  11.885759  344.907762  313.778514  9.170217  11.657545  2.498032   \n",
       "\n",
       "     energy_eV  \n",
       "12 -456.401181  "
      ]
     },
     "metadata": {},
     "output_type": "display_data"
    },
    {
     "name": "stdout",
     "output_type": "stream",
     "text": [
      "Adsorption energies of optimized geometries:\n"
     ]
    },
    {
     "data": {
      "text/html": [
       "<div>\n",
       "<style scoped>\n",
       "    .dataframe tbody tr th:only-of-type {\n",
       "        vertical-align: middle;\n",
       "    }\n",
       "\n",
       "    .dataframe tbody tr th {\n",
       "        vertical-align: top;\n",
       "    }\n",
       "\n",
       "    .dataframe thead th {\n",
       "        text-align: right;\n",
       "    }\n",
       "</style>\n",
       "<table border=\"1\" class=\"dataframe\">\n",
       "  <thead>\n",
       "    <tr style=\"text-align: right;\">\n",
       "      <th></th>\n",
       "      <th>x_ang</th>\n",
       "      <th>y_ang</th>\n",
       "      <th>z_ang</th>\n",
       "      <th>x_pos</th>\n",
       "      <th>y_pos</th>\n",
       "      <th>z_hig</th>\n",
       "      <th>ads_eV</th>\n",
       "      <th>ads_kJmol</th>\n",
       "    </tr>\n",
       "  </thead>\n",
       "  <tbody>\n",
       "    <tr>\n",
       "      <th>0</th>\n",
       "      <td>11.885759</td>\n",
       "      <td>344.907762</td>\n",
       "      <td>313.778514</td>\n",
       "      <td>9.170217</td>\n",
       "      <td>11.657545</td>\n",
       "      <td>2.498032</td>\n",
       "      <td>-1.394687</td>\n",
       "      <td>-134.566854</td>\n",
       "    </tr>\n",
       "  </tbody>\n",
       "</table>\n",
       "</div>"
      ],
      "text/plain": [
       "       x_ang       y_ang       z_ang     x_pos      y_pos     z_hig    ads_eV  \\\n",
       "0  11.885759  344.907762  313.778514  9.170217  11.657545  2.498032 -1.394687   \n",
       "\n",
       "    ads_kJmol  \n",
       "0 -134.566854  "
      ]
     },
     "metadata": {},
     "output_type": "display_data"
    },
    {
     "data": {
      "application/vnd.jupyter.widget-view+json": {
       "model_id": "fdb8b8517e314aaba4b5e05457efb453",
       "version_major": 2,
       "version_minor": 0
      },
      "text/plain": [
       "NGLWidget(background='#161616')"
      ]
     },
     "metadata": {},
     "output_type": "display_data"
    },
    {
     "data": {
      "application/vnd.jupyter.widget-view+json": {
       "model_id": "aa532f99432a40ca87eb7ae0badce8c4",
       "version_major": 2,
       "version_minor": 0
      },
      "text/plain": [
       "NGLWidget(background='#161616')"
      ]
     },
     "metadata": {},
     "output_type": "display_data"
    },
    {
     "data": {
      "application/vnd.jupyter.widget-view+json": {
       "model_id": "cdde21edc3244a02a083959157fde363",
       "version_major": 2,
       "version_minor": 0
      },
      "text/plain": [
       "HBox(children=(NGLWidget(max_frame=14), VBox(children=(Dropdown(description='Show', options=('All', 'O', 'N', …"
      ]
     },
     "metadata": {},
     "output_type": "display_data"
    },
    {
     "data": {
      "image/png": "[encoded data removed]",
      "text/plain": [
       "<Figure size 432x288 with 1 Axes>"
      ]
     },
     "metadata": {
      "needs_background": "light"
     },
     "output_type": "display_data"
    },
    {
     "data": {
      "image/png": "[encoded data removed]",
      "text/plain": [
       "<Figure size 432x288 with 1 Axes>"
      ]
     },
     "metadata": {
      "needs_background": "light"
     },
     "output_type": "display_data"
    }
   ],
   "source": [
    "# test()"
   ]
  }
 ],
 "metadata": {
  "interpreter": {
   "hash": "40d3a090f54c6569ab1632332b64b2c03c39dcf918b08424e98f38b5ae0af88f"
  },
  "kernelspec": {
   "display_name": "Python 3.7.8 ('base')",
   "language": "python",
   "name": "python3"
  },
  "language_info": {
   "codemirror_mode": {
    "name": "ipython",
    "version": 3
   },
   "file_extension": ".py",
   "mimetype": "text/x-python",
   "name": "python",
   "nbconvert_exporter": "python",
   "pygments_lexer": "ipython3",
   "version": "3.7.8"
  }
 },
 "nbformat": 4,
 "nbformat_minor": 5
}
