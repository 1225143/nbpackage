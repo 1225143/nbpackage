{
 "cells": [
  {
   "cell_type": "markdown",
   "metadata": {},
   "source": [
    "## Scripts for geometry optimizations."
   ]
  },
  {
   "cell_type": "markdown",
   "metadata": {},
   "source": []
  },
  {
   "cell_type": "code",
   "execution_count": 2,
   "metadata": {},
   "outputs": [],
   "source": [
    "from ase.constraints import FixAtoms\n",
    "from ase.optimize import BFGS"
   ]
  },
  {
   "cell_type": "code",
   "execution_count": 3,
   "metadata": {},
   "outputs": [],
   "source": [
    "def myopt(\n",
    "    atoms,\n",
    "    fmax=0.05,\n",
    "    steps=1000,\n",
    "    maxstep=0.2,\n",
    "    logfile=None,\n",
    "    constraintatoms=[],\n",
    "    calculator=None,\n",
    "):\n",
    "    sc = FixAtoms(indices=constraintatoms)\n",
    "    atoms.set_constraint(sc)\n",
    "    atoms.set_calculator(calculator)\n",
    "    opt = BFGS(atoms, maxstep=maxstep, logfile=logfile)\n",
    "    opt.run(fmax, steps=steps)\n",
    "    return atoms\n"
   ]
  }
 ],
 "metadata": {
  "interpreter": {
   "hash": "40d3a090f54c6569ab1632332b64b2c03c39dcf918b08424e98f38b5ae0af88f"
  },
  "kernelspec": {
   "display_name": "Python 3.7.8 ('base')",
   "language": "python",
   "name": "python3"
  },
  "language_info": {
   "codemirror_mode": {
    "name": "ipython",
    "version": 3
   },
   "file_extension": ".py",
   "mimetype": "text/x-python",
   "name": "python",
   "nbconvert_exporter": "python",
   "pygments_lexer": "ipython3",
   "version": "3.7.8"
  },
  "orig_nbformat": 4
 },
 "nbformat": 4,
 "nbformat_minor": 2
}
