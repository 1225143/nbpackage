{
 "cells": [
  {
   "cell_type": "markdown",
   "metadata": {},
   "source": [
    "## Scripts for geometry optimizations."
   ]
  },
  {
   "cell_type": "markdown",
   "metadata": {},
   "source": []
  },
  {
   "cell_type": "code",
   "execution_count": 1,
   "metadata": {},
   "outputs": [],
   "source": [
    "import numpy as np\n",
    "from ase.constraints import FixAtoms\n",
    "from ase.optimize import BFGS"
   ]
  },
  {
   "cell_type": "code",
   "execution_count": 3,
   "metadata": {},
   "outputs": [],
   "source": [
    "def myopt(\n",
    "    atoms,\n",
    "    fmax=0.05,\n",
    "    steps=1000,\n",
    "    maxstep=0.2,\n",
    "    logfile=None,\n",
    "    constraintatoms=[],\n",
    "    calculator=None,\n",
    "    verbose=False,\n",
    "    sn=10,\n",
    "):\n",
    "    sc = FixAtoms(indices=constraintatoms)\n",
    "    atoms.set_constraint(sc)\n",
    "    atoms.set_calculator(calculator)\n",
    "    if verbose:\n",
    "        de = -1 \n",
    "        step = 1\n",
    "        while (de < -0.01 or de > 0.01) and step < sn:\n",
    "            opt = BFGS (atoms, maxstep = 0.03 * (0.9 ** step), logfile = None)\n",
    "            old = atoms.get_potential_energy () \n",
    "            opt.run (fmax = 0.01, steps = 100)\n",
    "            maxf = np.sqrt (((atoms.get_forces ()) ** 2.0).sum (axis = 1).max ())\n",
    "            de = atoms.get_potential_energy() - old\n",
    "            print (\"after{}opt  pot:{:.4f}, maxforce:{:.4f}, delta:{:.4f}\".format (step * 100, atoms.get_potential_energy (), maxf, de))\n",
    "            step += 1\n",
    "    else:        \n",
    "        opt = BFGS(atoms, maxstep=maxstep, logfile=logfile)\n",
    "        opt.run(fmax, steps=steps)\n",
    "    return atoms\n"
   ]
  },
  {
   "cell_type": "code",
   "execution_count": null,
   "metadata": {},
   "outputs": [],
   "source": [
    "def myopt_surface (atoms, constraintatoms = [], sn = 10, calculator=None, vorbose=False): # constraint可能なopt関数の定義：最大100回のBFGS×sn回\n",
    "    sc = FixAtoms (indices = constraintatoms)\n",
    "    atoms.set_constraint (sc)\n",
    "    #m.set_calculator (calculator)\n",
    "    atoms.set_calculator (calculator)\n",
    "    \n",
    "    de = -1 \n",
    "    step = 1\n",
    "    while (de < -0.01 or de > 0.01) and step < sn:\n",
    "        opt = BFGS (atoms, maxstep = 0.03 * (0.9 ** step), logfile = None)\n",
    "        old = atoms.get_potential_energy () \n",
    "        opt.run (fmax = 0.01, steps = 100)\n",
    "        maxf = np.sqrt (((atoms.get_forces ()) ** 2.0).sum (axis = 1).max ())\n",
    "        de = atoms.get_potential_energy() - old\n",
    "        print (\"after{}opt  pot:{:.4f}, maxforce:{:.4f}, delta:{:.4f}\".format (step * 100, atoms.get_potential_energy (), maxf, de))\n",
    "        step += 1\n",
    "    return atoms"
   ]
  }
 ],
 "metadata": {
  "interpreter": {
   "hash": "40d3a090f54c6569ab1632332b64b2c03c39dcf918b08424e98f38b5ae0af88f"
  },
  "kernelspec": {
   "display_name": "Python 3.7.8 ('base')",
   "language": "python",
   "name": "python3"
  },
  "language_info": {
   "codemirror_mode": {
    "name": "ipython",
    "version": 3
   },
   "file_extension": ".py",
   "mimetype": "text/x-python",
   "name": "python",
   "nbconvert_exporter": "python",
   "pygments_lexer": "ipython3",
   "version": "3.7.8"
  },
  "orig_nbformat": 4
 },
 "nbformat": 4,
 "nbformat_minor": 2
}
