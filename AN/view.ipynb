{
 "cells": [
  {
   "cell_type": "markdown",
   "metadata": {},
   "source": [
    "## Scripts for visualization"
   ]
  },
  {
   "cell_type": "code",
   "execution_count": null,
   "metadata": {},
   "outputs": [],
   "source": [
    "import nglview as nv\n",
    "import numpy as np"
   ]
  },
  {
   "cell_type": "code",
   "execution_count": null,
   "metadata": {},
   "outputs": [],
   "source": [
    "\n",
    "\n",
    "def surview(atoms):\n",
    "    v = nv.show_ase(atoms, gui=False)\n",
    "    # v.control.zoom(-0.3)\n",
    "    v.control.spin([1, 0, 0], 3.141 * 1.4)\n",
    "    # v.control.spin ([0,1,0], 3.14)\n",
    "    v.add_representation(\n",
    "        repr_type=\"unitcell\",\n",
    "    )\n",
    "    if len(atoms) > 400:\n",
    "        v.add_representation(\n",
    "            repr_type=\"spacefill\",\n",
    "        )\n",
    "    v._remote_call(\"setSize\", args=[\"250px\", \"400px\"])\n",
    "    v.background = \"#161616\"\n",
    "    # add_xyz (v, atoms)\n",
    "    return v\n",
    "\n",
    "\n",
    "def add_xyz(view, atoms):\n",
    "    view.shape.add(\"text\", [0, 0, 0], [0.1, 0.5, 0.1], 4, \"   0, 0, 0\")\n",
    "    x = int(sum(atoms.cell[:, 0]))\n",
    "    y = int(sum(atoms.cell[:, 1]))\n",
    "    z = int(sum(atoms.cell[:, 2]))\n",
    "    view.shape.add(\n",
    "        \"text\", [x, y, z], [0.1, 0.5, 0.1], 4, str(x) + \",\" + str(y) + \",\" + str(z)\n",
    "    )\n",
    "\n",
    "\n",
    "def add_no(view, atoms, v=[]):\n",
    "    if v == []:\n",
    "        v = list(range(len(atoms)))\n",
    "        # v = list (range (10)) + list (range (len (atoms) - 20, len (atoms)))\n",
    "    for i, atom in enumerate(atoms):\n",
    "        if i in v:\n",
    "            view.shape.add(\n",
    "                \"text\", [atom.x, atom.y, atom.z], [0.1, 0.5, 0.1], 1, \" \" + str(i)\n",
    "            )\n",
    "\n",
    "\n",
    "def add_sym(view, atoms):\n",
    "    for i, atom in enumerate(atoms):\n",
    "        view.shape.add(\n",
    "            \"text\", [atom.x, atom.y, atom.z], [0.5, 0.5, 0.5], 1, atom.symbol\n",
    "        )\n",
    "\n",
    "\n",
    "def add_dis(view, atoms, a1, a2):\n",
    "    view.shape.add(\n",
    "        \"cylinder\",\n",
    "        [atoms[a1].x, atoms[a1].y, atoms[a1].z],\n",
    "        [atoms[a2].x, atoms[a2].y, atoms[a2].z],\n",
    "        [0.9, 0.1, 0.1],\n",
    "        0.05,\n",
    "    )\n",
    "    x = 0.5 * (atoms[a1].x + atoms[a2].x)\n",
    "    y = 0.5 * (atoms[a1].y + atoms[a2].y)\n",
    "    z = 0.5 * (atoms[a1].z + atoms[a2].z)\n",
    "    d = np.round(atoms.get_distance(a1, a2), 2)\n",
    "    view.shape.add(\"text\", [x, y, z], [0.9, 0.1, 0.1], 3, \" \" + str(d) + \"A\")\n",
    "\n"
   ]
  },
  {
   "cell_type": "markdown",
   "metadata": {},
   "source": []
  }
 ],
 "metadata": {
  "interpreter": {
   "hash": "40d3a090f54c6569ab1632332b64b2c03c39dcf918b08424e98f38b5ae0af88f"
  },
  "kernelspec": {
   "display_name": "Python 3.7.8 ('base')",
   "language": "python",
   "name": "python3"
  },
  "language_info": {
   "name": "python",
   "version": "3.7.8"
  },
  "orig_nbformat": 4
 },
 "nbformat": 4,
 "nbformat_minor": 2
}
