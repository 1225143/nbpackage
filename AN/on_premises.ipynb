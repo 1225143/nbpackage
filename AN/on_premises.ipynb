{
 "cells": [
  {
   "cell_type": "markdown",
   "metadata": {},
   "source": [
    "## On-premises specific scripts."
   ]
  },
  {
   "cell_type": "code",
   "execution_count": null,
   "metadata": {},
   "outputs": [],
   "source": [
    "\n",
    "def set_gpu(gpu=0):\n",
    "    \"\"\"Set \"CUDA_VISIBLE_DEVICES\" for allocating GPU memory.\n",
    "\n",
    "    GPU memory should be allocated before importing torch.\n",
    "    \"\"\"\n",
    "    if gpu is None:\n",
    "        gpu = 0\n",
    "        mem = 1e32\n",
    "        gpu_usage = get_gpu_usage()\n",
    "        for _idx, _mem in gpu_usage.items():\n",
    "            if _mem < mem:\n",
    "                mem = _mem\n",
    "                gpu = _idx\n",
    "\n",
    "    if hasattr(gpu, \"__len__\"):\n",
    "        gpu = \",\".join([f\"{_}\" for _ in gpu])\n",
    "    else:\n",
    "        gpu = str(gpu)\n",
    "\n",
    "    os.environ[\"CUDA_VISIBLE_DEVICES\"] = gpu\n",
    "    print(f\"GPU: {gpu}\")\n",
    "    return gpu\n",
    "\n",
    "\n",
    "def get_gpu_usage():\n",
    "    from subprocess import run, PIPE\n",
    "\n",
    "    # query = ','.join(['index', 'timestamp', 'name', 'utilization.gpu', 'utilization.memory']) # 'memory.used'])\n",
    "    # cmd = f'nvidia-smi --format=csv --query-gpu={query}'\n",
    "    counts = 10\n",
    "    #    cmd = f'nvidia-smi stats -c {counts} -d gpuUtil,memUtil'\n",
    "    cmd = f\"nvidia-smi stats -c {counts} -d memUtil\"\n",
    "    p = run(cmd.split(), stdout=PIPE, stderr=PIPE, text=True)\n",
    "    if p.returncode > 0:\n",
    "        return p\n",
    "\n",
    "    gpu = [_.split(\",\") for _ in p.stdout.splitlines()]\n",
    "    gpu_indices = set([int(_[0]) for _ in gpu])\n",
    "    gpuUtil = {_: [] for _ in gpu_indices}\n",
    "    for (_i, _stat, _t, _mem) in gpu:\n",
    "        gpuUtil[int(_i)].append(float(_mem))\n",
    "    for _i in gpu_indices:\n",
    "        gpuUtil[_i] = sum(gpuUtil[_i]) / len(gpuUtil[_i])\n",
    "    return gpuUtil\n"
   ]
  }
 ],
 "metadata": {
  "interpreter": {
   "hash": "40d3a090f54c6569ab1632332b64b2c03c39dcf918b08424e98f38b5ae0af88f"
  },
  "kernelspec": {
   "display_name": "Python 3.7.8 ('base')",
   "language": "python",
   "name": "python3"
  },
  "language_info": {
   "name": "python",
   "version": "3.7.8"
  },
  "orig_nbformat": 4
 },
 "nbformat": 4,
 "nbformat_minor": 2
}
