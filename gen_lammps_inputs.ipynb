{
 "cells": [
  {
   "cell_type": "markdown",
   "id": "88dcd90b-31f7-4900-9616-cc4be79705c4",
   "metadata": {},
   "source": [
    "# 分子の比熱を計算するスクリプト\n",
    "* gen_lammps_inputs.ipynb\n",
    "1. SMILESから分子生成\n",
    "2. LigParGenからOPLS取得\n",
    "3. OPLS formatのチェック・修正\n",
    "4. PFP-tuned OPLSの取得\n",
    "5. LAMMPS入力ファイルの生成\n",
    "\n",
    "* setup_lammps.ipynb\n",
    "6. LAMMPS実行フォルダの作成\n",
    "7. SMILES、JOB番号、生成日時、LAMMPS設定をメタデータとして保存\n",
    "8. LAMMPS入力ファイルを実行フォルダにコピー\n",
    "9. LAMMPS実行スクリプトの生成\n",
    "\n",
    "* run.ipynb\n",
    "10. LAMMPS実行\n",
    "11. LAMMPS終了の確認、異常終了-> 12､正常終了->13\n",
    "12. エラーの確認、原因を出力して終了（LAMMPS入力を修正して再実行）\n",
    "13. LAMMPS出力ファイルの読み込み、解析用データの保存\n",
    "\n",
    "* analyze.ipynb\n",
    "14. LAMMPS計算から比熱の計算\n",
    "15. 計算結果の解析\n",
    "\n"
   ]
  },
  {
   "cell_type": "code",
   "execution_count": 5,
   "id": "b8cfaf29-9a6d-4ddd-b491-36c0912186fc",
   "metadata": {},
   "outputs": [
    {
     "name": "stdout",
     "output_type": "stream",
     "text": [
      "['/home/jovyan/Jobs/01_EV_Coulant/20220524_specific_heats/nbpackage']\n",
      "importing Jupyter notebook from /home/jovyan/Jobs/01_EV_Coulant/20220524_specific_heats/nbpackage/nbpackage/AN/rwmol.ipynb\n",
      "importing Jupyter notebook from /home/jovyan/Jobs/01_EV_Coulant/20220524_specific_heats/nbpackage/nbpackage/AN/view.ipynb\n"
     ]
    },
    {
     "data": {
      "application/vnd.jupyter.widget-view+json": {
       "model_id": "ac18f56b4dea4124ae74b125b4588f7a",
       "version_major": 2,
       "version_minor": 0
      },
      "text/plain": []
     },
     "metadata": {},
     "output_type": "display_data"
    }
   ],
   "source": [
    "import os\n",
    "import sys\n",
    "import numpy as np\n",
    "import pandas as pd\n",
    "import matplotlib.pyplot as plt\n",
    "\n",
    "\n",
    "cwd = os.getcwd()\n",
    "rootdir = cwd.rsplit(\"jobs\", 1)[0]\n",
    "modulepaths = [os.path.join(rootdir, \"nbpackage\")]\n",
    "print(modulepaths)\n",
    "sys.path.extend(modulepaths)\n",
    "import nbpackage\n",
    "from nbpackage.AN import pfp\n",
    "from nbpackage.AN import opt\n",
    "from nbpackage.AN import ioutils\n",
    "from nbpackage.AN import rwmol\n",
    "from nbpackage.AN import view\n",
    "from nbpackage.AN import md"
   ]
  },
  {
   "cell_type": "code",
   "execution_count": 3,
   "id": "efbb8f8f-e966-4474-a5ed-203a5e078a52",
   "metadata": {},
   "outputs": [],
   "source": [
    "\n",
    "import ase\n",
    "from ase import Atoms, units\n",
    "from ase.constraints import ExpCellFilter\n",
    "from ase.visualize import view\n",
    "from ase.optimize import BFGS\n",
    "\n",
    "from pfp_api_client.pfp.calculators.ase_calculator import ASECalculator\n",
    "from pfp_api_client.pfp.estimator import Estimator\n",
    "\n",
    "estimator = Estimator()\n",
    "calculator = ASECalculator(estimator)"
   ]
  },
  {
   "cell_type": "markdown",
   "id": "bed53a29-a514-4f33-8320-c142d56539a3",
   "metadata": {},
   "source": [
    "1. SMILESから分子生成"
   ]
  },
  {
   "cell_type": "code",
   "execution_count": null,
   "id": "6b7d2f01-6521-4f05-a490-08bfd6951caf",
   "metadata": {},
   "outputs": [],
   "source": [
    "smileses = [\"CC\", \"CCc1ccc(cc1)C\"]\n",
    "rwmols = rwmol.get_rwmols_from_smiles(smiles=smileses)"
   ]
  },
  {
   "cell_type": "markdown",
   "id": "bf6b6b3b-406e-488e-8124-3f07e823588e",
   "metadata": {},
   "source": [
    "2. LigParGenからOPLS取得"
   ]
  },
  {
   "cell_type": "code",
   "execution_count": 1,
   "id": "1655593f-4ad3-48df-a58b-460f5f25f373",
   "metadata": {
    "tags": []
   },
   "outputs": [
    {
     "ename": "NameError",
     "evalue": "name 'smileses' is not defined",
     "output_type": "error",
     "traceback": [
      "\u001b[0;31m---------------------------------------------------------------------------\u001b[0m",
      "\u001b[0;31mNameError\u001b[0m                                 Traceback (most recent call last)",
      "\u001b[0;32m<ipython-input-1-2bee30ddfdb8>\u001b[0m in \u001b[0;36m<module>\u001b[0;34m\u001b[0m\n\u001b[1;32m      1\u001b[0m \u001b[0mlammpsdatafiles\u001b[0m \u001b[0;34m=\u001b[0m \u001b[0;34m[\u001b[0m\u001b[0;34m]\u001b[0m\u001b[0;34m\u001b[0m\u001b[0;34m\u001b[0m\u001b[0m\n\u001b[0;32m----> 2\u001b[0;31m \u001b[0;32mfor\u001b[0m \u001b[0mi\u001b[0m\u001b[0;34m,\u001b[0m \u001b[0ms\u001b[0m \u001b[0;32min\u001b[0m \u001b[0menumerate\u001b[0m\u001b[0;34m(\u001b[0m\u001b[0msmileses\u001b[0m\u001b[0;34m)\u001b[0m\u001b[0;34m:\u001b[0m\u001b[0;34m\u001b[0m\u001b[0;34m\u001b[0m\u001b[0m\n\u001b[0m\u001b[1;32m      3\u001b[0m     \u001b[0m_filename\u001b[0m \u001b[0;34m=\u001b[0m \u001b[0mf\u001b[0m\u001b[0;34m\u001b[0m\u001b[0;34m\u001b[0m\u001b[0m\n\u001b[1;32m      4\u001b[0m     \u001b[0mmd\u001b[0m\u001b[0;34m.\u001b[0m\u001b[0mligpargen\u001b[0m\u001b[0;34m.\u001b[0m\u001b[0mget_opls_from_smiles\u001b[0m\u001b[0;34m(\u001b[0m\u001b[0msmiles\u001b[0m\u001b[0;34m=\u001b[0m\u001b[0ms\u001b[0m\u001b[0;34m,\u001b[0m \u001b[0mformat\u001b[0m\u001b[0;34m=\u001b[0m\u001b[0;34m\"lammps\"\u001b[0m\u001b[0;34m,\u001b[0m \u001b[0mto\u001b[0m\u001b[0;34m=\u001b[0m\u001b[0;34mf\"{i}.data\"\u001b[0m\u001b[0;34m)\u001b[0m\u001b[0;34m\u001b[0m\u001b[0;34m\u001b[0m\u001b[0m\n\u001b[1;32m      5\u001b[0m     \u001b[0mlammpsdatafiles\u001b[0m\u001b[0;34m.\u001b[0m\u001b[0mappend\u001b[0m\u001b[0;34m(\u001b[0m\u001b[0m_filename\u001b[0m\u001b[0;34m)\u001b[0m\u001b[0;34m\u001b[0m\u001b[0;34m\u001b[0m\u001b[0m\n",
      "\u001b[0;31mNameError\u001b[0m: name 'smileses' is not defined"
     ]
    }
   ],
   "source": [
    "\n",
    "lammpsdatafiles = []\n",
    "for i, s in enumerate(smileses):\n",
    "    _filename = f\"{i}.data\"\n",
    "    md.ligpargen.get_opls_from_smiles(smiles=s, format=\"lammps\", to=_filename)\n",
    "    lammpsdatafiles.append(_filename)\n"
   ]
  },
  {
   "cell_type": "markdown",
   "id": "fbe33795-27d2-421a-8418-d1d4e82a1b53",
   "metadata": {},
   "source": [
    "3. OPLSフォーマットの確認・修正 "
   ]
  },
  {
   "cell_type": "code",
   "execution_count": null,
   "id": "31b4f7e1-bb24-4266-9ec8-722073e28f6c",
   "metadata": {},
   "outputs": [],
   "source": [
    "\n",
    "for _filename in lammpsdatafiles:\n",
    "    _lines = md.lammps.check_ligpargen_format(_filename)\n",
    "    with open(_filename, \"w\") as g:\n",
    "        g.write(\"\\n\".join(_lines) + \"\\n\")\n"
   ]
  },
  {
   "cell_type": "markdown",
   "id": "c0ad611c-af73-4109-a3ca-6156974db6e9",
   "metadata": {},
   "source": [
    "4. PFP-tuned OPLS取得"
   ]
  },
  {
   "cell_type": "code",
   "execution_count": 2,
   "id": "581bfbf5-ef69-4c0c-90fd-6b8d6fddf8a1",
   "metadata": {},
   "outputs": [
    {
     "ename": "SyntaxError",
     "evalue": "EOL while scanning string literal (<ipython-input-2-a4bae17df178>, line 4)",
     "output_type": "error",
     "traceback": [
      "\u001b[0;36m  File \u001b[0;32m\"<ipython-input-2-a4bae17df178>\"\u001b[0;36m, line \u001b[0;32m4\u001b[0m\n\u001b[0;31m    _filename = f\"{_filename[0]}__filename[1]\u001b[0m\n\u001b[0m                                             ^\u001b[0m\n\u001b[0;31mSyntaxError\u001b[0m\u001b[0;31m:\u001b[0m EOL while scanning string literal\n"
     ]
    }
   ],
   "source": [
    "filenames = []\n",
    "for _filename in lammpsdatafiles:\n",
    "    _filename = os.path.splitext(_filename)\n",
    "    _filename = f\"{_filename[0]}_pfpfit{_filename[1]}\"\n",
    "    md.refine_opls_via_pfp(_filename, to=_filename)\n",
    "    filenames.append(_filename)"
   ]
  },
  {
   "cell_type": "markdown",
   "id": "ac4f280b-0eee-4434-acdd-8143ebf12857",
   "metadata": {},
   "source": [
    "5. LAMMPS入力ファイルの作成"
   ]
  },
  {
   "cell_type": "code",
   "execution_count": null,
   "id": "41bc624f-cb8c-4e94-99f3-e0d720e2847b",
   "metadata": {},
   "outputs": [],
   "source": []
  }
 ],
 "metadata": {
  "kernelspec": {
   "display_name": "Python 3.7",
   "language": "python",
   "name": "python37"
  },
  "language_info": {
   "codemirror_mode": {
    "name": "ipython",
    "version": 3
   },
   "file_extension": ".py",
   "mimetype": "text/x-python",
   "name": "python",
   "nbconvert_exporter": "python",
   "pygments_lexer": "ipython3",
   "version": "3.7.13"
  }
 },
 "nbformat": 4,
 "nbformat_minor": 5
}
